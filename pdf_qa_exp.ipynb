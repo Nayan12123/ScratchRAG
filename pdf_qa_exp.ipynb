{
 "cells": [
  {
   "cell_type": "code",
   "execution_count": 2,
   "metadata": {},
   "outputs": [
    {
     "name": "stdout",
     "output_type": "stream",
     "text": [
      "Started parsing the file under job_id 48030399-3853-4f4c-b3b4-5f2eef7a9276\n"
     ]
    }
   ],
   "source": [
    "from dotenv import load_dotenv\n",
    "from llama_parse import LlamaParse\n",
    "from llama_index.core import SimpleDirectoryReader\n",
    "import os\n",
    "import nest_asyncio \n",
    "nest_asyncio.apply()\n",
    "load_dotenv('keys.env')\n",
    "LLAMA_CLOUD_API_KEY = os.getenv(\"LLAMA_CLOUD_API_KEY\")\n",
    "parser = LlamaParse(\n",
    "    result_type=\"markdown\", \n",
    "    api_key=LLAMA_CLOUD_API_KEY\n",
    "\n",
    ")\n",
    "\n",
    "# use SimpleDirectoryReader to parse our file\n",
    "# file_extractor = {\".pdf\": parser}\n",
    "documents = parser.load_data(\"./pdfs/GPT - Expense Reimbursement Policy.pdf\")\n",
    "# documents = SimpleDirectoryReader(input_files=['pdfs/GPT- ESOPS policy.pdf'], file_extractor=file_extractor).load_data()\n",
    "# print(documents)"
   ]
  },
  {
   "cell_type": "code",
   "execution_count": 4,
   "metadata": {},
   "outputs": [
    {
     "name": "stdout",
     "output_type": "stream",
     "text": [
      "Started parsing the file under job_id 9d577aa1-1c9d-4507-a1b8-6ccc1a47a208\n"
     ]
    }
   ],
   "source": [
    "from llama_parse import LlamaParse\n",
    "\n",
    "parser = LlamaParse(verbose=True,api_key=LLAMA_CLOUD_API_KEY,num_workers=4)\n",
    "json_objs = parser.get_json_result(\"./pdfs/GPT - Expense Reimbursement Policy.pdf\")\n",
    "json_list = json_objs[0][\"pages\"]"
   ]
  },
  {
   "cell_type": "code",
   "execution_count": null,
   "metadata": {},
   "outputs": [],
   "source": [
    "def find_all_key_paths(data, path=None):\n",
    "    if path is None:\n",
    "        path = []\n",
    "    \n",
    "    all_paths = []\n",
    "    \n",
    "    for key, value in data.items():\n",
    "        current_path = path + [key]\n",
    "        all_paths.append(current_path)\n",
    "        \n",
    "        if isinstance(value, dict):\n",
    "            all_paths.extend(find_all_key_paths(value, current_path))\n",
    "    \n",
    "    return all_paths\n",
    "\n",
    "# Example usage\n",
    "json_data = {\n",
    "    'Employee Stock Options Policy': {\n",
    "        '1. Introduction': {\n",
    "            '1.1 Purpose': {}, \n",
    "            '1.2 Scope': {}\n",
    "        },\n",
    "        '2. Eligibility': {\n",
    "            '2.1 Criteria': {}, \n",
    "            '2.2 Participation': {}\n",
    "        },\n",
    "        '3. Stock Option Granting': {\n",
    "            '3.1 Granting Process': {}, \n",
    "            '3.2 Grant Schedule': {}, \n",
    "            '3.3 Vesting Schedule': {}\n",
    "        },\n",
    "        '4. Stock Option Exercise': {\n",
    "            '4.1 Exercise Price': {}, \n",
    "            '4.2 Exercise Window': {}, \n",
    "            '4.3 Payment and Tax Obligations': {}\n",
    "        },\n",
    "        '5. Stock Option Termination': {\n",
    "            '5.1 Termination Impact': {}, \n",
    "            '5.2 Retirement': {}\n",
    "        },\n",
    "        '6. Administration': {},\n",
    "        '7. Disclaimer': {}\n",
    "    }\n",
    "}\n",
    "\n",
    "key_paths = find_all_key_paths(json_data)\n",
    "for path in key_paths:\n",
    "    print(\" -> \".join(path))\n"
   ]
  },
  {
   "cell_type": "code",
   "execution_count": 1,
   "metadata": {},
   "outputs": [],
   "source": [
    "paths = {}\n",
    "\n",
    "def traverse_json(json_obj, path=\"\"):\n",
    "    if isinstance(json_obj, dict):\n",
    "        for key, value in json_obj.items():\n",
    "            new_path = f\"{path}/{key}\" if path else key\n",
    "            paths[key] = new_path\n",
    "            traverse_json(value, new_path)\n",
    "\n",
    "# Example JSON structure\n",
    "json_structure = {\n",
    "    \"Expense Reimbursement Policy\": {\n",
    "        \"1. Introduction\": {},\n",
    "        \"2. Purpose\": {},\n",
    "        \"3. Policy Guidelines\": {\n",
    "            \"3.1 Eligible Expenses\": {\n",
    "                \"3.1.1 Eligible Expenses\":{}\n",
    "            },\n",
    "            \"3.2 Submission of Expense Claims\": {},\n",
    "            \"3.3 Approval Process\": {},\n",
    "            \"3.4 Maximum Reimbursement Limits\": {},\n",
    "            \"3.5 Prohibited Expenses\": {}\n",
    "        },\n",
    "        \"4. Reimbursement Process\": {\n",
    "            \"4.1 Timely Reimbursement\": {},\n",
    "            \"4.2 Currency and Exchange Rates\": {},\n",
    "            \"4.3 Payment Methods\": {}\n",
    "        },\n",
    "        \"5. Compliance and Monitoring\": {},\n",
    "        \"6. Policy Review and Updates\": {}\n",
    "    },\n",
    "    \"Conclusion\": {}\n",
    "}\n",
    "\n",
    "# Call the function\n",
    "traverse_json(json_structure)\n"
   ]
  },
  {
   "cell_type": "code",
   "execution_count": 26,
   "metadata": {},
   "outputs": [
    {
     "data": {
      "text/plain": [
       "{'Expense Reimbursement Policy': 'Expense Reimbursement Policy',\n",
       " '1. Introduction': 'Expense Reimbursement Policy/1. Introduction',\n",
       " '2. Purpose': 'Expense Reimbursement Policy/2. Purpose',\n",
       " '3. Policy Guidelines': 'Expense Reimbursement Policy/3. Policy Guidelines',\n",
       " '3.1 Eligible Expenses': 'Expense Reimbursement Policy/3. Policy Guidelines/3.1 Eligible Expenses',\n",
       " '3.1.1 Eligible Expenses': 'Expense Reimbursement Policy/3. Policy Guidelines/3.1 Eligible Expenses/3.1.1 Eligible Expenses',\n",
       " '3.2 Submission of Expense Claims': 'Expense Reimbursement Policy/3. Policy Guidelines/3.2 Submission of Expense Claims',\n",
       " '3.3 Approval Process': 'Expense Reimbursement Policy/3. Policy Guidelines/3.3 Approval Process',\n",
       " '3.4 Maximum Reimbursement Limits': 'Expense Reimbursement Policy/3. Policy Guidelines/3.4 Maximum Reimbursement Limits',\n",
       " '3.5 Prohibited Expenses': 'Expense Reimbursement Policy/3. Policy Guidelines/3.5 Prohibited Expenses',\n",
       " '4. Reimbursement Process': 'Expense Reimbursement Policy/4. Reimbursement Process',\n",
       " '4.1 Timely Reimbursement': 'Expense Reimbursement Policy/4. Reimbursement Process/4.1 Timely Reimbursement',\n",
       " '4.2 Currency and Exchange Rates': 'Expense Reimbursement Policy/4. Reimbursement Process/4.2 Currency and Exchange Rates',\n",
       " '4.3 Payment Methods': 'Expense Reimbursement Policy/4. Reimbursement Process/4.3 Payment Methods',\n",
       " '5. Compliance and Monitoring': 'Expense Reimbursement Policy/5. Compliance and Monitoring',\n",
       " '6. Policy Review and Updates': 'Expense Reimbursement Policy/6. Policy Review and Updates',\n",
       " 'Conclusion': 'Conclusion'}"
      ]
     },
     "execution_count": 26,
     "metadata": {},
     "output_type": "execute_result"
    }
   ],
   "source": [
    "paths"
   ]
  },
  {
   "cell_type": "code",
   "execution_count": 28,
   "metadata": {},
   "outputs": [
    {
     "data": {
      "text/plain": [
       "[{'text_value': 'At simpplr, we understand that employees may incur expenses while performing their job responsibilities. This Expense Reimbursement Policy outlines the guidelines and procedures for reimbursing employees for legitimate business expenses. It is crucial for all employees to familiarize themselves with this policy to ensure compliance and fair reimbursement practices.',\n",
       "  'nearest_heading': '1. Introduction'},\n",
       " {'text_value': 'The purpose of this policy is to establish a consistent and fair process for employees to be reimbursed for eligible expenses incurred during the course of their employment with simpplr. The policy aims to maintain transparency, minimize the likelihood of fraudulent claims, and align with relevant legal and tax regulations.',\n",
       "  'nearest_heading': '2. Purpose'},\n",
       " {'text_value': \"Eligible expenses are those that are reasonable, necessary, and directly related to the employee's job responsibilities and business objectives of simpplr. This may include but is not limited to:\\n\\n- Travel and accommodation expenses: including airfare, accommodation, transportation, meals, and other necessary travel-related expenses, subject to pre-approval as per company policy.\\n- Office supplies and equipment: office stationery, technology, software, and other supplies required to carry out job responsibilities.\\n- Communication expenses: mobile phone bills, internet connection charges, and other communication-related expenses, subject to reasonable usage and approval.\\n- Professional development: expenses related to job-related conferences, seminars, training programs, workshops, and certifications, subject to approval.\",\n",
       "  'nearest_heading': '3.1 Eligible Expenses'},\n",
       " {'text_value': 'Employees are required to submit expense claims within a reasonable timeframe, typically within 30 calendar days of incurring the expense. The expense claims must include appropriate documentation such as receipts, invoices, travel itineraries, or any other supporting documents as required by the company.',\n",
       "  'nearest_heading': '3.2 Submission of Expense Claims'},\n",
       " {'text_value': \"Expense claims must be approved by the employee's immediate supervisor or designated approver according to the company's expense approval hierarchy. Approvers should ensure that the expenses comply with the policy guidelines and accurately reflect the work-related nature of the incurred expenses.\",\n",
       "  'nearest_heading': '3.3 Approval Process'},\n",
       " {'text_value': 'Certain expenses are not reimbursable by simpplr. These may include personal expenses unrelated to work, fines and penalties, unauthorized purchases, or any expenses that violate company policies or local regulations. It is the responsibility of the employee to ensure that only eligible expenses are claimed.',\n",
       "  'nearest_heading': '3.5 Prohibited Expenses'},\n",
       " {'text_value': 'simpplr aims to reimburse employees for eligible expenses as quickly as possible after the submission and approval of expense claims. Reimbursements will be processed in the next payroll cycle or through the designated reimbursement process.',\n",
       "  'nearest_heading': '4.1 Timely Reimbursement'},\n",
       " {'text_value': 'Expense claims should be submitted in the same currency as the original transaction. For expenses incurred in foreign currency, the reimbursement will be based on the exchange rate applicable on the date of the transaction.',\n",
       "  'nearest_heading': '4.2 Currency and Exchange Rates'},\n",
       " {'text_value': \"Reimbursements can be made through electronic fund transfers to the employee's designated bank account or any other approved payment method established by the company.\",\n",
       "  'nearest_heading': '4.3 Payment Methods'},\n",
       " {'text_value': 'simpplr reserves the right to periodically audit expense claims to ensure compliance with this policy. Non-compliance or fraudulent claims may result in disciplinary action, including monetary reimbursement and potential termination of employment.',\n",
       "  'nearest_heading': '5. Compliance and Monitoring'},\n",
       " {'text_value': \"This Expense Reimbursement Policy will be reviewed and updated on a regular basis to ensure compliance with changing laws, regulations, and business requirements. Any updates or revisions to the policy will be communicated to all employees through the company's intranet, email, or other appropriate channels.\",\n",
       "  'nearest_heading': '6. Policy Review and Updates'},\n",
       " {'text_value': \"simpplr recognizes and appreciates the efforts made by employees to fulfill their job responsibilities. This Expense Reimbursement Policy establishes a framework for fair and consistent reimbursement of legitimate expenses, reinforcing simpplr's commitment to maintaining transparency, fiscal responsibility, and compliance. By adhering to this policy, employees can ensure they are reimbursed for eligible expenses incurred during the course of their employment with simpplr.\",\n",
       "  'nearest_heading': 'Conclusion'}]"
      ]
     },
     "execution_count": 28,
     "metadata": {},
     "output_type": "execute_result"
    }
   ],
   "source": [
    "def extract_text_and_heading(json_list):\n",
    "    result = []\n",
    "    last_heading = None \n",
    "    for obj in json_list:\n",
    "        if obj.get('type') == 'heading':\n",
    "            last_heading = obj.get('value')\n",
    "        if obj.get('type') == 'text':\n",
    "            text_value = obj.get('value')\n",
    "            result.append({\n",
    "                'text_value': text_value,\n",
    "                'nearest_heading': last_heading\n",
    "            })\n",
    "    return result\n",
    "\n",
    "new_list = []\n",
    "# for item_list in json_list:\n",
    "#     item_list = item_list\n",
    "for i in json_list:\n",
    "    new_list.extend(i['items'])\n",
    "extract_text_and_heading(new_list)"
   ]
  },
  {
   "cell_type": "code",
   "execution_count": 6,
   "metadata": {},
   "outputs": [
    {
     "name": "stdout",
     "output_type": "stream",
     "text": [
      "tensor([[0.9769]])\n"
     ]
    }
   ],
   "source": [
    "# Requires sentence_transformers>=2.7.0\n",
    "\n",
    "from sentence_transformers import SentenceTransformer\n",
    "from sentence_transformers.util import cos_sim\n",
    "\n",
    "sentences = ['That is a happy person', 'That is a very happy person']\n",
    "\n",
    "model = SentenceTransformer('Alibaba-NLP/gte-large-en-v1.5', trust_remote_code=True)\n",
    "embeddings = model.encode(sentences)\n",
    "print(cos_sim(embeddings[0], embeddings[1]))\n"
   ]
  },
  {
   "cell_type": "code",
   "execution_count": 11,
   "metadata": {},
   "outputs": [
    {
     "ename": "IndexError",
     "evalue": "list index out of range",
     "output_type": "error",
     "traceback": [
      "\u001b[0;31m---------------------------------------------------------------------------\u001b[0m",
      "\u001b[0;31mIndexError\u001b[0m                                Traceback (most recent call last)",
      "Cell \u001b[0;32mIn[11], line 1\u001b[0m\n\u001b[0;32m----> 1\u001b[0m \u001b[39mlen\u001b[39m(embeddings\u001b[39m.\u001b[39;49mtolist()[\u001b[39m2\u001b[39;49m])\n",
      "\u001b[0;31mIndexError\u001b[0m: list index out of range"
     ]
    }
   ],
   "source": [
    "len(embeddings.tolist()[2])"
   ]
  },
  {
   "cell_type": "code",
   "execution_count": 29,
   "metadata": {},
   "outputs": [
    {
     "name": "stdout",
     "output_type": "stream",
     "text": [
      "Started parsing the file under job_id 42b9c441-bd21-4e38-9429-4a2fecf15c29\n",
      "================================dict =======================================================\n",
      "[{'text_value': 'This policy outlines the guidelines and procedures for granting and managing employee stock options at Simpplr. The purpose is to provide employees with an additional incentive and reward for their loyalty, commitment, and contribution towards the growth and success of the organization.', 'nearest_heading': '1.1 Purpose'}, {'text_value': 'This policy applies to all full-time employees of Simpplr who meet the eligibility criteria and are selected to participate in the employee stock option program.', 'nearest_heading': '1.2 Scope'}, {'text_value': 'Employees who have completed a minimum of one year of continuous service with Simpplr and are in good standing are eligible to participate in the employee stock option program.', 'nearest_heading': '2.1 Criteria'}, {'text_value': 'Participation in the employee stock option program is voluntary, and eligible employees must indicate their interest within a specified deadline communicated by the Human Resources department.', 'nearest_heading': '2.2 Participation'}, {'text_value': \"The granting of stock options will be based on various factors such as employee performance, contribution to the company's objectives, and potential for future success. The grant of stock options will be approved by the executive management team and the Board of Directors.\", 'nearest_heading': '3.1 Granting Process'}, {'text_value': \"Stock options may be granted on an annual basis, during a specific time period, or as determined by the company's discretion. The specific number of options and the terms of each grant will be communicated to eligible employees at the time of the grant.\", 'nearest_heading': '3.2 Grant Schedule'}, {'text_value': 'Stock options will be subject to a vesting schedule to promote long-term tenure and engagement. The vesting period will be determined at the time of grant and will follow the guidelines set by the company. Vesting schedules will typically range from three to five years, with a gradual vesting of options over the defined period.', 'nearest_heading': 'Stock Options'}, {'text_value': \"The exercise price of stock options will be set based on the fair market value of the company's stock on the date of grant, as determined by an independent appraiser or as per legal requirements.\", 'nearest_heading': '4.1 Exercise Price'}, {'text_value': \"Employees may exercise their vested stock options within a specified exercise window, which will be communicated at the time of the grant. The exercise window will typically be within a specific time frame following the employee's termination or retirement, to allow for a smooth transition and avoid market manipulation.\", 'nearest_heading': '4.2 Exercise Window'}, {'text_value': 'Upon exercise, employees will be required to pay the exercise price for each stock option exercised. Appropriate tax withholding will be applied as per applicable legal requirements. Employees are responsible for any tax obligations resulting from the exercise of stock options.', 'nearest_heading': '4.3 Payment and Tax Obligations'}, {'text_value': 'In the event of termination, stock options that have not yet vested will be forfeited, unless otherwise specified in the grant agreement or governed by legal requirements.', 'nearest_heading': '5.1 Termination Impact'}, {'text_value': 'Upon retirement, employees may have an extended exercise period for vested options, subject to the terms and conditions as determined in the grant agreement.', 'nearest_heading': '5.2 Retirement'}, {'text_value': 'The Human Resources department will oversee the administration of the employee stock option program, including communication, grant coordination, record-keeping, and liaising with external.', 'nearest_heading': '6. Administration'}, {'text_value': 'This policy is not a contract of employment and does not guarantee any future grants or benefits. Simpplr reserves the right to modify, suspend, or terminate the employee stock option program or any individual grant at its sole discretion.\\n\\nPlease note that the above policy is a general framework and should be customized to meet the specific needs and legal requirements of Simpplr. It is recommended to consult with legal counsel or experts in employee stock options while implementing the policy.', 'nearest_heading': '7. Disclaimer'}]\n",
      "=================================doc structure======================================================\n",
      "{\n",
      "  \"Employee Stock Options Policy\": {\n",
      "    \"1. Introduction\": {\n",
      "      \"1.1 Purpose\": {},\n",
      "      \"1.2 Scope\": {}\n",
      "    },\n",
      "    \"2. Eligibility\": {\n",
      "      \"2.1 Criteria\": {},\n",
      "      \"2.2 Participation\": {}\n",
      "    },\n",
      "    \"3. Stock Option Granting\": {\n",
      "      \"3.1 Granting Process\": {},\n",
      "      \"3.2 Grant Schedule\": {},\n",
      "      \"3.3 Vesting Schedule\": {}\n",
      "    },\n",
      "    \"4. Stock Option Exercise\": {\n",
      "      \"4.1 Exercise Price\": {},\n",
      "      \"4.2 Exercise Window\": {},\n",
      "      \"4.3 Payment and Tax Obligations\": {}\n",
      "    },\n",
      "    \"5. Stock Option Termination\": {\n",
      "      \"5.1 Termination Impact\": {},\n",
      "      \"5.2 Retirement\": {}\n",
      "    },\n",
      "    \"6. Administration\": {},\n",
      "    \"7. Disclaimer\": {}\n",
      "  }\n",
      "}\n",
      "{\n",
      "  \"Employee Stock Options Policy\": {\n",
      "    \"1. Introduction\": {\n",
      "      \"1.1 Purpose\": {},\n",
      "      \"1.2 Scope\": {}\n",
      "    },\n",
      "    \"2. Eligibility\": {\n",
      "      \"2.1 Criteria\": {},\n",
      "      \"2.2 Participation\": {}\n",
      "    },\n",
      "    \"3. Stock Option Granting\": {\n",
      "      \"3.1 Granting Process\": {},\n",
      "      \"3.2 Grant Schedule\": {},\n",
      "      \"3.3 Vesting Schedule\": {}\n",
      "    },\n",
      "    \"4. Stock Option Exercise\": {\n",
      "      \"4.1 Exercise Price\": {},\n",
      "      \"4.2 Exercise Window\": {},\n",
      "      \"4.3 Payment and Tax Obligations\": {}\n",
      "    },\n",
      "    \"5. Stock Option Termination\": {\n",
      "      \"5.1 Termination Impact\": {},\n",
      "      \"5.2 Retirement\": {}\n",
      "    },\n",
      "    \"6. Administration\": {},\n",
      "    \"7. Disclaimer\": {}\n",
      "  }\n",
      "}\n"
     ]
    },
    {
     "ename": "TypeError",
     "evalue": "string indices must be integers",
     "output_type": "error",
     "traceback": [
      "\u001b[0;31m---------------------------------------------------------------------------\u001b[0m",
      "\u001b[0;31mTypeError\u001b[0m                                 Traceback (most recent call last)",
      "Cell \u001b[0;32mIn[29], line 94\u001b[0m\n\u001b[1;32m     92\u001b[0m heading_structure \u001b[38;5;241m=\u001b[39m get_document_structure(json_list)\n\u001b[1;32m     93\u001b[0m \u001b[38;5;28mprint\u001b[39m(heading_structure)\n\u001b[0;32m---> 94\u001b[0m text_heading_dict_list \u001b[38;5;241m=\u001b[39m \u001b[43madd_path\u001b[49m\u001b[43m(\u001b[49m\u001b[43mtext_heading_dict_list\u001b[49m\u001b[43m,\u001b[49m\u001b[43mheading_structure\u001b[49m\u001b[43m)\u001b[49m\n\u001b[1;32m     95\u001b[0m \u001b[38;5;28mprint\u001b[39m(text_heading_dict_list)\n",
      "Cell \u001b[0;32mIn[29], line 77\u001b[0m, in \u001b[0;36madd_path\u001b[0;34m(result_list, path_dict)\u001b[0m\n\u001b[1;32m     75\u001b[0m \u001b[38;5;28;01mfor\u001b[39;00m ele \u001b[38;5;129;01min\u001b[39;00m result_list:\n\u001b[1;32m     76\u001b[0m     val  \u001b[38;5;241m=\u001b[39m ele[\u001b[38;5;124m'\u001b[39m\u001b[38;5;124mnearest_heading\u001b[39m\u001b[38;5;124m'\u001b[39m]\n\u001b[0;32m---> 77\u001b[0m     ele[\u001b[38;5;124m'\u001b[39m\u001b[38;5;124mpath\u001b[39m\u001b[38;5;124m'\u001b[39m] \u001b[38;5;241m=\u001b[39m \u001b[43mpath_dict\u001b[49m\u001b[43m[\u001b[49m\u001b[43mval\u001b[49m\u001b[43m]\u001b[49m\n\u001b[1;32m     78\u001b[0m \u001b[38;5;28;01mreturn\u001b[39;00m result_list\n",
      "\u001b[0;31mTypeError\u001b[0m: string indices must be integers"
     ]
    }
   ],
   "source": [
    "from dotenv import load_dotenv\n",
    "from llama_parse import LlamaParse\n",
    "from llama_index.core import SimpleDirectoryReader\n",
    "import os\n",
    "import nest_asyncio \n",
    "from openai import OpenAI\n",
    "nest_asyncio.apply()\n",
    "paths = {}\n",
    "\n",
    "\n",
    "def get_llm_JSONresponse(prompt, sys_prompt,temp=0.2, model_name=\"gpt-4o-mini\"):\n",
    "    answer = client.chat.completions.create(\n",
    "        model=model_name,\n",
    "        messages=[\n",
    "          {\"role\": \"system\", \"content\": sys_prompt},\n",
    "          {\"role\": \"user\", \"content\": prompt}\n",
    "        ],\n",
    "        temperature=temp,\n",
    "        frequency_penalty=0,\n",
    "        presence_penalty=0,\n",
    "        response_format={ \"type\": \"json_object\" },\n",
    "        n=1,\n",
    "    )\n",
    "    return answer.choices[0].message.content\n",
    "\n",
    "def find_key_path(data, target_key, path=None):\n",
    "    if path is None:\n",
    "        path = []\n",
    "    for key, value in data.items():\n",
    "        current_path = path + [key]\n",
    "        if key == target_key:\n",
    "            return current_path\n",
    "        if isinstance(value, dict):\n",
    "            result = find_key_path(value, target_key, current_path)\n",
    "            if result:\n",
    "                return result\n",
    "    return None      \n",
    "\n",
    "def get_document_structure(json_list):\n",
    "    heading_list = []\n",
    "    for item_list in json_list:\n",
    "        item_list = item_list['items']\n",
    "        for i in item_list:\n",
    "            if i['type']==\"heading\":\n",
    "                heading_list.append(i['value'])\n",
    "    sys_prompt = \"\"\"You are a smart Assistant who can follow and obtain the outputs by following the given intructions\"\"\"\n",
    "    prompt = f\"\"\"\n",
    "You are given a python list of headings obtained from the document, obtain the document structure in json format using the headings list. \n",
    "Headings List: {heading_list}\n",
    "Here is the final structure of the document:\n",
    "    \"\"\"\n",
    "    headings_structure = get_llm_JSONresponse(prompt, sys_prompt)\n",
    "    print(headings_structure)\n",
    "    return headings_structure\n",
    "\n",
    "def extract_text_and_heading(json_list):\n",
    "    result = []\n",
    "    last_heading = None \n",
    "    new_list = []\n",
    "    for i in json_list:\n",
    "        new_list.extend(i['items'])\n",
    "    for obj in new_list:\n",
    "        if obj.get('type') == 'heading':\n",
    "            last_heading = obj.get('value')\n",
    "        if obj.get('type') == 'text':\n",
    "            text_value = obj.get('value')\n",
    "            result.append({\n",
    "                'text_value': text_value,\n",
    "                'nearest_heading': last_heading\n",
    "            })\n",
    "    return result\n",
    "\n",
    "def add_path(result_list,path_dict) :\n",
    "    new_list = []\n",
    "    for ele in result_list:\n",
    "        val  = ele['nearest_heading']\n",
    "        ele['path'] = path_dict[val]\n",
    "    return result_list\n",
    "\n",
    "load_dotenv('keys.env')\n",
    "LLAMA_CLOUD_API_KEY = os.getenv(\"LLAMA_CLOUD_API_KEY\")\n",
    "OPENAI_API_KEY = os.getenv('OPENAI_API_KEY')\n",
    "client = OpenAI(api_key = OPENAI_API_KEY)\n",
    "parser = LlamaParse(verbose=True,api_key=LLAMA_CLOUD_API_KEY,num_workers=4)\n",
    "filename = \"/home/nayanc/Desktop/pdf_qa/pdfs/GPT- ESOPS policy.pdf\"\n",
    "json_objs = parser.get_json_result(filename)\n",
    "json_list = json_objs[0][\"pages\"]\n",
    "text_heading_dict_list = extract_text_and_heading(json_list)\n",
    "print(\"================================dict =======================================================\")\n",
    "print(text_heading_dict_list)\n",
    "print(\"=================================doc structure======================================================\")\n",
    "heading_structure = get_document_structure(json_list)\n",
    "print(heading_structure)\n",
    "text_heading_dict_list = add_path(text_heading_dict_list,heading_structure)\n",
    "print(text_heading_dict_list)\n",
    "\n",
    "\n",
    "\n",
    "\n"
   ]
  },
  {
   "cell_type": "code",
   "execution_count": 32,
   "metadata": {},
   "outputs": [
    {
     "data": {
      "text/plain": [
       "'{\\n  \"Employee Stock Options Policy\": {\\n    \"1. Introduction\": {\\n      \"1.1 Purpose\": {},\\n      \"1.2 Scope\": {}\\n    },\\n    \"2. Eligibility\": {\\n      \"2.1 Criteria\": {},\\n      \"2.2 Participation\": {}\\n    },\\n    \"3. Stock Option Granting\": {\\n      \"3.1 Granting Process\": {},\\n      \"3.2 Grant Schedule\": {},\\n      \"3.3 Vesting Schedule\": {}\\n    },\\n    \"4. Stock Option Exercise\": {\\n      \"4.1 Exercise Price\": {},\\n      \"4.2 Exercise Window\": {},\\n      \"4.3 Payment and Tax Obligations\": {}\\n    },\\n    \"5. Stock Option Termination\": {\\n      \"5.1 Termination Impact\": {},\\n      \"5.2 Retirement\": {}\\n    },\\n    \"6. Administration\": {},\\n    \"7. Disclaimer\": {}\\n  }\\n}'"
      ]
     },
     "execution_count": 32,
     "metadata": {},
     "output_type": "execute_result"
    }
   ],
   "source": [
    "heading_structure"
   ]
  },
  {
   "cell_type": "code",
   "execution_count": 33,
   "metadata": {},
   "outputs": [
    {
     "name": "stdout",
     "output_type": "stream",
     "text": [
      "{'Employee Stock Options Policy': {'1. Introduction': {'1.1 Purpose': {}, '1.2 Scope': {}}, '2. Eligibility': {'2.1 Criteria': {}, '2.2 Participation': {}}, '3. Stock Option Granting': {'3.1 Granting Process': {}, '3.2 Grant Schedule': {}, '3.3 Vesting Schedule': {}}, '4. Stock Option Exercise': {'4.1 Exercise Price': {}, '4.2 Exercise Window': {}, '4.3 Payment and Tax Obligations': {}}, '5. Stock Option Termination': {'5.1 Termination Impact': {}, '5.2 Retirement': {}}, '6. Administration': {}, '7. Disclaimer': {}}}\n"
     ]
    }
   ],
   "source": [
    "import json\n",
    "\n",
    "print(json.loads(heading_structure))"
   ]
  },
  {
   "cell_type": "code",
   "execution_count": 3,
   "metadata": {},
   "outputs": [
    {
     "ename": "ModuleNotFoundError",
     "evalue": "No module named 'dotenv'",
     "output_type": "error",
     "traceback": [
      "\u001b[0;31m---------------------------------------------------------------------------\u001b[0m",
      "\u001b[0;31mModuleNotFoundError\u001b[0m                       Traceback (most recent call last)",
      "Cell \u001b[0;32mIn[3], line 1\u001b[0m\n\u001b[0;32m----> 1\u001b[0m \u001b[39mfrom\u001b[39;00m \u001b[39mdotenv\u001b[39;00m \u001b[39mimport\u001b[39;00m load_dotenv\n\u001b[1;32m      2\u001b[0m \u001b[39mfrom\u001b[39;00m \u001b[39mllama_parse\u001b[39;00m \u001b[39mimport\u001b[39;00m LlamaParse\n\u001b[1;32m      3\u001b[0m \u001b[39mfrom\u001b[39;00m \u001b[39mllama_index\u001b[39;00m\u001b[39m.\u001b[39;00m\u001b[39mcore\u001b[39;00m \u001b[39mimport\u001b[39;00m SimpleDirectoryReader\n",
      "\u001b[0;31mModuleNotFoundError\u001b[0m: No module named 'dotenv'"
     ]
    }
   ],
   "source": [
    "from dotenv import load_dotenv\n",
    "from llama_parse import LlamaParse\n",
    "from llama_index.core import SimpleDirectoryReader\n",
    "import os\n",
    "import nest_asyncio \n",
    "from openai import OpenAI\n",
    "nest_asyncio.apply()\n",
    "import json\n",
    "paths = {}\n",
    "\n",
    "\n",
    "def get_llm_JSONresponse(prompt, sys_prompt,temp=0.2, model_name=\"gpt-4o-mini\"):\n",
    "    answer = client.chat.completions.create(\n",
    "        model=model_name,\n",
    "        messages=[\n",
    "          {\"role\": \"system\", \"content\": sys_prompt},\n",
    "          {\"role\": \"user\", \"content\": prompt}\n",
    "        ],\n",
    "        temperature=temp,\n",
    "        frequency_penalty=0,\n",
    "        presence_penalty=0,\n",
    "        response_format={ \"type\": \"json_object\" },\n",
    "        n=1,\n",
    "    )\n",
    "    return answer.choices[0].message.content\n",
    "\n",
    "def find_all_key_paths(data, path=None):\n",
    "    if path is None:\n",
    "        path = []\n",
    "    \n",
    "    all_paths = []\n",
    "    \n",
    "    for key, value in data.items():\n",
    "        current_path = path + [key]\n",
    "        all_paths.append(current_path)\n",
    "        \n",
    "        if isinstance(value, dict):\n",
    "            all_paths.extend(find_all_key_paths(value, current_path))\n",
    "    \n",
    "    return all_paths      \n",
    "\n",
    "def get_document_structure(json_list):\n",
    "    heading_list = []\n",
    "    for item_list in json_list:\n",
    "        item_list = item_list['items']\n",
    "        for i in item_list:\n",
    "            if i['type']==\"heading\":\n",
    "                heading_list.append(i['value'])\n",
    "    sys_prompt = \"\"\"You are a smart Assistant who can follow and obtain the outputs by following the given intructions\"\"\"\n",
    "    prompt = f\"\"\"\n",
    "You are given a python list of headings obtained from the document, obtain the document structure in json format using the headings list. \n",
    "Headings List: {heading_list}\n",
    "Here is the final structure of the document:\n",
    "    \"\"\"\n",
    "    headings_structure = get_llm_JSONresponse(prompt, sys_prompt)\n",
    "    headings_structure = json.loads(headings_structure)\n",
    "    print(headings_structure)\n",
    "    return headings_structure\n",
    "\n",
    "def extract_keys(json_obj, parent_key=''):\n",
    "    keys_list = []\n",
    "    for k, v in json_obj.items():\n",
    "        full_key = f\"{parent_key}{k}\" if parent_key == '' else f\"{parent_key} > {k}\"\n",
    "        keys_list.append(full_key)\n",
    "        if isinstance(v, dict) and v:\n",
    "            keys_list.extend(extract_keys(v, full_key + ' > '))\n",
    "    return keys_list\n",
    "\n",
    "def extract_text_and_heading(json_list):\n",
    "    result = []\n",
    "    last_heading = None \n",
    "    new_list = []\n",
    "    page = 0\n",
    "    for i in json_list:\n",
    "        page+=1\n",
    "        for val in i['items']:\n",
    "            val['page_num'] = page\n",
    "        new_list.extend(i['items'])\n",
    "    for obj in new_list:\n",
    "        if obj.get('type') == 'heading':\n",
    "            last_heading = obj.get('value')\n",
    "        if obj.get('type') == 'text':\n",
    "            text_value = obj.get('value')\n",
    "            page_num = obj.get('page_num')\n",
    "            result.append({\n",
    "                'text_value': text_value,\n",
    "                'nearest_heading': last_heading,\n",
    "                'text_page': page_num\n",
    "            })\n",
    "    return result\n",
    "\n",
    "def add_path(result_list,path_dict) :\n",
    "    new_list = []\n",
    "    for ele in result_list:\n",
    "        val  = ele['nearest_heading']\n",
    "        print(\"-----ele values-------\")\n",
    "        print(val)\n",
    "        ele['path'] = path_dict[val]\n",
    "    return result_list\n",
    "\n",
    "load_dotenv('keys.env')\n",
    "LLAMA_CLOUD_API_KEY = os.getenv(\"LLAMA_CLOUD_API_KEY\")\n",
    "OPENAI_API_KEY = os.getenv('OPENAI_API_KEY')\n",
    "client = OpenAI(api_key = OPENAI_API_KEY)\n",
    "parser = LlamaParse(verbose=True,api_key=LLAMA_CLOUD_API_KEY,num_workers=4)\n",
    "filename = \"./pdfs/GPT- ESOPS policy.pdf\"\n",
    "json_objs = parser.get_json_result(filename)\n",
    "json_list = json_objs[0][\"pages\"]\n",
    "text_heading_dict_list = extract_text_and_heading(json_list)\n",
    "print(\"================================dict =======================================================\")\n",
    "print(text_heading_dict_list)\n",
    "print(\"=================================doc structure======================================================\")\n",
    "heading_structure = get_document_structure(json_list)\n",
    "# print(heading_structure)\n",
    "path_dict = {}\n",
    "key_paths = find_all_key_paths(heading_structure)\n",
    "for path in key_paths:\n",
    "    val = \" | \".join(path)\n",
    "    path_dict[path[-1]] = val\n",
    "print(path_dict)\n",
    "text_heading_dict_list = add_path(text_heading_dict_list,path_dict)\n",
    "print(text_heading_dict_list)\n",
    "\n",
    "\n",
    "heading_list = []\n",
    "for item_list in json_list:\n",
    "    item_list = item_list['items']\n",
    "    for i in item_list:\n",
    "        if i['type']==\"heading\":\n",
    "            heading_list.append(i['value'])\n"
   ]
  },
  {
   "cell_type": "code",
   "execution_count": 2,
   "metadata": {},
   "outputs": [
    {
     "name": "stdout",
     "output_type": "stream",
     "text": [
      "no change     /opt/homebrew/anaconda3/condabin/conda\n",
      "no change     /opt/homebrew/anaconda3/bin/conda\n",
      "no change     /opt/homebrew/anaconda3/bin/conda-env\n",
      "no change     /opt/homebrew/anaconda3/bin/activate\n",
      "no change     /opt/homebrew/anaconda3/bin/deactivate\n",
      "no change     /opt/homebrew/anaconda3/etc/profile.d/conda.sh\n",
      "no change     /opt/homebrew/anaconda3/etc/fish/conf.d/conda.fish\n",
      "no change     /opt/homebrew/anaconda3/shell/condabin/Conda.psm1\n",
      "no change     /opt/homebrew/anaconda3/shell/condabin/conda-hook.ps1\n",
      "no change     /opt/homebrew/anaconda3/lib/python3.11/site-packages/xontrib/conda.xsh\n",
      "no change     /opt/homebrew/anaconda3/etc/profile.d/conda.csh\n",
      "no change     /Users/nayanchoudhary/.bash_profile\n",
      "No action taken.\n",
      "\n",
      "CondaError: Run 'conda init' before 'conda activate'\n",
      "\n"
     ]
    }
   ],
   "source": [
    "sys_prompt = \"\"\"You are a smart Assistant who can follow and obtain the outputs by following the given intructions\"\"\"\n",
    "prompt = f\"\"\"\n",
    "You are given a python list of headings obtained from the document, obtain the document structure in json format using the headings list. \n",
    "Headings List: {heading_list}\n",
    "Here is the final structure of the document:\n",
    "\"\"\"\n",
    "headings_structure = get_llm_JSONresponse(prompt, sys_prompt)"
   ]
  },
  {
   "cell_type": "code",
   "execution_count": 9,
   "metadata": {},
   "outputs": [],
   "source": [
    "def extract_text_and_heading(new_list):\n",
    "    result = []\n",
    "    last_two_headings = []  # To store the last two headings\n",
    "    \n",
    "    for obj in new_list:\n",
    "        if obj.get('type') == 'heading':\n",
    "            # Add the new heading and maintain only the last two\n",
    "            last_two_headings.append(obj.get('value'))\n",
    "            if len(last_two_headings) > 2:\n",
    "                last_two_headings.pop(0)  # Keep only the last two\n",
    "        \n",
    "        if obj.get('type') == 'text':\n",
    "            text_value = obj.get('value')\n",
    "            page_num = obj.get('page_num')\n",
    "            result.append({\n",
    "                'text_value': text_value,\n",
    "                'previous_two_headings': last_two_headings.copy(),  # Copy to prevent changes later\n",
    "                'text_page': page_num\n",
    "            })\n",
    "    \n",
    "    return result\n"
   ]
  },
  {
   "cell_type": "code",
   "execution_count": 1,
   "metadata": {},
   "outputs": [
    {
     "ename": "NameError",
     "evalue": "name 'extract_text_and_heading' is not defined",
     "output_type": "error",
     "traceback": [
      "\u001b[0;31m---------------------------------------------------------------------------\u001b[0m",
      "\u001b[0;31mNameError\u001b[0m                                 Traceback (most recent call last)",
      "Cell \u001b[0;32mIn[1], line 2\u001b[0m\n\u001b[1;32m      1\u001b[0m nl \u001b[38;5;241m=\u001b[39m [{\u001b[38;5;124m'\u001b[39m\u001b[38;5;124mtype\u001b[39m\u001b[38;5;124m'\u001b[39m: \u001b[38;5;124m'\u001b[39m\u001b[38;5;124mheading\u001b[39m\u001b[38;5;124m'\u001b[39m, \u001b[38;5;124m'\u001b[39m\u001b[38;5;124mlvl\u001b[39m\u001b[38;5;124m'\u001b[39m: \u001b[38;5;241m1\u001b[39m, \u001b[38;5;124m'\u001b[39m\u001b[38;5;124mvalue\u001b[39m\u001b[38;5;124m'\u001b[39m: \u001b[38;5;124m'\u001b[39m\u001b[38;5;124mInformation Security and IT Policy\u001b[39m\u001b[38;5;124m'\u001b[39m, \u001b[38;5;124m'\u001b[39m\u001b[38;5;124mmd\u001b[39m\u001b[38;5;124m'\u001b[39m: \u001b[38;5;124m'\u001b[39m\u001b[38;5;124m# Information Security and IT Policy\u001b[39m\u001b[38;5;124m'\u001b[39m, \u001b[38;5;124m'\u001b[39m\u001b[38;5;124mbBox\u001b[39m\u001b[38;5;124m'\u001b[39m: {\u001b[38;5;124m'\u001b[39m\u001b[38;5;124mx\u001b[39m\u001b[38;5;124m'\u001b[39m: \u001b[38;5;241m0\u001b[39m, \u001b[38;5;124m'\u001b[39m\u001b[38;5;124my\u001b[39m\u001b[38;5;124m'\u001b[39m: \u001b[38;5;241m0\u001b[39m, \u001b[38;5;124m'\u001b[39m\u001b[38;5;124mw\u001b[39m\u001b[38;5;124m'\u001b[39m: \u001b[38;5;241m612\u001b[39m}, \u001b[38;5;124m'\u001b[39m\u001b[38;5;124mpage_num\u001b[39m\u001b[38;5;124m'\u001b[39m: \u001b[38;5;241m1\u001b[39m}, {\u001b[38;5;124m'\u001b[39m\u001b[38;5;124mtype\u001b[39m\u001b[38;5;124m'\u001b[39m: \u001b[38;5;124m'\u001b[39m\u001b[38;5;124mheading\u001b[39m\u001b[38;5;124m'\u001b[39m, \u001b[38;5;124m'\u001b[39m\u001b[38;5;124mlvl\u001b[39m\u001b[38;5;124m'\u001b[39m: \u001b[38;5;241m1\u001b[39m, \u001b[38;5;124m'\u001b[39m\u001b[38;5;124mvalue\u001b[39m\u001b[38;5;124m'\u001b[39m: \u001b[38;5;124m'\u001b[39m\u001b[38;5;124m1. Introduction\u001b[39m\u001b[38;5;124m'\u001b[39m, \u001b[38;5;124m'\u001b[39m\u001b[38;5;124mmd\u001b[39m\u001b[38;5;124m'\u001b[39m: \u001b[38;5;124m'\u001b[39m\u001b[38;5;124m# 1. Introduction\u001b[39m\u001b[38;5;124m'\u001b[39m, \u001b[38;5;124m'\u001b[39m\u001b[38;5;124mbBox\u001b[39m\u001b[38;5;124m'\u001b[39m: {\u001b[38;5;124m'\u001b[39m\u001b[38;5;124mx\u001b[39m\u001b[38;5;124m'\u001b[39m: \u001b[38;5;241m72\u001b[39m, \u001b[38;5;124m'\u001b[39m\u001b[38;5;124my\u001b[39m\u001b[38;5;124m'\u001b[39m: \u001b[38;5;241m112\u001b[39m, \u001b[38;5;124m'\u001b[39m\u001b[38;5;124mw\u001b[39m\u001b[38;5;124m'\u001b[39m: \u001b[38;5;241m69.66625992903812\u001b[39m, \u001b[38;5;124m'\u001b[39m\u001b[38;5;124mh\u001b[39m\u001b[38;5;124m'\u001b[39m: \u001b[38;5;241m11.00000025\u001b[39m}, \u001b[38;5;124m'\u001b[39m\u001b[38;5;124mpage_num\u001b[39m\u001b[38;5;124m'\u001b[39m: \u001b[38;5;241m1\u001b[39m}, {\u001b[38;5;124m'\u001b[39m\u001b[38;5;124mtype\u001b[39m\u001b[38;5;124m'\u001b[39m: \u001b[38;5;124m'\u001b[39m\u001b[38;5;124mtext\u001b[39m\u001b[38;5;124m'\u001b[39m, \u001b[38;5;124m'\u001b[39m\u001b[38;5;124mvalue\u001b[39m\u001b[38;5;124m'\u001b[39m: \u001b[38;5;124m\"\u001b[39m\u001b[38;5;124mThis Information Security and IT Policy document outlines the policies and guidelines that all employees, contractors, and vendors of Simpplr must adhere to in order to safeguard the organization\u001b[39m\u001b[38;5;124m'\u001b[39m\u001b[38;5;124ms information assets and maintain the privacy and integrity of its IT infrastructure. The policy also addresses compliance with applicable laws and regulations pertaining to information security.\u001b[39m\u001b[38;5;124m\"\u001b[39m, \u001b[38;5;124m'\u001b[39m\u001b[38;5;124mmd\u001b[39m\u001b[38;5;124m'\u001b[39m: \u001b[38;5;124m\"\u001b[39m\u001b[38;5;124mThis Information Security and IT Policy document outlines the policies and guidelines that all employees, contractors, and vendors of Simpplr must adhere to in order to safeguard the organization\u001b[39m\u001b[38;5;124m'\u001b[39m\u001b[38;5;124ms information assets and maintain the privacy and integrity of its IT infrastructure. The policy also addresses compliance with applicable laws and regulations pertaining to information security.\u001b[39m\u001b[38;5;124m\"\u001b[39m, \u001b[38;5;124m'\u001b[39m\u001b[38;5;124mbBox\u001b[39m\u001b[38;5;124m'\u001b[39m: {\u001b[38;5;124m'\u001b[39m\u001b[38;5;124mx\u001b[39m\u001b[38;5;124m'\u001b[39m: \u001b[38;5;241m72\u001b[39m, \u001b[38;5;124m'\u001b[39m\u001b[38;5;124my\u001b[39m\u001b[38;5;124m'\u001b[39m: \u001b[38;5;241m141\u001b[39m, \u001b[38;5;124m'\u001b[39m\u001b[38;5;124mw\u001b[39m\u001b[38;5;124m'\u001b[39m: \u001b[38;5;241m454.21890949945805\u001b[39m, \u001b[38;5;124m'\u001b[39m\u001b[38;5;124mh\u001b[39m\u001b[38;5;124m'\u001b[39m: \u001b[38;5;241m11.00000025\u001b[39m}, \u001b[38;5;124m'\u001b[39m\u001b[38;5;124mpage_num\u001b[39m\u001b[38;5;124m'\u001b[39m: \u001b[38;5;241m1\u001b[39m}, {\u001b[38;5;124m'\u001b[39m\u001b[38;5;124mtype\u001b[39m\u001b[38;5;124m'\u001b[39m: \u001b[38;5;124m'\u001b[39m\u001b[38;5;124mheading\u001b[39m\u001b[38;5;124m'\u001b[39m, \u001b[38;5;124m'\u001b[39m\u001b[38;5;124mlvl\u001b[39m\u001b[38;5;124m'\u001b[39m: \u001b[38;5;241m1\u001b[39m, \u001b[38;5;124m'\u001b[39m\u001b[38;5;124mvalue\u001b[39m\u001b[38;5;124m'\u001b[39m: \u001b[38;5;124m'\u001b[39m\u001b[38;5;124m2. Scope\u001b[39m\u001b[38;5;124m'\u001b[39m, \u001b[38;5;124m'\u001b[39m\u001b[38;5;124mmd\u001b[39m\u001b[38;5;124m'\u001b[39m: \u001b[38;5;124m'\u001b[39m\u001b[38;5;124m# 2. Scope\u001b[39m\u001b[38;5;124m'\u001b[39m, \u001b[38;5;124m'\u001b[39m\u001b[38;5;124mbBox\u001b[39m\u001b[38;5;124m'\u001b[39m: {\u001b[38;5;124m'\u001b[39m\u001b[38;5;124mx\u001b[39m\u001b[38;5;124m'\u001b[39m: \u001b[38;5;241m72\u001b[39m, \u001b[38;5;124m'\u001b[39m\u001b[38;5;124my\u001b[39m\u001b[38;5;124m'\u001b[39m: \u001b[38;5;241m228\u001b[39m, \u001b[38;5;124m'\u001b[39m\u001b[38;5;124mw\u001b[39m\u001b[38;5;124m'\u001b[39m: \u001b[38;5;241m43.39342887903807\u001b[39m, \u001b[38;5;124m'\u001b[39m\u001b[38;5;124mh\u001b[39m\u001b[38;5;124m'\u001b[39m: \u001b[38;5;241m11.00000025\u001b[39m}, \u001b[38;5;124m'\u001b[39m\u001b[38;5;124mpage_num\u001b[39m\u001b[38;5;124m'\u001b[39m: \u001b[38;5;241m1\u001b[39m}, {\u001b[38;5;124m'\u001b[39m\u001b[38;5;124mtype\u001b[39m\u001b[38;5;124m'\u001b[39m: \u001b[38;5;124m'\u001b[39m\u001b[38;5;124mtext\u001b[39m\u001b[38;5;124m'\u001b[39m, \u001b[38;5;124m'\u001b[39m\u001b[38;5;124mvalue\u001b[39m\u001b[38;5;124m'\u001b[39m: \u001b[38;5;124m\"\u001b[39m\u001b[38;5;124mThis policy applies to all employees, contractors, and vendors who have access to Simpplr\u001b[39m\u001b[38;5;124m'\u001b[39m\u001b[38;5;124ms information assets, including but not limited to computer systems, networks, data, and software. It covers the use of Simpplr-provided and personal devices used for business purposes, as well as any other assets or resources owned or managed by Simpplr.\u001b[39m\u001b[38;5;124m\"\u001b[39m, \u001b[38;5;124m'\u001b[39m\u001b[38;5;124mmd\u001b[39m\u001b[38;5;124m'\u001b[39m: \u001b[38;5;124m\"\u001b[39m\u001b[38;5;124mThis policy applies to all employees, contractors, and vendors who have access to Simpplr\u001b[39m\u001b[38;5;124m'\u001b[39m\u001b[38;5;124ms information assets, including but not limited to computer systems, networks, data, and software. It covers the use of Simpplr-provided and personal devices used for business purposes, as well as any other assets or resources owned or managed by Simpplr.\u001b[39m\u001b[38;5;124m\"\u001b[39m, \u001b[38;5;124m'\u001b[39m\u001b[38;5;124mbBox\u001b[39m\u001b[38;5;124m'\u001b[39m: {\u001b[38;5;124m'\u001b[39m\u001b[38;5;124mx\u001b[39m\u001b[38;5;124m'\u001b[39m: \u001b[38;5;241m72\u001b[39m, \u001b[38;5;124m'\u001b[39m\u001b[38;5;124my\u001b[39m\u001b[38;5;124m'\u001b[39m: \u001b[38;5;241m257\u001b[39m, \u001b[38;5;124m'\u001b[39m\u001b[38;5;124mw\u001b[39m\u001b[38;5;124m'\u001b[39m: \u001b[38;5;241m464.3362273244577\u001b[39m, \u001b[38;5;124m'\u001b[39m\u001b[38;5;124mh\u001b[39m\u001b[38;5;124m'\u001b[39m: \u001b[38;5;241m11.000000249999971\u001b[39m}, \u001b[38;5;124m'\u001b[39m\u001b[38;5;124mpage_num\u001b[39m\u001b[38;5;124m'\u001b[39m: \u001b[38;5;241m1\u001b[39m}, {\u001b[38;5;124m'\u001b[39m\u001b[38;5;124mtype\u001b[39m\u001b[38;5;124m'\u001b[39m: \u001b[38;5;124m'\u001b[39m\u001b[38;5;124mheading\u001b[39m\u001b[38;5;124m'\u001b[39m, \u001b[38;5;124m'\u001b[39m\u001b[38;5;124mlvl\u001b[39m\u001b[38;5;124m'\u001b[39m: \u001b[38;5;241m1\u001b[39m, \u001b[38;5;124m'\u001b[39m\u001b[38;5;124mvalue\u001b[39m\u001b[38;5;124m'\u001b[39m: \u001b[38;5;124m'\u001b[39m\u001b[38;5;124m3. Responsibilities\u001b[39m\u001b[38;5;124m'\u001b[39m, \u001b[38;5;124m'\u001b[39m\u001b[38;5;124mmd\u001b[39m\u001b[38;5;124m'\u001b[39m: \u001b[38;5;124m'\u001b[39m\u001b[38;5;124m# 3. Responsibilities\u001b[39m\u001b[38;5;124m'\u001b[39m, \u001b[38;5;124m'\u001b[39m\u001b[38;5;124mbBox\u001b[39m\u001b[38;5;124m'\u001b[39m: {\u001b[38;5;124m'\u001b[39m\u001b[38;5;124mx\u001b[39m\u001b[38;5;124m'\u001b[39m: \u001b[38;5;241m72\u001b[39m, \u001b[38;5;124m'\u001b[39m\u001b[38;5;124my\u001b[39m\u001b[38;5;124m'\u001b[39m: \u001b[38;5;241m330\u001b[39m, \u001b[38;5;124m'\u001b[39m\u001b[38;5;124mw\u001b[39m\u001b[38;5;124m'\u001b[39m: \u001b[38;5;241m88.59621450000003\u001b[39m, \u001b[38;5;124m'\u001b[39m\u001b[38;5;124mh\u001b[39m\u001b[38;5;124m'\u001b[39m: \u001b[38;5;241m11.000000249999971\u001b[39m}, \u001b[38;5;124m'\u001b[39m\u001b[38;5;124mpage_num\u001b[39m\u001b[38;5;124m'\u001b[39m: \u001b[38;5;241m1\u001b[39m}, {\u001b[38;5;124m'\u001b[39m\u001b[38;5;124mtype\u001b[39m\u001b[38;5;124m'\u001b[39m: \u001b[38;5;124m'\u001b[39m\u001b[38;5;124mheading\u001b[39m\u001b[38;5;124m'\u001b[39m, \u001b[38;5;124m'\u001b[39m\u001b[38;5;124mlvl\u001b[39m\u001b[38;5;124m'\u001b[39m: \u001b[38;5;241m1\u001b[39m, \u001b[38;5;124m'\u001b[39m\u001b[38;5;124mvalue\u001b[39m\u001b[38;5;124m'\u001b[39m: \u001b[38;5;124m'\u001b[39m\u001b[38;5;124m3.1 Management Responsibilities\u001b[39m\u001b[38;5;124m'\u001b[39m, \u001b[38;5;124m'\u001b[39m\u001b[38;5;124mmd\u001b[39m\u001b[38;5;124m'\u001b[39m: \u001b[38;5;124m'\u001b[39m\u001b[38;5;124m# 3.1 Management Responsibilities\u001b[39m\u001b[38;5;124m'\u001b[39m, \u001b[38;5;124m'\u001b[39m\u001b[38;5;124mbBox\u001b[39m\u001b[38;5;124m'\u001b[39m: {\u001b[38;5;124m'\u001b[39m\u001b[38;5;124mx\u001b[39m\u001b[38;5;124m'\u001b[39m: \u001b[38;5;241m72\u001b[39m, \u001b[38;5;124m'\u001b[39m\u001b[38;5;124my\u001b[39m\u001b[38;5;124m'\u001b[39m: \u001b[38;5;241m359\u001b[39m, \u001b[38;5;124m'\u001b[39m\u001b[38;5;124mw\u001b[39m\u001b[38;5;124m'\u001b[39m: \u001b[38;5;241m161.92398060000002\u001b[39m, \u001b[38;5;124m'\u001b[39m\u001b[38;5;124mh\u001b[39m\u001b[38;5;124m'\u001b[39m: \u001b[38;5;241m11.000000249999971\u001b[39m}, \u001b[38;5;124m'\u001b[39m\u001b[38;5;124mpage_num\u001b[39m\u001b[38;5;124m'\u001b[39m: \u001b[38;5;241m1\u001b[39m}, {\u001b[38;5;124m'\u001b[39m\u001b[38;5;124mtype\u001b[39m\u001b[38;5;124m'\u001b[39m: \u001b[38;5;124m'\u001b[39m\u001b[38;5;124mtext\u001b[39m\u001b[38;5;124m'\u001b[39m, \u001b[38;5;124m'\u001b[39m\u001b[38;5;124mvalue\u001b[39m\u001b[38;5;124m'\u001b[39m: \u001b[38;5;124m\"\u001b[39m\u001b[38;5;124mThe executive management team is responsible for establishing and enforcing information security policies, allocating adequate resources, and providing leadership in ensuring the effectiveness of Simpplr\u001b[39m\u001b[38;5;124m'\u001b[39m\u001b[38;5;124ms information security program.\u001b[39m\u001b[38;5;124m\"\u001b[39m, \u001b[38;5;124m'\u001b[39m\u001b[38;5;124mmd\u001b[39m\u001b[38;5;124m'\u001b[39m: \u001b[38;5;124m\"\u001b[39m\u001b[38;5;124mThe executive management team is responsible for establishing and enforcing information security policies, allocating adequate resources, and providing leadership in ensuring the effectiveness of Simpplr\u001b[39m\u001b[38;5;124m'\u001b[39m\u001b[38;5;124ms information security program.\u001b[39m\u001b[38;5;124m\"\u001b[39m, \u001b[38;5;124m'\u001b[39m\u001b[38;5;124mbBox\u001b[39m\u001b[38;5;124m'\u001b[39m: {\u001b[38;5;124m'\u001b[39m\u001b[38;5;124mx\u001b[39m\u001b[38;5;124m'\u001b[39m: \u001b[38;5;241m72\u001b[39m, \u001b[38;5;124m'\u001b[39m\u001b[38;5;124my\u001b[39m\u001b[38;5;124m'\u001b[39m: \u001b[38;5;241m374\u001b[39m, \u001b[38;5;124m'\u001b[39m\u001b[38;5;124mw\u001b[39m\u001b[38;5;124m'\u001b[39m: \u001b[38;5;241m437.49127422903814\u001b[39m, \u001b[38;5;124m'\u001b[39m\u001b[38;5;124mh\u001b[39m\u001b[38;5;124m'\u001b[39m: \u001b[38;5;241m11.000000249999971\u001b[39m}, \u001b[38;5;124m'\u001b[39m\u001b[38;5;124mpage_num\u001b[39m\u001b[38;5;124m'\u001b[39m: \u001b[38;5;241m1\u001b[39m}, {\u001b[38;5;124m'\u001b[39m\u001b[38;5;124mtype\u001b[39m\u001b[38;5;124m'\u001b[39m: \u001b[38;5;124m'\u001b[39m\u001b[38;5;124mheading\u001b[39m\u001b[38;5;124m'\u001b[39m, \u001b[38;5;124m'\u001b[39m\u001b[38;5;124mlvl\u001b[39m\u001b[38;5;124m'\u001b[39m: \u001b[38;5;241m1\u001b[39m, \u001b[38;5;124m'\u001b[39m\u001b[38;5;124mvalue\u001b[39m\u001b[38;5;124m'\u001b[39m: \u001b[38;5;124m'\u001b[39m\u001b[38;5;124m3.2 Employee Responsibilities\u001b[39m\u001b[38;5;124m'\u001b[39m, \u001b[38;5;124m'\u001b[39m\u001b[38;5;124mmd\u001b[39m\u001b[38;5;124m'\u001b[39m: \u001b[38;5;124m'\u001b[39m\u001b[38;5;124m# 3.2 Employee Responsibilities\u001b[39m\u001b[38;5;124m'\u001b[39m, \u001b[38;5;124m'\u001b[39m\u001b[38;5;124mbBox\u001b[39m\u001b[38;5;124m'\u001b[39m: {\u001b[38;5;124m'\u001b[39m\u001b[38;5;124mx\u001b[39m\u001b[38;5;124m'\u001b[39m: \u001b[38;5;241m72\u001b[39m, \u001b[38;5;124m'\u001b[39m\u001b[38;5;124my\u001b[39m\u001b[38;5;124m'\u001b[39m: \u001b[38;5;241m432\u001b[39m, \u001b[38;5;124m'\u001b[39m\u001b[38;5;124mw\u001b[39m\u001b[38;5;124m'\u001b[39m: \u001b[38;5;241m146.64333735000002\u001b[39m, \u001b[38;5;124m'\u001b[39m\u001b[38;5;124mh\u001b[39m\u001b[38;5;124m'\u001b[39m: \u001b[38;5;241m11.000000249999971\u001b[39m}, \u001b[38;5;124m'\u001b[39m\u001b[38;5;124mpage_num\u001b[39m\u001b[38;5;124m'\u001b[39m: \u001b[38;5;241m1\u001b[39m}, {\u001b[38;5;124m'\u001b[39m\u001b[38;5;124mtype\u001b[39m\u001b[38;5;124m'\u001b[39m: \u001b[38;5;124m'\u001b[39m\u001b[38;5;124mtext\u001b[39m\u001b[38;5;124m'\u001b[39m, \u001b[38;5;124m'\u001b[39m\u001b[38;5;124mvalue\u001b[39m\u001b[38;5;124m'\u001b[39m: \u001b[38;5;124m'\u001b[39m\u001b[38;5;124mAll employees are responsible for complying with this policy, protecting information assets, reporting any security incidents or vulnerabilities, and taking necessary precautions to prevent unauthorized access, disclosure, alteration, or destruction of information.\u001b[39m\u001b[38;5;124m'\u001b[39m, \u001b[38;5;124m'\u001b[39m\u001b[38;5;124mmd\u001b[39m\u001b[38;5;124m'\u001b[39m: \u001b[38;5;124m'\u001b[39m\u001b[38;5;124mAll employees are responsible for complying with this policy, protecting information assets, reporting any security incidents or vulnerabilities, and taking necessary precautions to prevent unauthorized access, disclosure, alteration, or destruction of information.\u001b[39m\u001b[38;5;124m'\u001b[39m, \u001b[38;5;124m'\u001b[39m\u001b[38;5;124mbBox\u001b[39m\u001b[38;5;124m'\u001b[39m: {\u001b[38;5;124m'\u001b[39m\u001b[38;5;124mx\u001b[39m\u001b[38;5;124m'\u001b[39m: \u001b[38;5;241m72\u001b[39m, \u001b[38;5;124m'\u001b[39m\u001b[38;5;124my\u001b[39m\u001b[38;5;124m'\u001b[39m: \u001b[38;5;241m446\u001b[39m, \u001b[38;5;124m'\u001b[39m\u001b[38;5;124mw\u001b[39m\u001b[38;5;124m'\u001b[39m: \u001b[38;5;241m455.8129663994581\u001b[39m, \u001b[38;5;124m'\u001b[39m\u001b[38;5;124mh\u001b[39m\u001b[38;5;124m'\u001b[39m: \u001b[38;5;241m11.000000249999971\u001b[39m}, \u001b[38;5;124m'\u001b[39m\u001b[38;5;124mpage_num\u001b[39m\u001b[38;5;124m'\u001b[39m: \u001b[38;5;241m1\u001b[39m}, {\u001b[38;5;124m'\u001b[39m\u001b[38;5;124mtype\u001b[39m\u001b[38;5;124m'\u001b[39m: \u001b[38;5;124m'\u001b[39m\u001b[38;5;124mheading\u001b[39m\u001b[38;5;124m'\u001b[39m, \u001b[38;5;124m'\u001b[39m\u001b[38;5;124mlvl\u001b[39m\u001b[38;5;124m'\u001b[39m: \u001b[38;5;241m1\u001b[39m, \u001b[38;5;124m'\u001b[39m\u001b[38;5;124mvalue\u001b[39m\u001b[38;5;124m'\u001b[39m: \u001b[38;5;124m'\u001b[39m\u001b[38;5;124m4. Information Security Framework\u001b[39m\u001b[38;5;124m'\u001b[39m, \u001b[38;5;124m'\u001b[39m\u001b[38;5;124mmd\u001b[39m\u001b[38;5;124m'\u001b[39m: \u001b[38;5;124m'\u001b[39m\u001b[38;5;124m# 4. Information Security Framework\u001b[39m\u001b[38;5;124m'\u001b[39m, \u001b[38;5;124m'\u001b[39m\u001b[38;5;124mbBox\u001b[39m\u001b[38;5;124m'\u001b[39m: {\u001b[38;5;124m'\u001b[39m\u001b[38;5;124mx\u001b[39m\u001b[38;5;124m'\u001b[39m: \u001b[38;5;241m72\u001b[39m, \u001b[38;5;124m'\u001b[39m\u001b[38;5;124my\u001b[39m\u001b[38;5;124m'\u001b[39m: \u001b[38;5;241m505\u001b[39m, \u001b[38;5;124m'\u001b[39m\u001b[38;5;124mw\u001b[39m\u001b[38;5;124m'\u001b[39m: \u001b[38;5;241m167.99437357500003\u001b[39m, \u001b[38;5;124m'\u001b[39m\u001b[38;5;124mh\u001b[39m\u001b[38;5;124m'\u001b[39m: \u001b[38;5;241m11.000000249999971\u001b[39m}, \u001b[38;5;124m'\u001b[39m\u001b[38;5;124mpage_num\u001b[39m\u001b[38;5;124m'\u001b[39m: \u001b[38;5;241m1\u001b[39m}, {\u001b[38;5;124m'\u001b[39m\u001b[38;5;124mtype\u001b[39m\u001b[38;5;124m'\u001b[39m: \u001b[38;5;124m'\u001b[39m\u001b[38;5;124mheading\u001b[39m\u001b[38;5;124m'\u001b[39m, \u001b[38;5;124m'\u001b[39m\u001b[38;5;124mlvl\u001b[39m\u001b[38;5;124m'\u001b[39m: \u001b[38;5;241m1\u001b[39m, \u001b[38;5;124m'\u001b[39m\u001b[38;5;124mvalue\u001b[39m\u001b[38;5;124m'\u001b[39m: \u001b[38;5;124m'\u001b[39m\u001b[38;5;124m4.1 Risk Assessment and Management\u001b[39m\u001b[38;5;124m'\u001b[39m, \u001b[38;5;124m'\u001b[39m\u001b[38;5;124mmd\u001b[39m\u001b[38;5;124m'\u001b[39m: \u001b[38;5;124m'\u001b[39m\u001b[38;5;124m# 4.1 Risk Assessment and Management\u001b[39m\u001b[38;5;124m'\u001b[39m, \u001b[38;5;124m'\u001b[39m\u001b[38;5;124mbBox\u001b[39m\u001b[38;5;124m'\u001b[39m: {\u001b[38;5;124m'\u001b[39m\u001b[38;5;124mx\u001b[39m\u001b[38;5;124m'\u001b[39m: \u001b[38;5;241m72\u001b[39m, \u001b[38;5;124m'\u001b[39m\u001b[38;5;124my\u001b[39m\u001b[38;5;124m'\u001b[39m: \u001b[38;5;241m534\u001b[39m, \u001b[38;5;124m'\u001b[39m\u001b[38;5;124mw\u001b[39m\u001b[38;5;124m'\u001b[39m: \u001b[38;5;241m191.238327049458\u001b[39m, \u001b[38;5;124m'\u001b[39m\u001b[38;5;124mh\u001b[39m\u001b[38;5;124m'\u001b[39m: \u001b[38;5;241m11.000000249999971\u001b[39m}, \u001b[38;5;124m'\u001b[39m\u001b[38;5;124mpage_num\u001b[39m\u001b[38;5;124m'\u001b[39m: \u001b[38;5;241m1\u001b[39m}, {\u001b[38;5;124m'\u001b[39m\u001b[38;5;124mtype\u001b[39m\u001b[38;5;124m'\u001b[39m: \u001b[38;5;124m'\u001b[39m\u001b[38;5;124mtext\u001b[39m\u001b[38;5;124m'\u001b[39m, \u001b[38;5;124m'\u001b[39m\u001b[38;5;124mvalue\u001b[39m\u001b[38;5;124m'\u001b[39m: \u001b[38;5;124m'\u001b[39m\u001b[38;5;124mSimpplr will conduct regular risk assessments to identify and assess risks to its information assets. A risk management process will be implemented to evaluate the impact and likelihood of identified risks and develop appropriate controls and mitigation strategies.\u001b[39m\u001b[38;5;124m'\u001b[39m, \u001b[38;5;124m'\u001b[39m\u001b[38;5;124mmd\u001b[39m\u001b[38;5;124m'\u001b[39m: \u001b[38;5;124m'\u001b[39m\u001b[38;5;124mSimpplr will conduct regular risk assessments to identify and assess risks to its information assets. A risk management process will be implemented to evaluate the impact and likelihood of identified risks and develop appropriate controls and mitigation strategies.\u001b[39m\u001b[38;5;124m'\u001b[39m, \u001b[38;5;124m'\u001b[39m\u001b[38;5;124mbBox\u001b[39m\u001b[38;5;124m'\u001b[39m: {\u001b[38;5;124m'\u001b[39m\u001b[38;5;124mx\u001b[39m\u001b[38;5;124m'\u001b[39m: \u001b[38;5;241m72\u001b[39m, \u001b[38;5;124m'\u001b[39m\u001b[38;5;124my\u001b[39m\u001b[38;5;124m'\u001b[39m: \u001b[38;5;241m548\u001b[39m, \u001b[38;5;124m'\u001b[39m\u001b[38;5;124mw\u001b[39m\u001b[38;5;124m'\u001b[39m: \u001b[38;5;241m466.79981074945795\u001b[39m, \u001b[38;5;124m'\u001b[39m\u001b[38;5;124mh\u001b[39m\u001b[38;5;124m'\u001b[39m: \u001b[38;5;241m11.000000249999971\u001b[39m}, \u001b[38;5;124m'\u001b[39m\u001b[38;5;124mpage_num\u001b[39m\u001b[38;5;124m'\u001b[39m: \u001b[38;5;241m1\u001b[39m}, {\u001b[38;5;124m'\u001b[39m\u001b[38;5;124mtype\u001b[39m\u001b[38;5;124m'\u001b[39m: \u001b[38;5;124m'\u001b[39m\u001b[38;5;124mheading\u001b[39m\u001b[38;5;124m'\u001b[39m, \u001b[38;5;124m'\u001b[39m\u001b[38;5;124mlvl\u001b[39m\u001b[38;5;124m'\u001b[39m: \u001b[38;5;241m1\u001b[39m, \u001b[38;5;124m'\u001b[39m\u001b[38;5;124mvalue\u001b[39m\u001b[38;5;124m'\u001b[39m: \u001b[38;5;124m'\u001b[39m\u001b[38;5;124m4.2 Information Classification\u001b[39m\u001b[38;5;124m'\u001b[39m, \u001b[38;5;124m'\u001b[39m\u001b[38;5;124mmd\u001b[39m\u001b[38;5;124m'\u001b[39m: \u001b[38;5;124m'\u001b[39m\u001b[38;5;124m# 4.2 Information Classification\u001b[39m\u001b[38;5;124m'\u001b[39m, \u001b[38;5;124m'\u001b[39m\u001b[38;5;124mbBox\u001b[39m\u001b[38;5;124m'\u001b[39m: {\u001b[38;5;124m'\u001b[39m\u001b[38;5;124mx\u001b[39m\u001b[38;5;124m'\u001b[39m: \u001b[38;5;241m72\u001b[39m, \u001b[38;5;124m'\u001b[39m\u001b[38;5;124my\u001b[39m\u001b[38;5;124m'\u001b[39m: \u001b[38;5;241m606\u001b[39m, \u001b[38;5;124m'\u001b[39m\u001b[38;5;124mw\u001b[39m\u001b[38;5;124m'\u001b[39m: \u001b[38;5;241m141.1369481040381\u001b[39m, \u001b[38;5;124m'\u001b[39m\u001b[38;5;124mh\u001b[39m\u001b[38;5;124m'\u001b[39m: \u001b[38;5;241m11.000000249999971\u001b[39m}, \u001b[38;5;124m'\u001b[39m\u001b[38;5;124mpage_num\u001b[39m\u001b[38;5;124m'\u001b[39m: \u001b[38;5;241m1\u001b[39m}, {\u001b[38;5;124m'\u001b[39m\u001b[38;5;124mtype\u001b[39m\u001b[38;5;124m'\u001b[39m: \u001b[38;5;124m'\u001b[39m\u001b[38;5;124mtext\u001b[39m\u001b[38;5;124m'\u001b[39m, \u001b[38;5;124m'\u001b[39m\u001b[38;5;124mvalue\u001b[39m\u001b[38;5;124m'\u001b[39m: \u001b[38;5;124m'\u001b[39m\u001b[38;5;124mAll information assets owned or managed by Simpplr must be properly classified based on their sensitivity and criticality. Appropriate security controls will be implemented based on the classification level to ensure the confidentiality, integrity, and availability of the information.\u001b[39m\u001b[38;5;124m'\u001b[39m, \u001b[38;5;124m'\u001b[39m\u001b[38;5;124mmd\u001b[39m\u001b[38;5;124m'\u001b[39m: \u001b[38;5;124m'\u001b[39m\u001b[38;5;124mAll information assets owned or managed by Simpplr must be properly classified based on their sensitivity and criticality. Appropriate security controls will be implemented based on the classification level to ensure the confidentiality, integrity, and availability of the information.\u001b[39m\u001b[38;5;124m'\u001b[39m, \u001b[38;5;124m'\u001b[39m\u001b[38;5;124mbBox\u001b[39m\u001b[38;5;124m'\u001b[39m: {\u001b[38;5;124m'\u001b[39m\u001b[38;5;124mx\u001b[39m\u001b[38;5;124m'\u001b[39m: \u001b[38;5;241m72\u001b[39m, \u001b[38;5;124m'\u001b[39m\u001b[38;5;124my\u001b[39m\u001b[38;5;124m'\u001b[39m: \u001b[38;5;241m621\u001b[39m, \u001b[38;5;124m'\u001b[39m\u001b[38;5;124mw\u001b[39m\u001b[38;5;124m'\u001b[39m: \u001b[38;5;241m462.5171289432519\u001b[39m, \u001b[38;5;124m'\u001b[39m\u001b[38;5;124mh\u001b[39m\u001b[38;5;124m'\u001b[39m: \u001b[38;5;241m11.000000249999971\u001b[39m}, \u001b[38;5;124m'\u001b[39m\u001b[38;5;124mpage_num\u001b[39m\u001b[38;5;124m'\u001b[39m: \u001b[38;5;241m1\u001b[39m}, {\u001b[38;5;124m'\u001b[39m\u001b[38;5;124mtype\u001b[39m\u001b[38;5;124m'\u001b[39m: \u001b[38;5;124m'\u001b[39m\u001b[38;5;124mheading\u001b[39m\u001b[38;5;124m'\u001b[39m, \u001b[38;5;124m'\u001b[39m\u001b[38;5;124mlvl\u001b[39m\u001b[38;5;124m'\u001b[39m: \u001b[38;5;241m1\u001b[39m, \u001b[38;5;124m'\u001b[39m\u001b[38;5;124mvalue\u001b[39m\u001b[38;5;124m'\u001b[39m: \u001b[38;5;124m'\u001b[39m\u001b[38;5;124m4.3 Access Controls\u001b[39m\u001b[38;5;124m'\u001b[39m, \u001b[38;5;124m'\u001b[39m\u001b[38;5;124mmd\u001b[39m\u001b[38;5;124m'\u001b[39m: \u001b[38;5;124m'\u001b[39m\u001b[38;5;124m# 4.3 Access Controls\u001b[39m\u001b[38;5;124m'\u001b[39m, \u001b[38;5;124m'\u001b[39m\u001b[38;5;124mbBox\u001b[39m\u001b[38;5;124m'\u001b[39m: {\u001b[38;5;124m'\u001b[39m\u001b[38;5;124mx\u001b[39m\u001b[38;5;124m'\u001b[39m: \u001b[38;5;241m72\u001b[39m, \u001b[38;5;124m'\u001b[39m\u001b[38;5;124my\u001b[39m\u001b[38;5;124m'\u001b[39m: \u001b[38;5;241m679\u001b[39m, \u001b[38;5;124m'\u001b[39m\u001b[38;5;124mw\u001b[39m\u001b[38;5;124m'\u001b[39m: \u001b[38;5;241m97.75279275000003\u001b[39m, \u001b[38;5;124m'\u001b[39m\u001b[38;5;124mh\u001b[39m\u001b[38;5;124m'\u001b[39m: \u001b[38;5;241m11.000000249999971\u001b[39m}, \u001b[38;5;124m'\u001b[39m\u001b[38;5;124mpage_num\u001b[39m\u001b[38;5;124m'\u001b[39m: \u001b[38;5;241m1\u001b[39m}, {\u001b[38;5;124m'\u001b[39m\u001b[38;5;124mtype\u001b[39m\u001b[38;5;124m'\u001b[39m: \u001b[38;5;124m'\u001b[39m\u001b[38;5;124mtext\u001b[39m\u001b[38;5;124m'\u001b[39m, \u001b[38;5;124m'\u001b[39m\u001b[38;5;124mvalue\u001b[39m\u001b[38;5;124m'\u001b[39m: \u001b[38;5;124m\"\u001b[39m\u001b[38;5;124mAccess to Simpplr\u001b[39m\u001b[38;5;124m'\u001b[39m\u001b[38;5;124ms information assets will be granted based on the principle of least privilege, ensuring that employees have access only to the information necessary to perform their job.\u001b[39m\u001b[38;5;124m\"\u001b[39m, \u001b[38;5;124m'\u001b[39m\u001b[38;5;124mmd\u001b[39m\u001b[38;5;124m'\u001b[39m: \u001b[38;5;124m\"\u001b[39m\u001b[38;5;124mAccess to Simpplr\u001b[39m\u001b[38;5;124m'\u001b[39m\u001b[38;5;124ms information assets will be granted based on the principle of least privilege, ensuring that employees have access only to the information necessary to perform their job.\u001b[39m\u001b[38;5;124m\"\u001b[39m, \u001b[38;5;124m'\u001b[39m\u001b[38;5;124mbBox\u001b[39m\u001b[38;5;124m'\u001b[39m: {\u001b[38;5;124m'\u001b[39m\u001b[38;5;124mx\u001b[39m\u001b[38;5;124m'\u001b[39m: \u001b[38;5;241m72\u001b[39m, \u001b[38;5;124m'\u001b[39m\u001b[38;5;124my\u001b[39m\u001b[38;5;124m'\u001b[39m: \u001b[38;5;241m694\u001b[39m, \u001b[38;5;124m'\u001b[39m\u001b[38;5;124mw\u001b[39m\u001b[38;5;124m'\u001b[39m: \u001b[38;5;241m457.8954823244578\u001b[39m, \u001b[38;5;124m'\u001b[39m\u001b[38;5;124mh\u001b[39m\u001b[38;5;124m'\u001b[39m: \u001b[38;5;241m11.000000249999971\u001b[39m}, \u001b[38;5;124m'\u001b[39m\u001b[38;5;124mpage_num\u001b[39m\u001b[38;5;124m'\u001b[39m: \u001b[38;5;241m1\u001b[39m}, {\u001b[38;5;124m'\u001b[39m\u001b[38;5;124mtype\u001b[39m\u001b[38;5;124m'\u001b[39m: \u001b[38;5;124m'\u001b[39m\u001b[38;5;124mheading\u001b[39m\u001b[38;5;124m'\u001b[39m, \u001b[38;5;124m'\u001b[39m\u001b[38;5;124mlvl\u001b[39m\u001b[38;5;124m'\u001b[39m: \u001b[38;5;241m1\u001b[39m, \u001b[38;5;124m'\u001b[39m\u001b[38;5;124mvalue\u001b[39m\u001b[38;5;124m'\u001b[39m: \u001b[38;5;124m'\u001b[39m\u001b[38;5;124m4. Responsibilities\u001b[39m\u001b[38;5;124m'\u001b[39m, \u001b[38;5;124m'\u001b[39m\u001b[38;5;124mmd\u001b[39m\u001b[38;5;124m'\u001b[39m: \u001b[38;5;124m'\u001b[39m\u001b[38;5;124m# 4. Responsibilities\u001b[39m\u001b[38;5;124m'\u001b[39m, \u001b[38;5;124m'\u001b[39m\u001b[38;5;124mbBox\u001b[39m\u001b[38;5;124m'\u001b[39m: {\u001b[38;5;124m'\u001b[39m\u001b[38;5;124mx\u001b[39m\u001b[38;5;124m'\u001b[39m: \u001b[38;5;241m0\u001b[39m, \u001b[38;5;124m'\u001b[39m\u001b[38;5;124my\u001b[39m\u001b[38;5;124m'\u001b[39m: \u001b[38;5;241m0\u001b[39m, \u001b[38;5;124m'\u001b[39m\u001b[38;5;124mw\u001b[39m\u001b[38;5;124m'\u001b[39m: \u001b[38;5;241m612\u001b[39m}, \u001b[38;5;124m'\u001b[39m\u001b[38;5;124mpage_num\u001b[39m\u001b[38;5;124m'\u001b[39m: \u001b[38;5;241m2\u001b[39m}, {\u001b[38;5;124m'\u001b[39m\u001b[38;5;124mtype\u001b[39m\u001b[38;5;124m'\u001b[39m: \u001b[38;5;124m'\u001b[39m\u001b[38;5;124mtext\u001b[39m\u001b[38;5;124m'\u001b[39m, \u001b[38;5;124m'\u001b[39m\u001b[38;5;124mvalue\u001b[39m\u001b[38;5;124m'\u001b[39m: \u001b[38;5;124m'\u001b[39m\u001b[38;5;124mStrong authentication mechanisms and access control mechanisms will be implemented to protect sensitive information from unauthorized access.\u001b[39m\u001b[38;5;124m'\u001b[39m, \u001b[38;5;124m'\u001b[39m\u001b[38;5;124mmd\u001b[39m\u001b[38;5;124m'\u001b[39m: \u001b[38;5;124m'\u001b[39m\u001b[38;5;124mStrong authentication mechanisms and access control mechanisms will be implemented to protect sensitive information from unauthorized access.\u001b[39m\u001b[38;5;124m'\u001b[39m, \u001b[38;5;124m'\u001b[39m\u001b[38;5;124mbBox\u001b[39m\u001b[38;5;124m'\u001b[39m: {\u001b[38;5;124m'\u001b[39m\u001b[38;5;124mx\u001b[39m\u001b[38;5;124m'\u001b[39m: \u001b[38;5;241m72\u001b[39m, \u001b[38;5;124m'\u001b[39m\u001b[38;5;124my\u001b[39m\u001b[38;5;124m'\u001b[39m: \u001b[38;5;241m97\u001b[39m, \u001b[38;5;124m'\u001b[39m\u001b[38;5;124mw\u001b[39m\u001b[38;5;124m'\u001b[39m: \u001b[38;5;241m347.03433409945785\u001b[39m, \u001b[38;5;124m'\u001b[39m\u001b[38;5;124mh\u001b[39m\u001b[38;5;124m'\u001b[39m: \u001b[38;5;241m11.00000025\u001b[39m}, \u001b[38;5;124m'\u001b[39m\u001b[38;5;124mpage_num\u001b[39m\u001b[38;5;124m'\u001b[39m: \u001b[38;5;241m2\u001b[39m}, {\u001b[38;5;124m'\u001b[39m\u001b[38;5;124mtype\u001b[39m\u001b[38;5;124m'\u001b[39m: \u001b[38;5;124m'\u001b[39m\u001b[38;5;124mheading\u001b[39m\u001b[38;5;124m'\u001b[39m, \u001b[38;5;124m'\u001b[39m\u001b[38;5;124mlvl\u001b[39m\u001b[38;5;124m'\u001b[39m: \u001b[38;5;241m1\u001b[39m, \u001b[38;5;124m'\u001b[39m\u001b[38;5;124mvalue\u001b[39m\u001b[38;5;124m'\u001b[39m: \u001b[38;5;124m'\u001b[39m\u001b[38;5;124m4.4 Data Protection\u001b[39m\u001b[38;5;124m'\u001b[39m, \u001b[38;5;124m'\u001b[39m\u001b[38;5;124mmd\u001b[39m\u001b[38;5;124m'\u001b[39m: \u001b[38;5;124m'\u001b[39m\u001b[38;5;124m# 4.4 Data Protection\u001b[39m\u001b[38;5;124m'\u001b[39m, \u001b[38;5;124m'\u001b[39m\u001b[38;5;124mbBox\u001b[39m\u001b[38;5;124m'\u001b[39m: {\u001b[38;5;124m'\u001b[39m\u001b[38;5;124mx\u001b[39m\u001b[38;5;124m'\u001b[39m: \u001b[38;5;241m72\u001b[39m, \u001b[38;5;124m'\u001b[39m\u001b[38;5;124my\u001b[39m\u001b[38;5;124m'\u001b[39m: \u001b[38;5;241m126\u001b[39m, \u001b[38;5;124m'\u001b[39m\u001b[38;5;124mw\u001b[39m\u001b[38;5;124m'\u001b[39m: \u001b[38;5;241m94.10348120403805\u001b[39m, \u001b[38;5;124m'\u001b[39m\u001b[38;5;124mh\u001b[39m\u001b[38;5;124m'\u001b[39m: \u001b[38;5;241m11.00000025\u001b[39m}, \u001b[38;5;124m'\u001b[39m\u001b[38;5;124mpage_num\u001b[39m\u001b[38;5;124m'\u001b[39m: \u001b[38;5;241m2\u001b[39m}, {\u001b[38;5;124m'\u001b[39m\u001b[38;5;124mtype\u001b[39m\u001b[38;5;124m'\u001b[39m: \u001b[38;5;124m'\u001b[39m\u001b[38;5;124mtext\u001b[39m\u001b[38;5;124m'\u001b[39m, \u001b[38;5;124m'\u001b[39m\u001b[38;5;124mvalue\u001b[39m\u001b[38;5;124m'\u001b[39m: \u001b[38;5;124m'\u001b[39m\u001b[38;5;124mSimpplr will implement appropriate technical, administrative, and physical controls to protect data from unauthorized access, disclosure, alteration, or destruction. Data encryption, secure backup procedures, and periodic audits will be conducted to ensure data protection.\u001b[39m\u001b[38;5;124m'\u001b[39m, \u001b[38;5;124m'\u001b[39m\u001b[38;5;124mmd\u001b[39m\u001b[38;5;124m'\u001b[39m: \u001b[38;5;124m'\u001b[39m\u001b[38;5;124mSimpplr will implement appropriate technical, administrative, and physical controls to protect data from unauthorized access, disclosure, alteration, or destruction. Data encryption, secure backup procedures, and periodic audits will be conducted to ensure data protection.\u001b[39m\u001b[38;5;124m'\u001b[39m, \u001b[38;5;124m'\u001b[39m\u001b[38;5;124mbBox\u001b[39m\u001b[38;5;124m'\u001b[39m: {\u001b[38;5;124m'\u001b[39m\u001b[38;5;124mx\u001b[39m\u001b[38;5;124m'\u001b[39m: \u001b[38;5;241m72\u001b[39m, \u001b[38;5;124m'\u001b[39m\u001b[38;5;124my\u001b[39m\u001b[38;5;124m'\u001b[39m: \u001b[38;5;241m141\u001b[39m, \u001b[38;5;124m'\u001b[39m\u001b[38;5;124mw\u001b[39m\u001b[38;5;124m'\u001b[39m: \u001b[38;5;241m452.1385669290379\u001b[39m, \u001b[38;5;124m'\u001b[39m\u001b[38;5;124mh\u001b[39m\u001b[38;5;124m'\u001b[39m: \u001b[38;5;241m11.00000025\u001b[39m}, \u001b[38;5;124m'\u001b[39m\u001b[38;5;124mpage_num\u001b[39m\u001b[38;5;124m'\u001b[39m: \u001b[38;5;241m2\u001b[39m}, {\u001b[38;5;124m'\u001b[39m\u001b[38;5;124mtype\u001b[39m\u001b[38;5;124m'\u001b[39m: \u001b[38;5;124m'\u001b[39m\u001b[38;5;124mheading\u001b[39m\u001b[38;5;124m'\u001b[39m, \u001b[38;5;124m'\u001b[39m\u001b[38;5;124mlvl\u001b[39m\u001b[38;5;124m'\u001b[39m: \u001b[38;5;241m1\u001b[39m, \u001b[38;5;124m'\u001b[39m\u001b[38;5;124mvalue\u001b[39m\u001b[38;5;124m'\u001b[39m: \u001b[38;5;124m'\u001b[39m\u001b[38;5;124m4.5 Incident Response\u001b[39m\u001b[38;5;124m'\u001b[39m, \u001b[38;5;124m'\u001b[39m\u001b[38;5;124mmd\u001b[39m\u001b[38;5;124m'\u001b[39m: \u001b[38;5;124m'\u001b[39m\u001b[38;5;124m# 4.5 Incident Response\u001b[39m\u001b[38;5;124m'\u001b[39m, \u001b[38;5;124m'\u001b[39m\u001b[38;5;124mbBox\u001b[39m\u001b[38;5;124m'\u001b[39m: {\u001b[38;5;124m'\u001b[39m\u001b[38;5;124mx\u001b[39m\u001b[38;5;124m'\u001b[39m: \u001b[38;5;241m72\u001b[39m, \u001b[38;5;124m'\u001b[39m\u001b[38;5;124my\u001b[39m\u001b[38;5;124m'\u001b[39m: \u001b[38;5;241m199\u001b[39m, \u001b[38;5;124m'\u001b[39m\u001b[38;5;124mw\u001b[39m\u001b[38;5;124m'\u001b[39m: \u001b[38;5;241m109.38949250403809\u001b[39m, \u001b[38;5;124m'\u001b[39m\u001b[38;5;124mh\u001b[39m\u001b[38;5;124m'\u001b[39m: \u001b[38;5;241m11.00000025\u001b[39m}, \u001b[38;5;124m'\u001b[39m\u001b[38;5;124mpage_num\u001b[39m\u001b[38;5;124m'\u001b[39m: \u001b[38;5;241m2\u001b[39m}, {\u001b[38;5;124m'\u001b[39m\u001b[38;5;124mtype\u001b[39m\u001b[38;5;124m'\u001b[39m: \u001b[38;5;124m'\u001b[39m\u001b[38;5;124mtext\u001b[39m\u001b[38;5;124m'\u001b[39m, \u001b[38;5;124m'\u001b[39m\u001b[38;5;124mvalue\u001b[39m\u001b[38;5;124m'\u001b[39m: \u001b[38;5;124m'\u001b[39m\u001b[38;5;124mAn incident response plan will be developed to handle any information security incidents effectively and minimize their impact. This plan will include procedures for reporting incidents, assessing their severity, containing the incident, investigating root causes, and implementing corrective and preventive actions.\u001b[39m\u001b[38;5;124m'\u001b[39m, \u001b[38;5;124m'\u001b[39m\u001b[38;5;124mmd\u001b[39m\u001b[38;5;124m'\u001b[39m: \u001b[38;5;124m'\u001b[39m\u001b[38;5;124mAn incident response plan will be developed to handle any information security incidents effectively and minimize their impact. This plan will include procedures for reporting incidents, assessing their severity, containing the incident, investigating root causes, and implementing corrective and preventive actions.\u001b[39m\u001b[38;5;124m'\u001b[39m, \u001b[38;5;124m'\u001b[39m\u001b[38;5;124mbBox\u001b[39m\u001b[38;5;124m'\u001b[39m: {\u001b[38;5;124m'\u001b[39m\u001b[38;5;124mx\u001b[39m\u001b[38;5;124m'\u001b[39m: \u001b[38;5;241m72\u001b[39m, \u001b[38;5;124m'\u001b[39m\u001b[38;5;124my\u001b[39m\u001b[38;5;124m'\u001b[39m: \u001b[38;5;241m214\u001b[39m, \u001b[38;5;124m'\u001b[39m\u001b[38;5;124mw\u001b[39m\u001b[38;5;124m'\u001b[39m: \u001b[38;5;241m453.12919902445765\u001b[39m, \u001b[38;5;124m'\u001b[39m\u001b[38;5;124mh\u001b[39m\u001b[38;5;124m'\u001b[39m: \u001b[38;5;241m11.00000025\u001b[39m}, \u001b[38;5;124m'\u001b[39m\u001b[38;5;124mpage_num\u001b[39m\u001b[38;5;124m'\u001b[39m: \u001b[38;5;241m2\u001b[39m}, {\u001b[38;5;124m'\u001b[39m\u001b[38;5;124mtype\u001b[39m\u001b[38;5;124m'\u001b[39m: \u001b[38;5;124m'\u001b[39m\u001b[38;5;124mheading\u001b[39m\u001b[38;5;124m'\u001b[39m, \u001b[38;5;124m'\u001b[39m\u001b[38;5;124mlvl\u001b[39m\u001b[38;5;124m'\u001b[39m: \u001b[38;5;241m1\u001b[39m, \u001b[38;5;124m'\u001b[39m\u001b[38;5;124mvalue\u001b[39m\u001b[38;5;124m'\u001b[39m: \u001b[38;5;124m'\u001b[39m\u001b[38;5;124m4.6 Security Awareness and Training\u001b[39m\u001b[38;5;124m'\u001b[39m, \u001b[38;5;124m'\u001b[39m\u001b[38;5;124mmd\u001b[39m\u001b[38;5;124m'\u001b[39m: \u001b[38;5;124m'\u001b[39m\u001b[38;5;124m# 4.6 Security Awareness and Training\u001b[39m\u001b[38;5;124m'\u001b[39m, \u001b[38;5;124m'\u001b[39m\u001b[38;5;124mbBox\u001b[39m\u001b[38;5;124m'\u001b[39m: {\u001b[38;5;124m'\u001b[39m\u001b[38;5;124mx\u001b[39m\u001b[38;5;124m'\u001b[39m: \u001b[38;5;241m72\u001b[39m, \u001b[38;5;124m'\u001b[39m\u001b[38;5;124my\u001b[39m\u001b[38;5;124m'\u001b[39m: \u001b[38;5;241m286\u001b[39m, \u001b[38;5;124m'\u001b[39m\u001b[38;5;124mw\u001b[39m\u001b[38;5;124m'\u001b[39m: \u001b[38;5;241m179.02951100403797\u001b[39m, \u001b[38;5;124m'\u001b[39m\u001b[38;5;124mh\u001b[39m\u001b[38;5;124m'\u001b[39m: \u001b[38;5;241m11.000000249999971\u001b[39m}, \u001b[38;5;124m'\u001b[39m\u001b[38;5;124mpage_num\u001b[39m\u001b[38;5;124m'\u001b[39m: \u001b[38;5;241m2\u001b[39m}, {\u001b[38;5;124m'\u001b[39m\u001b[38;5;124mtype\u001b[39m\u001b[38;5;124m'\u001b[39m: \u001b[38;5;124m'\u001b[39m\u001b[38;5;124mtext\u001b[39m\u001b[38;5;124m'\u001b[39m, \u001b[38;5;124m'\u001b[39m\u001b[38;5;124mvalue\u001b[39m\u001b[38;5;124m'\u001b[39m: \u001b[38;5;124m'\u001b[39m\u001b[38;5;124mSimpplr will provide regular security awareness and training programs to ensure that all employees are aware of their responsibilities, understand information security best practices, and are equipped to recognize and respond to security threats.\u001b[39m\u001b[38;5;124m'\u001b[39m, \u001b[38;5;124m'\u001b[39m\u001b[38;5;124mmd\u001b[39m\u001b[38;5;124m'\u001b[39m: \u001b[38;5;124m'\u001b[39m\u001b[38;5;124mSimpplr will provide regular security awareness and training programs to ensure that all employees are aware of their responsibilities, understand information security best practices, and are equipped to recognize and respond to security threats.\u001b[39m\u001b[38;5;124m'\u001b[39m, \u001b[38;5;124m'\u001b[39m\u001b[38;5;124mbBox\u001b[39m\u001b[38;5;124m'\u001b[39m: {\u001b[38;5;124m'\u001b[39m\u001b[38;5;124mx\u001b[39m\u001b[38;5;124m'\u001b[39m: \u001b[38;5;241m72\u001b[39m, \u001b[38;5;124m'\u001b[39m\u001b[38;5;124my\u001b[39m\u001b[38;5;124m'\u001b[39m: \u001b[38;5;241m301\u001b[39m, \u001b[38;5;124m'\u001b[39m\u001b[38;5;124mw\u001b[39m\u001b[38;5;124m'\u001b[39m: \u001b[38;5;241m450.2900617994578\u001b[39m, \u001b[38;5;124m'\u001b[39m\u001b[38;5;124mh\u001b[39m\u001b[38;5;124m'\u001b[39m: \u001b[38;5;241m11.000000249999971\u001b[39m}, \u001b[38;5;124m'\u001b[39m\u001b[38;5;124mpage_num\u001b[39m\u001b[38;5;124m'\u001b[39m: \u001b[38;5;241m2\u001b[39m}, {\u001b[38;5;124m'\u001b[39m\u001b[38;5;124mtype\u001b[39m\u001b[38;5;124m'\u001b[39m: \u001b[38;5;124m'\u001b[39m\u001b[38;5;124mheading\u001b[39m\u001b[38;5;124m'\u001b[39m, \u001b[38;5;124m'\u001b[39m\u001b[38;5;124mlvl\u001b[39m\u001b[38;5;124m'\u001b[39m: \u001b[38;5;241m1\u001b[39m, \u001b[38;5;124m'\u001b[39m\u001b[38;5;124mvalue\u001b[39m\u001b[38;5;124m'\u001b[39m: \u001b[38;5;124m'\u001b[39m\u001b[38;5;124m5. Acceptable Use of IT Resources\u001b[39m\u001b[38;5;124m'\u001b[39m, \u001b[38;5;124m'\u001b[39m\u001b[38;5;124mmd\u001b[39m\u001b[38;5;124m'\u001b[39m: \u001b[38;5;124m'\u001b[39m\u001b[38;5;124m# 5. Acceptable Use of IT Resources\u001b[39m\u001b[38;5;124m'\u001b[39m, \u001b[38;5;124m'\u001b[39m\u001b[38;5;124mbBox\u001b[39m\u001b[38;5;124m'\u001b[39m: {\u001b[38;5;124m'\u001b[39m\u001b[38;5;124mx\u001b[39m\u001b[38;5;124m'\u001b[39m: \u001b[38;5;241m72\u001b[39m, \u001b[38;5;124m'\u001b[39m\u001b[38;5;124my\u001b[39m\u001b[38;5;124m'\u001b[39m: \u001b[38;5;241m359\u001b[39m, \u001b[38;5;124m'\u001b[39m\u001b[38;5;124mw\u001b[39m\u001b[38;5;124m'\u001b[39m: \u001b[38;5;241m169.85145210000002\u001b[39m, \u001b[38;5;124m'\u001b[39m\u001b[38;5;124mh\u001b[39m\u001b[38;5;124m'\u001b[39m: \u001b[38;5;241m11.000000249999971\u001b[39m}, \u001b[38;5;124m'\u001b[39m\u001b[38;5;124mpage_num\u001b[39m\u001b[38;5;124m'\u001b[39m: \u001b[38;5;241m2\u001b[39m}, {\u001b[38;5;124m'\u001b[39m\u001b[38;5;124mtype\u001b[39m\u001b[38;5;124m'\u001b[39m: \u001b[38;5;124m'\u001b[39m\u001b[38;5;124mheading\u001b[39m\u001b[38;5;124m'\u001b[39m, \u001b[38;5;124m'\u001b[39m\u001b[38;5;124mlvl\u001b[39m\u001b[38;5;124m'\u001b[39m: \u001b[38;5;241m1\u001b[39m, \u001b[38;5;124m'\u001b[39m\u001b[38;5;124mvalue\u001b[39m\u001b[38;5;124m'\u001b[39m: \u001b[38;5;124m'\u001b[39m\u001b[38;5;124m5.1 Use of Company IT Resources\u001b[39m\u001b[38;5;124m'\u001b[39m, \u001b[38;5;124m'\u001b[39m\u001b[38;5;124mmd\u001b[39m\u001b[38;5;124m'\u001b[39m: \u001b[38;5;124m'\u001b[39m\u001b[38;5;124m# 5.1 Use of Company IT Resources\u001b[39m\u001b[38;5;124m'\u001b[39m, \u001b[38;5;124m'\u001b[39m\u001b[38;5;124mbBox\u001b[39m\u001b[38;5;124m'\u001b[39m: {\u001b[38;5;124m'\u001b[39m\u001b[38;5;124mx\u001b[39m\u001b[38;5;124m'\u001b[39m: \u001b[38;5;241m72\u001b[39m, \u001b[38;5;124m'\u001b[39m\u001b[38;5;124my\u001b[39m\u001b[38;5;124m'\u001b[39m: \u001b[38;5;241m388\u001b[39m, \u001b[38;5;124m'\u001b[39m\u001b[38;5;124mw\u001b[39m\u001b[38;5;124m'\u001b[39m: \u001b[38;5;241m168.62234534999996\u001b[39m, \u001b[38;5;124m'\u001b[39m\u001b[38;5;124mh\u001b[39m\u001b[38;5;124m'\u001b[39m: \u001b[38;5;241m11.000000249999971\u001b[39m}, \u001b[38;5;124m'\u001b[39m\u001b[38;5;124mpage_num\u001b[39m\u001b[38;5;124m'\u001b[39m: \u001b[38;5;241m2\u001b[39m}, {\u001b[38;5;124m'\u001b[39m\u001b[38;5;124mtype\u001b[39m\u001b[38;5;124m'\u001b[39m: \u001b[38;5;124m'\u001b[39m\u001b[38;5;124mtext\u001b[39m\u001b[38;5;124m'\u001b[39m, \u001b[38;5;124m'\u001b[39m\u001b[38;5;124mvalue\u001b[39m\u001b[38;5;124m'\u001b[39m: \u001b[38;5;124m\"\u001b[39m\u001b[38;5;124mEmployees are expected to use Simpplr\u001b[39m\u001b[38;5;124m'\u001b[39m\u001b[38;5;124ms IT resources for business purposes only. Personal use of these resources should be limited to breaks or when authorized by management.\u001b[39m\u001b[38;5;124m\"\u001b[39m, \u001b[38;5;124m'\u001b[39m\u001b[38;5;124mmd\u001b[39m\u001b[38;5;124m'\u001b[39m: \u001b[38;5;124m\"\u001b[39m\u001b[38;5;124mEmployees are expected to use Simpplr\u001b[39m\u001b[38;5;124m'\u001b[39m\u001b[38;5;124ms IT resources for business purposes only. Personal use of these resources should be limited to breaks or when authorized by management.\u001b[39m\u001b[38;5;124m\"\u001b[39m, \u001b[38;5;124m'\u001b[39m\u001b[38;5;124mbBox\u001b[39m\u001b[38;5;124m'\u001b[39m: {\u001b[38;5;124m'\u001b[39m\u001b[38;5;124mx\u001b[39m\u001b[38;5;124m'\u001b[39m: \u001b[38;5;241m72\u001b[39m, \u001b[38;5;124m'\u001b[39m\u001b[38;5;124my\u001b[39m\u001b[38;5;124m'\u001b[39m: \u001b[38;5;241m403\u001b[39m, \u001b[38;5;124m'\u001b[39m\u001b[38;5;124mw\u001b[39m\u001b[38;5;124m'\u001b[39m: \u001b[38;5;241m448.51783487554167\u001b[39m, \u001b[38;5;124m'\u001b[39m\u001b[38;5;124mh\u001b[39m\u001b[38;5;124m'\u001b[39m: \u001b[38;5;241m11.000000249999971\u001b[39m}, \u001b[38;5;124m'\u001b[39m\u001b[38;5;124mpage_num\u001b[39m\u001b[38;5;124m'\u001b[39m: \u001b[38;5;241m2\u001b[39m}, {\u001b[38;5;124m'\u001b[39m\u001b[38;5;124mtype\u001b[39m\u001b[38;5;124m'\u001b[39m: \u001b[38;5;124m'\u001b[39m\u001b[38;5;124mheading\u001b[39m\u001b[38;5;124m'\u001b[39m, \u001b[38;5;124m'\u001b[39m\u001b[38;5;124mlvl\u001b[39m\u001b[38;5;124m'\u001b[39m: \u001b[38;5;241m1\u001b[39m, \u001b[38;5;124m'\u001b[39m\u001b[38;5;124mvalue\u001b[39m\u001b[38;5;124m'\u001b[39m: \u001b[38;5;124m'\u001b[39m\u001b[38;5;124m5.2 Software Usage\u001b[39m\u001b[38;5;124m'\u001b[39m, \u001b[38;5;124m'\u001b[39m\u001b[38;5;124mmd\u001b[39m\u001b[38;5;124m'\u001b[39m: \u001b[38;5;124m'\u001b[39m\u001b[38;5;124m# 5.2 Software Usage\u001b[39m\u001b[38;5;124m'\u001b[39m, \u001b[38;5;124m'\u001b[39m\u001b[38;5;124mbBox\u001b[39m\u001b[38;5;124m'\u001b[39m: {\u001b[38;5;124m'\u001b[39m\u001b[38;5;124mx\u001b[39m\u001b[38;5;124m'\u001b[39m: \u001b[38;5;241m72\u001b[39m, \u001b[38;5;124m'\u001b[39m\u001b[38;5;124my\u001b[39m\u001b[38;5;124m'\u001b[39m: \u001b[38;5;241m446\u001b[39m, \u001b[38;5;124m'\u001b[39m\u001b[38;5;124mw\u001b[39m\u001b[38;5;124m'\u001b[39m: \u001b[38;5;241m96.54559355403802\u001b[39m, \u001b[38;5;124m'\u001b[39m\u001b[38;5;124mh\u001b[39m\u001b[38;5;124m'\u001b[39m: \u001b[38;5;241m11.000000249999971\u001b[39m}, \u001b[38;5;124m'\u001b[39m\u001b[38;5;124mpage_num\u001b[39m\u001b[38;5;124m'\u001b[39m: \u001b[38;5;241m2\u001b[39m}, {\u001b[38;5;124m'\u001b[39m\u001b[38;5;124mtype\u001b[39m\u001b[38;5;124m'\u001b[39m: \u001b[38;5;124m'\u001b[39m\u001b[38;5;124mtext\u001b[39m\u001b[38;5;124m'\u001b[39m, \u001b[38;5;124m'\u001b[39m\u001b[38;5;124mvalue\u001b[39m\u001b[38;5;124m'\u001b[39m: \u001b[38;5;124m'\u001b[39m\u001b[38;5;124mEmployees must comply with software license agreements, use only authorized software, and refrain from unauthorized installation or distribution of software that may introduce security risks.\u001b[39m\u001b[38;5;124m'\u001b[39m, \u001b[38;5;124m'\u001b[39m\u001b[38;5;124mmd\u001b[39m\u001b[38;5;124m'\u001b[39m: \u001b[38;5;124m'\u001b[39m\u001b[38;5;124mEmployees must comply with software license agreements, use only authorized software, and refrain from unauthorized installation or distribution of software that may introduce security risks.\u001b[39m\u001b[38;5;124m'\u001b[39m, \u001b[38;5;124m'\u001b[39m\u001b[38;5;124mbBox\u001b[39m\u001b[38;5;124m'\u001b[39m: {\u001b[38;5;124m'\u001b[39m\u001b[38;5;124mx\u001b[39m\u001b[38;5;124m'\u001b[39m: \u001b[38;5;241m72\u001b[39m, \u001b[38;5;124m'\u001b[39m\u001b[38;5;124my\u001b[39m\u001b[38;5;124m'\u001b[39m: \u001b[38;5;241m461\u001b[39m, \u001b[38;5;124m'\u001b[39m\u001b[38;5;124mw\u001b[39m\u001b[38;5;124m'\u001b[39m: \u001b[38;5;241m466.76760747445815\u001b[39m, \u001b[38;5;124m'\u001b[39m\u001b[38;5;124mh\u001b[39m\u001b[38;5;124m'\u001b[39m: \u001b[38;5;241m11.000000249999971\u001b[39m}, \u001b[38;5;124m'\u001b[39m\u001b[38;5;124mpage_num\u001b[39m\u001b[38;5;124m'\u001b[39m: \u001b[38;5;241m2\u001b[39m}, {\u001b[38;5;124m'\u001b[39m\u001b[38;5;124mtype\u001b[39m\u001b[38;5;124m'\u001b[39m: \u001b[38;5;124m'\u001b[39m\u001b[38;5;124mheading\u001b[39m\u001b[38;5;124m'\u001b[39m, \u001b[38;5;124m'\u001b[39m\u001b[38;5;124mlvl\u001b[39m\u001b[38;5;124m'\u001b[39m: \u001b[38;5;241m1\u001b[39m, \u001b[38;5;124m'\u001b[39m\u001b[38;5;124mvalue\u001b[39m\u001b[38;5;124m'\u001b[39m: \u001b[38;5;124m'\u001b[39m\u001b[38;5;124m5.3 Internet Usage\u001b[39m\u001b[38;5;124m'\u001b[39m, \u001b[38;5;124m'\u001b[39m\u001b[38;5;124mmd\u001b[39m\u001b[38;5;124m'\u001b[39m: \u001b[38;5;124m'\u001b[39m\u001b[38;5;124m# 5.3 Internet Usage\u001b[39m\u001b[38;5;124m'\u001b[39m, \u001b[38;5;124m'\u001b[39m\u001b[38;5;124mbBox\u001b[39m\u001b[38;5;124m'\u001b[39m: {\u001b[38;5;124m'\u001b[39m\u001b[38;5;124mx\u001b[39m\u001b[38;5;124m'\u001b[39m: \u001b[38;5;241m72\u001b[39m, \u001b[38;5;124m'\u001b[39m\u001b[38;5;124my\u001b[39m\u001b[38;5;124m'\u001b[39m: \u001b[38;5;241m505\u001b[39m, \u001b[38;5;124m'\u001b[39m\u001b[38;5;124mw\u001b[39m\u001b[38;5;124m'\u001b[39m: \u001b[38;5;241m90.44299730403816\u001b[39m, \u001b[38;5;124m'\u001b[39m\u001b[38;5;124mh\u001b[39m\u001b[38;5;124m'\u001b[39m: \u001b[38;5;241m11.000000249999971\u001b[39m}, \u001b[38;5;124m'\u001b[39m\u001b[38;5;124mpage_num\u001b[39m\u001b[38;5;124m'\u001b[39m: \u001b[38;5;241m2\u001b[39m}, {\u001b[38;5;124m'\u001b[39m\u001b[38;5;124mtype\u001b[39m\u001b[38;5;124m'\u001b[39m: \u001b[38;5;124m'\u001b[39m\u001b[38;5;124mtext\u001b[39m\u001b[38;5;124m'\u001b[39m, \u001b[38;5;124m'\u001b[39m\u001b[38;5;124mvalue\u001b[39m\u001b[38;5;124m'\u001b[39m: \u001b[38;5;124m\"\u001b[39m\u001b[38;5;124mSimpplr\u001b[39m\u001b[38;5;124m'\u001b[39m\u001b[38;5;124ms internet resources must be used responsibly and in compliance with applicable laws and regulations. Employees must avoid accessing, distributing, or transmitting inappropriate, offensive, or illegal material.\u001b[39m\u001b[38;5;124m\"\u001b[39m, \u001b[38;5;124m'\u001b[39m\u001b[38;5;124mmd\u001b[39m\u001b[38;5;124m'\u001b[39m: \u001b[38;5;124m\"\u001b[39m\u001b[38;5;124mSimpplr\u001b[39m\u001b[38;5;124m'\u001b[39m\u001b[38;5;124ms internet resources must be used responsibly and in compliance with applicable laws and regulations. Employees must avoid accessing, distributing, or transmitting inappropriate, offensive, or illegal material.\u001b[39m\u001b[38;5;124m\"\u001b[39m, \u001b[38;5;124m'\u001b[39m\u001b[38;5;124mbBox\u001b[39m\u001b[38;5;124m'\u001b[39m: {\u001b[38;5;124m'\u001b[39m\u001b[38;5;124mx\u001b[39m\u001b[38;5;124m'\u001b[39m: \u001b[38;5;241m72\u001b[39m, \u001b[38;5;124m'\u001b[39m\u001b[38;5;124my\u001b[39m\u001b[38;5;124m'\u001b[39m: \u001b[38;5;241m519\u001b[39m, \u001b[38;5;124m'\u001b[39m\u001b[38;5;124mw\u001b[39m\u001b[38;5;124m'\u001b[39m: \u001b[38;5;241m455.4497511750002\u001b[39m, \u001b[38;5;124m'\u001b[39m\u001b[38;5;124mh\u001b[39m\u001b[38;5;124m'\u001b[39m: \u001b[38;5;241m11.000000249999971\u001b[39m}, \u001b[38;5;124m'\u001b[39m\u001b[38;5;124mpage_num\u001b[39m\u001b[38;5;124m'\u001b[39m: \u001b[38;5;241m2\u001b[39m}, {\u001b[38;5;124m'\u001b[39m\u001b[38;5;124mtype\u001b[39m\u001b[38;5;124m'\u001b[39m: \u001b[38;5;124m'\u001b[39m\u001b[38;5;124mheading\u001b[39m\u001b[38;5;124m'\u001b[39m, \u001b[38;5;124m'\u001b[39m\u001b[38;5;124mlvl\u001b[39m\u001b[38;5;124m'\u001b[39m: \u001b[38;5;241m1\u001b[39m, \u001b[38;5;124m'\u001b[39m\u001b[38;5;124mvalue\u001b[39m\u001b[38;5;124m'\u001b[39m: \u001b[38;5;124m'\u001b[39m\u001b[38;5;124m6. Policy Compliance and Enforcement\u001b[39m\u001b[38;5;124m'\u001b[39m, \u001b[38;5;124m'\u001b[39m\u001b[38;5;124mmd\u001b[39m\u001b[38;5;124m'\u001b[39m: \u001b[38;5;124m'\u001b[39m\u001b[38;5;124m# 6. Policy Compliance and Enforcement\u001b[39m\u001b[38;5;124m'\u001b[39m, \u001b[38;5;124m'\u001b[39m\u001b[38;5;124mbBox\u001b[39m\u001b[38;5;124m'\u001b[39m: {\u001b[38;5;124m'\u001b[39m\u001b[38;5;124mx\u001b[39m\u001b[38;5;124m'\u001b[39m: \u001b[38;5;241m72\u001b[39m, \u001b[38;5;124m'\u001b[39m\u001b[38;5;124my\u001b[39m\u001b[38;5;124m'\u001b[39m: \u001b[38;5;241m577\u001b[39m, \u001b[38;5;124m'\u001b[39m\u001b[38;5;124mw\u001b[39m\u001b[38;5;124m'\u001b[39m: \u001b[38;5;241m189.40808277445797\u001b[39m, \u001b[38;5;124m'\u001b[39m\u001b[38;5;124mh\u001b[39m\u001b[38;5;124m'\u001b[39m: \u001b[38;5;241m11.000000249999971\u001b[39m}, \u001b[38;5;124m'\u001b[39m\u001b[38;5;124mpage_num\u001b[39m\u001b[38;5;124m'\u001b[39m: \u001b[38;5;241m2\u001b[39m}, {\u001b[38;5;124m'\u001b[39m\u001b[38;5;124mtype\u001b[39m\u001b[38;5;124m'\u001b[39m: \u001b[38;5;124m'\u001b[39m\u001b[38;5;124mtext\u001b[39m\u001b[38;5;124m'\u001b[39m, \u001b[38;5;124m'\u001b[39m\u001b[38;5;124mvalue\u001b[39m\u001b[38;5;124m'\u001b[39m: \u001b[38;5;124m\"\u001b[39m\u001b[38;5;124mNon-compliance with this policy may result in disciplinary action, up to and including termination of employment or contract. Simpplr\u001b[39m\u001b[38;5;124m'\u001b[39m\u001b[38;5;124ms IT department and management will be responsible for monitoring compliance, investigating violations, and enforcing the policy.\u001b[39m\u001b[38;5;124m\"\u001b[39m, \u001b[38;5;124m'\u001b[39m\u001b[38;5;124mmd\u001b[39m\u001b[38;5;124m'\u001b[39m: \u001b[38;5;124m\"\u001b[39m\u001b[38;5;124mNon-compliance with this policy may result in disciplinary action, up to and including termination of employment or contract. Simpplr\u001b[39m\u001b[38;5;124m'\u001b[39m\u001b[38;5;124ms IT department and management will be responsible for monitoring compliance, investigating violations, and enforcing the policy.\u001b[39m\u001b[38;5;124m\"\u001b[39m, \u001b[38;5;124m'\u001b[39m\u001b[38;5;124mbBox\u001b[39m\u001b[38;5;124m'\u001b[39m: {\u001b[38;5;124m'\u001b[39m\u001b[38;5;124mx\u001b[39m\u001b[38;5;124m'\u001b[39m: \u001b[38;5;241m72\u001b[39m, \u001b[38;5;124m'\u001b[39m\u001b[38;5;124my\u001b[39m\u001b[38;5;124m'\u001b[39m: \u001b[38;5;241m606\u001b[39m, \u001b[38;5;124m'\u001b[39m\u001b[38;5;124mw\u001b[39m\u001b[38;5;124m'\u001b[39m: \u001b[38;5;241m464.3437792290375\u001b[39m, \u001b[38;5;124m'\u001b[39m\u001b[38;5;124mh\u001b[39m\u001b[38;5;124m'\u001b[39m: \u001b[38;5;241m11.000000249999971\u001b[39m}, \u001b[38;5;124m'\u001b[39m\u001b[38;5;124mpage_num\u001b[39m\u001b[38;5;124m'\u001b[39m: \u001b[38;5;241m2\u001b[39m}, {\u001b[38;5;124m'\u001b[39m\u001b[38;5;124mtype\u001b[39m\u001b[38;5;124m'\u001b[39m: \u001b[38;5;124m'\u001b[39m\u001b[38;5;124mheading\u001b[39m\u001b[38;5;124m'\u001b[39m, \u001b[38;5;124m'\u001b[39m\u001b[38;5;124mlvl\u001b[39m\u001b[38;5;124m'\u001b[39m: \u001b[38;5;241m1\u001b[39m, \u001b[38;5;124m'\u001b[39m\u001b[38;5;124mvalue\u001b[39m\u001b[38;5;124m'\u001b[39m: \u001b[38;5;124m'\u001b[39m\u001b[38;5;124mConclusion\u001b[39m\u001b[38;5;124m'\u001b[39m, \u001b[38;5;124m'\u001b[39m\u001b[38;5;124mmd\u001b[39m\u001b[38;5;124m'\u001b[39m: \u001b[38;5;124m'\u001b[39m\u001b[38;5;124m# Conclusion\u001b[39m\u001b[38;5;124m'\u001b[39m, \u001b[38;5;124m'\u001b[39m\u001b[38;5;124mbBox\u001b[39m\u001b[38;5;124m'\u001b[39m: {\u001b[38;5;124m'\u001b[39m\u001b[38;5;124mx\u001b[39m\u001b[38;5;124m'\u001b[39m: \u001b[38;5;241m72\u001b[39m, \u001b[38;5;124m'\u001b[39m\u001b[38;5;124my\u001b[39m\u001b[38;5;124m'\u001b[39m: \u001b[38;5;241m665\u001b[39m, \u001b[38;5;124m'\u001b[39m\u001b[38;5;124mw\u001b[39m\u001b[38;5;124m'\u001b[39m: \u001b[38;5;241m54.385616454038086\u001b[39m, \u001b[38;5;124m'\u001b[39m\u001b[38;5;124mh\u001b[39m\u001b[38;5;124m'\u001b[39m: \u001b[38;5;241m11.000000249999971\u001b[39m}, \u001b[38;5;124m'\u001b[39m\u001b[38;5;124mpage_num\u001b[39m\u001b[38;5;124m'\u001b[39m: \u001b[38;5;241m2\u001b[39m}, {\u001b[38;5;124m'\u001b[39m\u001b[38;5;124mtype\u001b[39m\u001b[38;5;124m'\u001b[39m: \u001b[38;5;124m'\u001b[39m\u001b[38;5;124mtext\u001b[39m\u001b[38;5;124m'\u001b[39m, \u001b[38;5;124m'\u001b[39m\u001b[38;5;124mvalue\u001b[39m\u001b[38;5;124m'\u001b[39m: \u001b[38;5;124m'\u001b[39m\u001b[38;5;124mThe Information Security and IT Policy is essential for Simpplr to ensure the confidentiality, integrity, and availability of its information assets. Compliance with this policy is mandatory for\u001b[39m\u001b[38;5;124m'\u001b[39m, \u001b[38;5;124m'\u001b[39m\u001b[38;5;124mmd\u001b[39m\u001b[38;5;124m'\u001b[39m: \u001b[38;5;124m'\u001b[39m\u001b[38;5;124mThe Information Security and IT Policy is essential for Simpplr to ensure the confidentiality, integrity, and availability of its information assets. Compliance with this policy is mandatory for\u001b[39m\u001b[38;5;124m'\u001b[39m, \u001b[38;5;124m'\u001b[39m\u001b[38;5;124mbBox\u001b[39m\u001b[38;5;124m'\u001b[39m: {\u001b[38;5;124m'\u001b[39m\u001b[38;5;124mx\u001b[39m\u001b[38;5;124m'\u001b[39m: \u001b[38;5;241m72\u001b[39m, \u001b[38;5;124m'\u001b[39m\u001b[38;5;124my\u001b[39m\u001b[38;5;124m'\u001b[39m: \u001b[38;5;241m694\u001b[39m, \u001b[38;5;124m'\u001b[39m\u001b[38;5;124mw\u001b[39m\u001b[38;5;124m'\u001b[39m: \u001b[38;5;241m454.33682111825226\u001b[39m, \u001b[38;5;124m'\u001b[39m\u001b[38;5;124mh\u001b[39m\u001b[38;5;124m'\u001b[39m: \u001b[38;5;241m11.000000249999971\u001b[39m}, \u001b[38;5;124m'\u001b[39m\u001b[38;5;124mpage_num\u001b[39m\u001b[38;5;124m'\u001b[39m: \u001b[38;5;241m2\u001b[39m}, {\u001b[38;5;124m'\u001b[39m\u001b[38;5;124mtype\u001b[39m\u001b[38;5;124m'\u001b[39m: \u001b[38;5;124m'\u001b[39m\u001b[38;5;124mtext\u001b[39m\u001b[38;5;124m'\u001b[39m, \u001b[38;5;124m'\u001b[39m\u001b[38;5;124mvalue\u001b[39m\u001b[38;5;124m'\u001b[39m: \u001b[38;5;124m\"\u001b[39m\u001b[38;5;124meveryone associated with the organization. It is the responsibility of every employee, contractor, and vendor to familiarize themselves with this policy and understand their role in protecting Simpplr\u001b[39m\u001b[38;5;124m'\u001b[39m\u001b[38;5;124ms information assets and IT infrastructure.\u001b[39m\u001b[38;5;124m\"\u001b[39m, \u001b[38;5;124m'\u001b[39m\u001b[38;5;124mmd\u001b[39m\u001b[38;5;124m'\u001b[39m: \u001b[38;5;124m\"\u001b[39m\u001b[38;5;124meveryone associated with the organization. It is the responsibility of every employee, contractor, and vendor to familiarize themselves with this policy and understand their role in protecting Simpplr\u001b[39m\u001b[38;5;124m'\u001b[39m\u001b[38;5;124ms information assets and IT infrastructure.\u001b[39m\u001b[38;5;124m\"\u001b[39m, \u001b[38;5;124m'\u001b[39m\u001b[38;5;124mbBox\u001b[39m\u001b[38;5;124m'\u001b[39m: {\u001b[38;5;124m'\u001b[39m\u001b[38;5;124mx\u001b[39m\u001b[38;5;124m'\u001b[39m: \u001b[38;5;241m72\u001b[39m, \u001b[38;5;124m'\u001b[39m\u001b[38;5;124my\u001b[39m\u001b[38;5;124m'\u001b[39m: \u001b[38;5;241m83\u001b[39m, \u001b[38;5;124m'\u001b[39m\u001b[38;5;124mw\u001b[39m\u001b[38;5;124m'\u001b[39m: \u001b[38;5;241m463.13889312445747\u001b[39m, \u001b[38;5;124m'\u001b[39m\u001b[38;5;124mh\u001b[39m\u001b[38;5;124m'\u001b[39m: \u001b[38;5;241m11.00000025\u001b[39m}, \u001b[38;5;124m'\u001b[39m\u001b[38;5;124mpage_num\u001b[39m\u001b[38;5;124m'\u001b[39m: \u001b[38;5;241m3\u001b[39m}]\n\u001b[0;32m----> 2\u001b[0m \u001b[43mextract_text_and_heading\u001b[49m(nl)\n",
      "\u001b[0;31mNameError\u001b[0m: name 'extract_text_and_heading' is not defined"
     ]
    }
   ],
   "source": [
    "nl = [{'type': 'heading', 'lvl': 1, 'value': 'Information Security and IT Policy', 'md': '# Information Security and IT Policy', 'bBox': {'x': 0, 'y': 0, 'w': 612}, 'page_num': 1}, {'type': 'heading', 'lvl': 1, 'value': '1. Introduction', 'md': '# 1. Introduction', 'bBox': {'x': 72, 'y': 112, 'w': 69.66625992903812, 'h': 11.00000025}, 'page_num': 1}, {'type': 'text', 'value': \"This Information Security and IT Policy document outlines the policies and guidelines that all employees, contractors, and vendors of Simpplr must adhere to in order to safeguard the organization's information assets and maintain the privacy and integrity of its IT infrastructure. The policy also addresses compliance with applicable laws and regulations pertaining to information security.\", 'md': \"This Information Security and IT Policy document outlines the policies and guidelines that all employees, contractors, and vendors of Simpplr must adhere to in order to safeguard the organization's information assets and maintain the privacy and integrity of its IT infrastructure. The policy also addresses compliance with applicable laws and regulations pertaining to information security.\", 'bBox': {'x': 72, 'y': 141, 'w': 454.21890949945805, 'h': 11.00000025}, 'page_num': 1}, {'type': 'heading', 'lvl': 1, 'value': '2. Scope', 'md': '# 2. Scope', 'bBox': {'x': 72, 'y': 228, 'w': 43.39342887903807, 'h': 11.00000025}, 'page_num': 1}, {'type': 'text', 'value': \"This policy applies to all employees, contractors, and vendors who have access to Simpplr's information assets, including but not limited to computer systems, networks, data, and software. It covers the use of Simpplr-provided and personal devices used for business purposes, as well as any other assets or resources owned or managed by Simpplr.\", 'md': \"This policy applies to all employees, contractors, and vendors who have access to Simpplr's information assets, including but not limited to computer systems, networks, data, and software. It covers the use of Simpplr-provided and personal devices used for business purposes, as well as any other assets or resources owned or managed by Simpplr.\", 'bBox': {'x': 72, 'y': 257, 'w': 464.3362273244577, 'h': 11.000000249999971}, 'page_num': 1}, {'type': 'heading', 'lvl': 1, 'value': '3. Responsibilities', 'md': '# 3. Responsibilities', 'bBox': {'x': 72, 'y': 330, 'w': 88.59621450000003, 'h': 11.000000249999971}, 'page_num': 1}, {'type': 'heading', 'lvl': 1, 'value': '3.1 Management Responsibilities', 'md': '# 3.1 Management Responsibilities', 'bBox': {'x': 72, 'y': 359, 'w': 161.92398060000002, 'h': 11.000000249999971}, 'page_num': 1}, {'type': 'text', 'value': \"The executive management team is responsible for establishing and enforcing information security policies, allocating adequate resources, and providing leadership in ensuring the effectiveness of Simpplr's information security program.\", 'md': \"The executive management team is responsible for establishing and enforcing information security policies, allocating adequate resources, and providing leadership in ensuring the effectiveness of Simpplr's information security program.\", 'bBox': {'x': 72, 'y': 374, 'w': 437.49127422903814, 'h': 11.000000249999971}, 'page_num': 1}, {'type': 'heading', 'lvl': 1, 'value': '3.2 Employee Responsibilities', 'md': '# 3.2 Employee Responsibilities', 'bBox': {'x': 72, 'y': 432, 'w': 146.64333735000002, 'h': 11.000000249999971}, 'page_num': 1}, {'type': 'text', 'value': 'All employees are responsible for complying with this policy, protecting information assets, reporting any security incidents or vulnerabilities, and taking necessary precautions to prevent unauthorized access, disclosure, alteration, or destruction of information.', 'md': 'All employees are responsible for complying with this policy, protecting information assets, reporting any security incidents or vulnerabilities, and taking necessary precautions to prevent unauthorized access, disclosure, alteration, or destruction of information.', 'bBox': {'x': 72, 'y': 446, 'w': 455.8129663994581, 'h': 11.000000249999971}, 'page_num': 1}, {'type': 'heading', 'lvl': 1, 'value': '4. Information Security Framework', 'md': '# 4. Information Security Framework', 'bBox': {'x': 72, 'y': 505, 'w': 167.99437357500003, 'h': 11.000000249999971}, 'page_num': 1}, {'type': 'heading', 'lvl': 1, 'value': '4.1 Risk Assessment and Management', 'md': '# 4.1 Risk Assessment and Management', 'bBox': {'x': 72, 'y': 534, 'w': 191.238327049458, 'h': 11.000000249999971}, 'page_num': 1}, {'type': 'text', 'value': 'Simpplr will conduct regular risk assessments to identify and assess risks to its information assets. A risk management process will be implemented to evaluate the impact and likelihood of identified risks and develop appropriate controls and mitigation strategies.', 'md': 'Simpplr will conduct regular risk assessments to identify and assess risks to its information assets. A risk management process will be implemented to evaluate the impact and likelihood of identified risks and develop appropriate controls and mitigation strategies.', 'bBox': {'x': 72, 'y': 548, 'w': 466.79981074945795, 'h': 11.000000249999971}, 'page_num': 1}, {'type': 'heading', 'lvl': 1, 'value': '4.2 Information Classification', 'md': '# 4.2 Information Classification', 'bBox': {'x': 72, 'y': 606, 'w': 141.1369481040381, 'h': 11.000000249999971}, 'page_num': 1}, {'type': 'text', 'value': 'All information assets owned or managed by Simpplr must be properly classified based on their sensitivity and criticality. Appropriate security controls will be implemented based on the classification level to ensure the confidentiality, integrity, and availability of the information.', 'md': 'All information assets owned or managed by Simpplr must be properly classified based on their sensitivity and criticality. Appropriate security controls will be implemented based on the classification level to ensure the confidentiality, integrity, and availability of the information.', 'bBox': {'x': 72, 'y': 621, 'w': 462.5171289432519, 'h': 11.000000249999971}, 'page_num': 1}, {'type': 'heading', 'lvl': 1, 'value': '4.3 Access Controls', 'md': '# 4.3 Access Controls', 'bBox': {'x': 72, 'y': 679, 'w': 97.75279275000003, 'h': 11.000000249999971}, 'page_num': 1}, {'type': 'text', 'value': \"Access to Simpplr's information assets will be granted based on the principle of least privilege, ensuring that employees have access only to the information necessary to perform their job.\", 'md': \"Access to Simpplr's information assets will be granted based on the principle of least privilege, ensuring that employees have access only to the information necessary to perform their job.\", 'bBox': {'x': 72, 'y': 694, 'w': 457.8954823244578, 'h': 11.000000249999971}, 'page_num': 1}, {'type': 'heading', 'lvl': 1, 'value': '4. Responsibilities', 'md': '# 4. Responsibilities', 'bBox': {'x': 0, 'y': 0, 'w': 612}, 'page_num': 2}, {'type': 'text', 'value': 'Strong authentication mechanisms and access control mechanisms will be implemented to protect sensitive information from unauthorized access.', 'md': 'Strong authentication mechanisms and access control mechanisms will be implemented to protect sensitive information from unauthorized access.', 'bBox': {'x': 72, 'y': 97, 'w': 347.03433409945785, 'h': 11.00000025}, 'page_num': 2}, {'type': 'heading', 'lvl': 1, 'value': '4.4 Data Protection', 'md': '# 4.4 Data Protection', 'bBox': {'x': 72, 'y': 126, 'w': 94.10348120403805, 'h': 11.00000025}, 'page_num': 2}, {'type': 'text', 'value': 'Simpplr will implement appropriate technical, administrative, and physical controls to protect data from unauthorized access, disclosure, alteration, or destruction. Data encryption, secure backup procedures, and periodic audits will be conducted to ensure data protection.', 'md': 'Simpplr will implement appropriate technical, administrative, and physical controls to protect data from unauthorized access, disclosure, alteration, or destruction. Data encryption, secure backup procedures, and periodic audits will be conducted to ensure data protection.', 'bBox': {'x': 72, 'y': 141, 'w': 452.1385669290379, 'h': 11.00000025}, 'page_num': 2}, {'type': 'heading', 'lvl': 1, 'value': '4.5 Incident Response', 'md': '# 4.5 Incident Response', 'bBox': {'x': 72, 'y': 199, 'w': 109.38949250403809, 'h': 11.00000025}, 'page_num': 2}, {'type': 'text', 'value': 'An incident response plan will be developed to handle any information security incidents effectively and minimize their impact. This plan will include procedures for reporting incidents, assessing their severity, containing the incident, investigating root causes, and implementing corrective and preventive actions.', 'md': 'An incident response plan will be developed to handle any information security incidents effectively and minimize their impact. This plan will include procedures for reporting incidents, assessing their severity, containing the incident, investigating root causes, and implementing corrective and preventive actions.', 'bBox': {'x': 72, 'y': 214, 'w': 453.12919902445765, 'h': 11.00000025}, 'page_num': 2}, {'type': 'heading', 'lvl': 1, 'value': '4.6 Security Awareness and Training', 'md': '# 4.6 Security Awareness and Training', 'bBox': {'x': 72, 'y': 286, 'w': 179.02951100403797, 'h': 11.000000249999971}, 'page_num': 2}, {'type': 'text', 'value': 'Simpplr will provide regular security awareness and training programs to ensure that all employees are aware of their responsibilities, understand information security best practices, and are equipped to recognize and respond to security threats.', 'md': 'Simpplr will provide regular security awareness and training programs to ensure that all employees are aware of their responsibilities, understand information security best practices, and are equipped to recognize and respond to security threats.', 'bBox': {'x': 72, 'y': 301, 'w': 450.2900617994578, 'h': 11.000000249999971}, 'page_num': 2}, {'type': 'heading', 'lvl': 1, 'value': '5. Acceptable Use of IT Resources', 'md': '# 5. Acceptable Use of IT Resources', 'bBox': {'x': 72, 'y': 359, 'w': 169.85145210000002, 'h': 11.000000249999971}, 'page_num': 2}, {'type': 'heading', 'lvl': 1, 'value': '5.1 Use of Company IT Resources', 'md': '# 5.1 Use of Company IT Resources', 'bBox': {'x': 72, 'y': 388, 'w': 168.62234534999996, 'h': 11.000000249999971}, 'page_num': 2}, {'type': 'text', 'value': \"Employees are expected to use Simpplr's IT resources for business purposes only. Personal use of these resources should be limited to breaks or when authorized by management.\", 'md': \"Employees are expected to use Simpplr's IT resources for business purposes only. Personal use of these resources should be limited to breaks or when authorized by management.\", 'bBox': {'x': 72, 'y': 403, 'w': 448.51783487554167, 'h': 11.000000249999971}, 'page_num': 2}, {'type': 'heading', 'lvl': 1, 'value': '5.2 Software Usage', 'md': '# 5.2 Software Usage', 'bBox': {'x': 72, 'y': 446, 'w': 96.54559355403802, 'h': 11.000000249999971}, 'page_num': 2}, {'type': 'text', 'value': 'Employees must comply with software license agreements, use only authorized software, and refrain from unauthorized installation or distribution of software that may introduce security risks.', 'md': 'Employees must comply with software license agreements, use only authorized software, and refrain from unauthorized installation or distribution of software that may introduce security risks.', 'bBox': {'x': 72, 'y': 461, 'w': 466.76760747445815, 'h': 11.000000249999971}, 'page_num': 2}, {'type': 'heading', 'lvl': 1, 'value': '5.3 Internet Usage', 'md': '# 5.3 Internet Usage', 'bBox': {'x': 72, 'y': 505, 'w': 90.44299730403816, 'h': 11.000000249999971}, 'page_num': 2}, {'type': 'text', 'value': \"Simpplr's internet resources must be used responsibly and in compliance with applicable laws and regulations. Employees must avoid accessing, distributing, or transmitting inappropriate, offensive, or illegal material.\", 'md': \"Simpplr's internet resources must be used responsibly and in compliance with applicable laws and regulations. Employees must avoid accessing, distributing, or transmitting inappropriate, offensive, or illegal material.\", 'bBox': {'x': 72, 'y': 519, 'w': 455.4497511750002, 'h': 11.000000249999971}, 'page_num': 2}, {'type': 'heading', 'lvl': 1, 'value': '6. Policy Compliance and Enforcement', 'md': '# 6. Policy Compliance and Enforcement', 'bBox': {'x': 72, 'y': 577, 'w': 189.40808277445797, 'h': 11.000000249999971}, 'page_num': 2}, {'type': 'text', 'value': \"Non-compliance with this policy may result in disciplinary action, up to and including termination of employment or contract. Simpplr's IT department and management will be responsible for monitoring compliance, investigating violations, and enforcing the policy.\", 'md': \"Non-compliance with this policy may result in disciplinary action, up to and including termination of employment or contract. Simpplr's IT department and management will be responsible for monitoring compliance, investigating violations, and enforcing the policy.\", 'bBox': {'x': 72, 'y': 606, 'w': 464.3437792290375, 'h': 11.000000249999971}, 'page_num': 2}, {'type': 'heading', 'lvl': 1, 'value': 'Conclusion', 'md': '# Conclusion', 'bBox': {'x': 72, 'y': 665, 'w': 54.385616454038086, 'h': 11.000000249999971}, 'page_num': 2}, {'type': 'text', 'value': 'The Information Security and IT Policy is essential for Simpplr to ensure the confidentiality, integrity, and availability of its information assets. Compliance with this policy is mandatory for', 'md': 'The Information Security and IT Policy is essential for Simpplr to ensure the confidentiality, integrity, and availability of its information assets. Compliance with this policy is mandatory for', 'bBox': {'x': 72, 'y': 694, 'w': 454.33682111825226, 'h': 11.000000249999971}, 'page_num': 2}, {'type': 'text', 'value': \"everyone associated with the organization. It is the responsibility of every employee, contractor, and vendor to familiarize themselves with this policy and understand their role in protecting Simpplr's information assets and IT infrastructure.\", 'md': \"everyone associated with the organization. It is the responsibility of every employee, contractor, and vendor to familiarize themselves with this policy and understand their role in protecting Simpplr's information assets and IT infrastructure.\", 'bBox': {'x': 72, 'y': 83, 'w': 463.13889312445747, 'h': 11.00000025}, 'page_num': 3}]\n",
    "extract_text_and_heading(nl)"
   ]
  },
  {
   "cell_type": "code",
   "execution_count": 17,
   "metadata": {},
   "outputs": [
    {
     "name": "stdout",
     "output_type": "stream",
     "text": [
      "{'type': 'heading', 'lvl': 1, 'value': 'Employee Stock Options Policy', 'md': '# Employee Stock Options Policy', 'bBox': {'x': 72, 'y': 83, 'w': 152.74056607500012, 'h': 11.00000025}, 'page_num': 1}\n",
      "{'type': 'heading', 'lvl': 1, 'value': '1. Introduction', 'md': '# 1. Introduction', 'bBox': {'x': 72, 'y': 112, 'w': 69.66625992903812, 'h': 11.00000025}, 'page_num': 1}\n",
      "{'type': 'heading', 'lvl': 1, 'value': '1. Introduction (2)', 'md': '# 1. Introduction', 'bBox': {'x': 72, 'y': 150, 'w': 69.66625992903812, 'h': 11.00000025}, 'page_num': 2}\n"
     ]
    }
   ],
   "source": [
    "from collections import defaultdict\n",
    "\n",
    "def assign_ids_to_duplicate_headings(json_list):\n",
    "    heading_count = defaultdict(int)  \n",
    "    updated_json_list = []\n",
    "    for item in json_list:\n",
    "        if item.get('type') == 'heading': \n",
    "            heading = item['value']\n",
    "            heading_count[heading] += 1\n",
    "            if heading_count[heading] > 1:\n",
    "                item['value'] = f\"{heading} |{heading_count[heading]}\"\n",
    "        updated_json_list.append(item)\n",
    "    return updated_json_list\n",
    "\n",
    "# Example usage\n",
    "json_list = [\n",
    "    {'type': 'heading', 'lvl': 1, 'value': 'Employee Stock Options Policy', 'md': '# Employee Stock Options Policy', 'bBox': {'x': 72, 'y': 83, 'w': 152.74056607500012, 'h': 11.00000025}, 'page_num': 1},\n",
    "    {'type': 'heading', 'lvl': 1, 'value': '1. Introduction', 'md': '# 1. Introduction', 'bBox': {'x': 72, 'y': 112, 'w': 69.66625992903812, 'h': 11.00000025}, 'page_num': 1},\n",
    "    {'type': 'heading', 'lvl': 1, 'value': '1. Introduction', 'md': '# 1. Introduction', 'bBox': {'x': 72, 'y': 150, 'w': 69.66625992903812, 'h': 11.00000025}, 'page_num': 2}\n",
    "]\n",
    "\n",
    "updated_json_list = assign_ids_to_duplicate_headings(json_list)\n",
    "\n",
    "# Display the updated list\n",
    "for item in updated_json_list:\n",
    "    print(item)\n"
   ]
  },
  {
   "cell_type": "code",
   "execution_count": 16,
   "metadata": {},
   "outputs": [
    {
     "data": {
      "text/plain": [
       "['abs', 'abs |ID:2', 'abc', 'cdef', 'abc |ID:2', 'abc |ID:3', 'abs |ID:3']"
      ]
     },
     "execution_count": 16,
     "metadata": {},
     "output_type": "execute_result"
    }
   ],
   "source": [
    "unique_heading_list"
   ]
  },
  {
   "cell_type": "code",
   "execution_count": 9,
   "metadata": {},
   "outputs": [],
   "source": [
    "original_list = [1, 2, 3, 4, 5]\n",
    "NL= original_list[::-1]"
   ]
  },
  {
   "cell_type": "code",
   "execution_count": 11,
   "metadata": {},
   "outputs": [
    {
     "ename": "RuntimeError",
     "evalue": "asyncio.run() cannot be called from a running event loop",
     "output_type": "error",
     "traceback": [
      "\u001b[0;31m---------------------------------------------------------------------------\u001b[0m",
      "\u001b[0;31mRuntimeError\u001b[0m                              Traceback (most recent call last)",
      "Cell \u001b[0;32mIn[11], line 20\u001b[0m\n\u001b[1;32m     17\u001b[0m     \u001b[38;5;28mprint\u001b[39m(data)\n\u001b[1;32m     19\u001b[0m \u001b[38;5;66;03m# Run the main function\u001b[39;00m\n\u001b[0;32m---> 20\u001b[0m \u001b[43masyncio\u001b[49m\u001b[38;5;241;43m.\u001b[39;49m\u001b[43mrun\u001b[49m\u001b[43m(\u001b[49m\u001b[43mmain\u001b[49m\u001b[43m(\u001b[49m\u001b[43m)\u001b[49m\u001b[43m)\u001b[49m\n",
      "File \u001b[0;32m~/anaconda3/envs/pdf_qa/lib/python3.10/asyncio/runners.py:33\u001b[0m, in \u001b[0;36mrun\u001b[0;34m(main, debug)\u001b[0m\n\u001b[1;32m      9\u001b[0m \u001b[38;5;250m\u001b[39m\u001b[38;5;124;03m\"\"\"Execute the coroutine and return the result.\u001b[39;00m\n\u001b[1;32m     10\u001b[0m \n\u001b[1;32m     11\u001b[0m \u001b[38;5;124;03mThis function runs the passed coroutine, taking care of\u001b[39;00m\n\u001b[0;32m   (...)\u001b[0m\n\u001b[1;32m     30\u001b[0m \u001b[38;5;124;03m    asyncio.run(main())\u001b[39;00m\n\u001b[1;32m     31\u001b[0m \u001b[38;5;124;03m\"\"\"\u001b[39;00m\n\u001b[1;32m     32\u001b[0m \u001b[38;5;28;01mif\u001b[39;00m events\u001b[38;5;241m.\u001b[39m_get_running_loop() \u001b[38;5;129;01mis\u001b[39;00m \u001b[38;5;129;01mnot\u001b[39;00m \u001b[38;5;28;01mNone\u001b[39;00m:\n\u001b[0;32m---> 33\u001b[0m     \u001b[38;5;28;01mraise\u001b[39;00m \u001b[38;5;167;01mRuntimeError\u001b[39;00m(\n\u001b[1;32m     34\u001b[0m         \u001b[38;5;124m\"\u001b[39m\u001b[38;5;124masyncio.run() cannot be called from a running event loop\u001b[39m\u001b[38;5;124m\"\u001b[39m)\n\u001b[1;32m     36\u001b[0m \u001b[38;5;28;01mif\u001b[39;00m \u001b[38;5;129;01mnot\u001b[39;00m coroutines\u001b[38;5;241m.\u001b[39miscoroutine(main):\n\u001b[1;32m     37\u001b[0m     \u001b[38;5;28;01mraise\u001b[39;00m \u001b[38;5;167;01mValueError\u001b[39;00m(\u001b[38;5;124m\"\u001b[39m\u001b[38;5;124ma coroutine was expected, got \u001b[39m\u001b[38;5;132;01m{!r}\u001b[39;00m\u001b[38;5;124m\"\u001b[39m\u001b[38;5;241m.\u001b[39mformat(main))\n",
      "\u001b[0;31mRuntimeError\u001b[0m: asyncio.run() cannot be called from a running event loop"
     ]
    }
   ],
   "source": [
    "import aiohttp\n",
    "import asyncio\n",
    "\n",
    "async def fetch_data(url):\n",
    "    session = aiohttp.ClientSession()\n",
    "    try:\n",
    "        async with session.get(url) as response:\n",
    "            data = await response.json()\n",
    "            return data\n",
    "    finally:\n",
    "        await session.close()\n",
    "\n",
    "# Example usage\n",
    "async def main():\n",
    "    url = 'http://localhost:9200/'\n",
    "    data = await fetch_data(url)\n",
    "    print(data)\n",
    "\n",
    "# Run the main function\n",
    "asyncio.run(main())\n"
   ]
  },
  {
   "cell_type": "code",
   "execution_count": 12,
   "metadata": {},
   "outputs": [
    {
     "data": {
      "text/plain": [
       "<coroutine object ClientSession.close at 0x7f9f9de1c200>"
      ]
     },
     "execution_count": 12,
     "metadata": {},
     "output_type": "execute_result"
    }
   ],
   "source": [
    "import aiohttp\n",
    "session = aiohttp.ClientSession()\n",
    "#use the session here\n",
    "session.close()"
   ]
  },
  {
   "cell_type": "code",
   "execution_count": null,
   "metadata": {},
   "outputs": [],
   "source": [
    "from llama_index.vector_stores.elasticsearch import ElasticsearchStore\n",
    "from llama_index.core.schema import TextNode\n",
    "from llama_index.vector_stores.elasticsearch import AsyncDenseVectorStrategy\n",
    "from llama_index.core import StorageContext, VectorStoreIndex\n",
    "from llama_index.vector_stores.elasticsearch import ElasticsearchStore\n",
    "import glob\n",
    "from llama_index.embeddings.huggingface import HuggingFaceEmbedding\n",
    "from llama_index.core import Settings\n",
    "import json\n",
    "import os\n",
    "import openai\n",
    "from dotenv import load_dotenv\n",
    "\n",
    "load_dotenv('keys.env')\n",
    "LLAMA_CLOUD_API_KEY = os.getenv(\"LLAMA_CLOUD_API_KEY\")\n",
    "OPENAI_API_KEY = os.getenv('OPENAI_API_KEY')\n",
    "openai.api_key = OPENAI_API_KEY\n",
    "\n",
    "\n",
    "def print_results(results):\n",
    "    for rank, result in enumerate(results, 1):\n",
    "        print(\n",
    "            f\"{rank}.  score={result.get_score()} text={result.get_text()}\"\n",
    "        )\n",
    "\n",
    "def load_json(file_path):\n",
    "    with open(file_path, 'r') as file:\n",
    "        data = json.load(file)\n",
    "    return data \n",
    "\n",
    "def get_index(vector_store: ElasticsearchStore, nodes: list[TextNode]):\n",
    "    storage_context = StorageContext.from_defaults(vector_store=vector_store)\n",
    "    index = VectorStoreIndex(nodes, storage_context=storage_context)\n",
    "    return index\n",
    "\n",
    "def search(index,query):\n",
    "    print(\">>> Documents:\")\n",
    "    retriever = index.as_retriever()\n",
    "    results = retriever.retrieve(query,)\n",
    "    print_results(results)\n",
    "    print(\"\\n>>> Answer:\")\n",
    "    query_engine = index.as_query_engine()\n",
    "    response = query_engine.query(query)\n",
    "    print(response)\n",
    "    return response\n",
    "\n",
    "def create_textNodeList():\n",
    "    ## todo: handle empty files input\n",
    "    all_files = glob.glob(\"json_files/*.json\")\n",
    "    json_list =[]\n",
    "    for f in all_files:\n",
    "        json_list.append(load_json(f))\n",
    "    text_nodelist = []\n",
    "    for j in json_list:\n",
    "        doc_name = j['document_name']\n",
    "        for item in j['document']:\n",
    "            text =str(item['path'])+\" \"+ str(item['text_value'])\n",
    "            node = TextNode(text=text,metadata={\"document_name\":doc_name,\"page_number\":item['text_page']})\n",
    "            text_nodelist.append(node)\n",
    "    return text_nodelist\n",
    "\n",
    "\n",
    "all_Nodes = create_textNodeList()\n",
    "hybrid_store = ElasticsearchStore(\n",
    "    es_api_key=\"Uk1ZVTVwRUJqY2hGaTZPX0kzTk46eVlmR202X0RRWE9MRjJGSF9Yal93UQ==\",\n",
    "    es_cloud_id=\"a37709bb28a646be9950834fc3f1e2e0:dXMtY2VudHJhbDEuZ2NwLmNsb3VkLmVzLmlvOjQ0MyQ2NzZiY2ZiYTFkYmI0MzU5OGZlZjQ5OTI2ZTczMjliNiRlZjAwZDJiYWY1ZGQ0YmY0YTgwNzM2N2Q1YzE0MjUwYg==\",\n",
    "    index_name=\"hrdoc_hybrid\",\n",
    "    retrieval_strategy=AsyncDenseVectorStrategy(hybrid=True),\n",
    "    request_timeout=30\n",
    ")\n",
    "index = get_index(hybrid_store,all_Nodes)\n",
    "# search(index, \"How many personal leaves do I have\")\n",
    "search(index, \"How do i manage my esops\")"
   ]
  },
  {
   "cell_type": "code",
   "execution_count": 19,
   "metadata": {},
   "outputs": [
    {
     "data": {
      "text/plain": [
       "ElasticsearchStore(stores_text=True, is_embedding_query=True, index_name='hrdoc_hybrid', es_client=<AsyncElasticsearch(['https://676bcfba1dbb43598fef49926e7329b6.us-central1.gcp.cloud.es.io:443'])>, es_url=None, es_cloud_id='a37709bb28a646be9950834fc3f1e2e0:dXMtY2VudHJhbDEuZ2NwLmNsb3VkLmVzLmlvOjQ0MyQ2NzZiY2ZiYTFkYmI0MzU5OGZlZjQ5OTI2ZTczMjliNiRlZjAwZDJiYWY1ZGQ0YmY0YTgwNzM2N2Q1YzE0MjUwYg==', es_api_key='Uk1ZVTVwRUJqY2hGaTZPX0kzTk46eVlmR202X0RRWE9MRjJGSF9Yal93UQ==', es_user=None, es_password=None, text_field='content', vector_field='embedding', batch_size=200, distance_strategy='COSINE', retrieval_strategy=<elasticsearch.helpers.vectorstore._async.strategies.AsyncDenseVectorStrategy object at 0x7f9f482ebe80>)"
      ]
     },
     "execution_count": 19,
     "metadata": {},
     "output_type": "execute_result"
    }
   ],
   "source": [
    "hybrid_store"
   ]
  },
  {
   "cell_type": "code",
   "execution_count": null,
   "metadata": {},
   "outputs": [],
   "source": [
    "from elasticsearch import Elasticsearch, helpers\n",
    "import json\n",
    "\n",
    "# Replace these variables with your Cloud ID and API Key\n",
    "\n",
    "API_KEY=\"Uk1ZVTVwRUJqY2hGaTZPX0kzTk46eVlmR202X0RRWE9MRjJGSF9Yal93UQ==\"\n",
    "CLOUD_ID=\"a37709bb28a646be9950834fc3f1e2e0:dXMtY2VudHJhbDEuZ2NwLmNsb3VkLmVzLmlvOjQ0MyQ2NzZiY2ZiYTFkYmI0MzU5OGZlZjQ5OTI2ZTczMjliNiRlZjAwZDJiYWY1ZGQ0YmY0YTgwNzM2N2Q1YzE0MjUwYg==\"\n",
    "\n",
    "\n",
    "# Initialize the Elasticsearch client\n",
    "es = Elasticsearch(\n",
    "    cloud_id=CLOUD_ID,\n",
    "    api_key=API_KEY\n",
    ")\n",
    "\n",
    "# Define the index name\n",
    "index_name = 'hrdoc_hybrid'\n",
    "\n",
    "# Sample list of documents to index\n",
    "documents = [\n",
    "    {\"_id\": \"1\", \"field1\": \"value1\", \"field2\": \"value2\"},\n",
    "    {\"_id\": \"2\", \"field1\": \"value3\", \"field2\": \"value4\"},\n",
    "    # Add more documents as needed\n",
    "]\n",
    "def fetch_all_documents(es, index_name):\n",
    "    # Initialize the scroll\n",
    "    search = es.search(\n",
    "        index=index_name,\n",
    "        scroll='2m',  # Scroll timeout\n",
    "        size=1000,    # Number of documents per batch\n",
    "        body={\n",
    "            \"query\": {\n",
    "                \"match_all\": {}\n",
    "            }\n",
    "        }\n",
    "    )\n",
    "    \n",
    "    scroll_id = search['_scroll_id']\n",
    "    hits = search['hits']['hits']\n",
    "    \n",
    "    while hits:\n",
    "        for hit in hits:\n",
    "            yield hit['_source']\n",
    "        \n",
    "        # Continue scrolling\n",
    "        search = es.scroll(scroll_id=scroll_id, scroll='2m')\n",
    "        scroll_id = search['_scroll_id']\n",
    "        hits = search['hits']['hits']\n",
    "\n",
    "    # Clear the scroll context\n",
    "    es.clear_scroll(scroll_id=scroll_id)\n",
    "\n",
    "# Example usage\n",
    "for doc in fetch_all_documents(es, index_name):\n",
    "    print(doc)\n"
   ]
  },
  {
   "cell_type": "code",
   "execution_count": 4,
   "metadata": {},
   "outputs": [
    {
     "name": "stdout",
     "output_type": "stream",
     "text": [
      "query is : leave policy\n",
      "1024\n",
      "[{'id': 'M2499ZEBouBshFVRBfaF', 'text': 'Personal and Paid Leave Policy | Application Process: | Leave Policy | 1. Leave Requests Employees must submit a written request specifying the reason for the leave, the intended duration, and any supporting documentation.', 'page_num': 2, 'doc_name': 'GPT - leave policy', 're_rank_score': 3.556640625}, {'id': 'L2499ZEBouBshFVRBfaF', 'text': 'Personal and Paid Leave Policy | Types of Leave and Eligibility: | 1. Personal Leave: - a. Employees are eligible for personal leave to attend to their personal matters, including medical appointments, family emergencies, and personal obligations.\\n- b. Personal leave is granted up to a maximum of five days per year.\\n- c. Employees must provide reasonable notice to their supervisor and Human Resources, unless unforeseen circumstances prevent advance notice.', 'page_num': 1, 'doc_name': 'GPT - leave policy', 're_rank_score': 2.89453125}, {'id': 'NW499ZEBouBshFVRBfaF', 'text': 'Personal and Paid Leave Policy | Leave Benefits and Compensation: | 1. Personal Leave: |ID:2 a. Personal leave is unpaid, and employees will not receive their regular salary for the duration of the leave.\\n\\nb. Personal leave may be granted at the discretion of the supervisor and is subject to business needs.', 'page_num': 2, 'doc_name': 'GPT - leave policy', 're_rank_score': 2.34375}, {'id': 'cm499ZEBouBshFVRBfaF', 'text': 'Parental Leave Policy | Types of Parental Leave 1. Maternity Leave: Birthing mothers are entitled to take up to 12 weeks of paid maternity leave.\\n2. Paternity Leave: Fathers and non-birthing parents are eligible for up to 4 weeks of paid leave.\\n3. Adoption/Foster Care Leave: Employees who adopt or foster a child are entitled to up to 4 weeks of paid leave.', 'page_num': 1, 'doc_name': 'GPT-parental leave policy', 're_rank_score': 2.2734375}, {'id': 'MW499ZEBouBshFVRBfaF', 'text': 'Personal and Paid Leave Policy | Types of Leave and Eligibility: | 3. Bereavement Leave: - a. Employees are eligible for paid bereavement leave in the event of the death of an immediate family member.\\n- b. Paid bereavement leave is granted for up to five consecutive days.\\n- c. Employees may request additional time off beyond the allotted bereavement leave, which will be treated as personal leave.', 'page_num': 1, 'doc_name': 'GPT - leave policy', 're_rank_score': 2.0078125}]\n"
     ]
    }
   ],
   "source": [
    "from custom_indexing import *\n",
    "text_es = CustomES(index=\"text_doc_index\",rerank=True)\n",
    "query = \"leave policy\"\n",
    "results = text_es.hybrid_search(query)\n",
    "print(results)\n"
   ]
  },
  {
   "cell_type": "code",
   "execution_count": 6,
   "metadata": {},
   "outputs": [],
   "source": [
    "sumary_index = CustomES()\n",
    "sum_list = sumary_index.retrieve_summary_index()"
   ]
  },
  {
   "cell_type": "code",
   "execution_count": 8,
   "metadata": {},
   "outputs": [
    {
     "data": {
      "text/plain": [
       "dict_keys(['summary', 'doc_name', 'doc_text'])"
      ]
     },
     "execution_count": 8,
     "metadata": {},
     "output_type": "execute_result"
    }
   ],
   "source": [
    "sum_list[0].keys()"
   ]
  },
  {
   "cell_type": "code",
   "execution_count": 23,
   "metadata": {},
   "outputs": [],
   "source": [
    "import glob\n",
    "import json\n",
    "\n",
    "def load_json(file_path):\n",
    "    with open(file_path, 'r') as file:\n",
    "        data = json.load(file)\n",
    "    return data \n",
    "    \n",
    "def get_textNodeList():\n",
    "    ## todo: handle empty files input\n",
    "    all_files = glob.glob(\"json_files/*.json\")\n",
    "    json_list =[]\n",
    "    for f in all_files:\n",
    "        json_list.append(load_json(f))\n",
    "    text_list = []\n",
    "    page_list = []\n",
    "    doc_namelist = []\n",
    "    for j in json_list:\n",
    "        doc_name = j['document_name']\n",
    "        for item in j['document']:\n",
    "            text =str(item['path'])+\" \"+ str(item['text_value'])\n",
    "            text_list.append(text)\n",
    "            page_list.append(item['text_page'])\n",
    "            doc_namelist.append(doc_name)\n",
    "    return text_list,page_list,doc_namelist\n",
    "text_list, _, _ = get_textNodeList()\n",
    "len_list = []\n",
    "for t in text_list:\n",
    "    num_words = len(t)\n",
    "    len_list.append(num_words)\n",
    "max(len_list)\n"
   ]
  },
  {
   "cell_type": "code",
   "execution_count": 3,
   "metadata": {},
   "outputs": [
    {
     "ename": "KeyboardInterrupt",
     "evalue": "",
     "output_type": "error",
     "traceback": [
      "\u001b[0;31m---------------------------------------------------------------------------\u001b[0m",
      "\u001b[0;31mKeyboardInterrupt\u001b[0m                         Traceback (most recent call last)",
      "Cell \u001b[0;32mIn[3], line 2\u001b[0m\n\u001b[1;32m      1\u001b[0m \u001b[39mfrom\u001b[39;00m \u001b[39mFlagEmbedding\u001b[39;00m \u001b[39mimport\u001b[39;00m FlagReranker\n\u001b[0;32m----> 2\u001b[0m reranker \u001b[39m=\u001b[39m FlagReranker(\u001b[39m'\u001b[39;49m\u001b[39mBAAI/bge-reranker-large\u001b[39;49m\u001b[39m'\u001b[39;49m, use_fp16\u001b[39m=\u001b[39;49m\u001b[39mTrue\u001b[39;49;00m)\n\u001b[1;32m      3\u001b[0m score \u001b[39m=\u001b[39m reranker\u001b[39m.\u001b[39mcompute_score([\u001b[39m'\u001b[39m\u001b[39mquery\u001b[39m\u001b[39m'\u001b[39m, \u001b[39m'\u001b[39m\u001b[39mpassage\u001b[39m\u001b[39m'\u001b[39m])\n\u001b[1;32m      4\u001b[0m \u001b[39mprint\u001b[39m(score)\n",
      "File \u001b[0;32m/opt/homebrew/anaconda3/envs/pdf_qa/lib/python3.10/site-packages/FlagEmbedding/flag_reranker.py:218\u001b[0m, in \u001b[0;36mFlagReranker.__init__\u001b[0;34m(self, model_name_or_path, use_fp16, cache_dir, device)\u001b[0m\n\u001b[1;32m    209\u001b[0m \u001b[39mdef\u001b[39;00m \u001b[39m__init__\u001b[39m(\n\u001b[1;32m    210\u001b[0m         \u001b[39mself\u001b[39m,\n\u001b[1;32m    211\u001b[0m         model_name_or_path: \u001b[39mstr\u001b[39m \u001b[39m=\u001b[39m \u001b[39mNone\u001b[39;00m,\n\u001b[0;32m   (...)\u001b[0m\n\u001b[1;32m    214\u001b[0m         device: Union[\u001b[39mstr\u001b[39m, \u001b[39mint\u001b[39m] \u001b[39m=\u001b[39m \u001b[39mNone\u001b[39;00m\n\u001b[1;32m    215\u001b[0m ) \u001b[39m-\u001b[39m\u001b[39m>\u001b[39m \u001b[39mNone\u001b[39;00m:\n\u001b[1;32m    217\u001b[0m     \u001b[39mself\u001b[39m\u001b[39m.\u001b[39mtokenizer \u001b[39m=\u001b[39m AutoTokenizer\u001b[39m.\u001b[39mfrom_pretrained(model_name_or_path, cache_dir\u001b[39m=\u001b[39mcache_dir)\n\u001b[0;32m--> 218\u001b[0m     \u001b[39mself\u001b[39m\u001b[39m.\u001b[39mmodel \u001b[39m=\u001b[39m AutoModelForSequenceClassification\u001b[39m.\u001b[39;49mfrom_pretrained(model_name_or_path, cache_dir\u001b[39m=\u001b[39;49mcache_dir)\n\u001b[1;32m    220\u001b[0m     \u001b[39mif\u001b[39;00m device \u001b[39mand\u001b[39;00m \u001b[39misinstance\u001b[39m(device, \u001b[39mstr\u001b[39m):\n\u001b[1;32m    221\u001b[0m         \u001b[39mself\u001b[39m\u001b[39m.\u001b[39mdevice \u001b[39m=\u001b[39m torch\u001b[39m.\u001b[39mdevice(device)\n",
      "File \u001b[0;32m/opt/homebrew/anaconda3/envs/pdf_qa/lib/python3.10/site-packages/transformers/models/auto/auto_factory.py:564\u001b[0m, in \u001b[0;36m_BaseAutoModelClass.from_pretrained\u001b[0;34m(cls, pretrained_model_name_or_path, *model_args, **kwargs)\u001b[0m\n\u001b[1;32m    562\u001b[0m \u001b[39melif\u001b[39;00m \u001b[39mtype\u001b[39m(config) \u001b[39min\u001b[39;00m \u001b[39mcls\u001b[39m\u001b[39m.\u001b[39m_model_mapping\u001b[39m.\u001b[39mkeys():\n\u001b[1;32m    563\u001b[0m     model_class \u001b[39m=\u001b[39m _get_model_class(config, \u001b[39mcls\u001b[39m\u001b[39m.\u001b[39m_model_mapping)\n\u001b[0;32m--> 564\u001b[0m     \u001b[39mreturn\u001b[39;00m model_class\u001b[39m.\u001b[39;49mfrom_pretrained(\n\u001b[1;32m    565\u001b[0m         pretrained_model_name_or_path, \u001b[39m*\u001b[39;49mmodel_args, config\u001b[39m=\u001b[39;49mconfig, \u001b[39m*\u001b[39;49m\u001b[39m*\u001b[39;49mhub_kwargs, \u001b[39m*\u001b[39;49m\u001b[39m*\u001b[39;49mkwargs\n\u001b[1;32m    566\u001b[0m     )\n\u001b[1;32m    567\u001b[0m \u001b[39mraise\u001b[39;00m \u001b[39mValueError\u001b[39;00m(\n\u001b[1;32m    568\u001b[0m     \u001b[39mf\u001b[39m\u001b[39m\"\u001b[39m\u001b[39mUnrecognized configuration class \u001b[39m\u001b[39m{\u001b[39;00mconfig\u001b[39m.\u001b[39m\u001b[39m__class__\u001b[39m\u001b[39m}\u001b[39;00m\u001b[39m for this kind of AutoModel: \u001b[39m\u001b[39m{\u001b[39;00m\u001b[39mcls\u001b[39m\u001b[39m.\u001b[39m\u001b[39m__name__\u001b[39m\u001b[39m}\u001b[39;00m\u001b[39m.\u001b[39m\u001b[39m\\n\u001b[39;00m\u001b[39m\"\u001b[39m\n\u001b[1;32m    569\u001b[0m     \u001b[39mf\u001b[39m\u001b[39m\"\u001b[39m\u001b[39mModel type should be one of \u001b[39m\u001b[39m{\u001b[39;00m\u001b[39m'\u001b[39m\u001b[39m, \u001b[39m\u001b[39m'\u001b[39m\u001b[39m.\u001b[39mjoin(c\u001b[39m.\u001b[39m\u001b[39m__name__\u001b[39m\u001b[39m \u001b[39m\u001b[39mfor\u001b[39;00m\u001b[39m \u001b[39mc\u001b[39m \u001b[39m\u001b[39min\u001b[39;00m\u001b[39m \u001b[39m\u001b[39mcls\u001b[39m\u001b[39m.\u001b[39m_model_mapping\u001b[39m.\u001b[39mkeys())\u001b[39m}\u001b[39;00m\u001b[39m.\u001b[39m\u001b[39m\"\u001b[39m\n\u001b[1;32m    570\u001b[0m )\n",
      "File \u001b[0;32m/opt/homebrew/anaconda3/envs/pdf_qa/lib/python3.10/site-packages/transformers/modeling_utils.py:3550\u001b[0m, in \u001b[0;36mPreTrainedModel.from_pretrained\u001b[0;34m(cls, pretrained_model_name_or_path, config, cache_dir, ignore_mismatched_sizes, force_download, local_files_only, token, revision, use_safetensors, *model_args, **kwargs)\u001b[0m\n\u001b[1;32m   3534\u001b[0m \u001b[39mtry\u001b[39;00m:\n\u001b[1;32m   3535\u001b[0m     \u001b[39m# Load from URL or cache if already cached\u001b[39;00m\n\u001b[1;32m   3536\u001b[0m     cached_file_kwargs \u001b[39m=\u001b[39m {\n\u001b[1;32m   3537\u001b[0m         \u001b[39m\"\u001b[39m\u001b[39mcache_dir\u001b[39m\u001b[39m\"\u001b[39m: cache_dir,\n\u001b[1;32m   3538\u001b[0m         \u001b[39m\"\u001b[39m\u001b[39mforce_download\u001b[39m\u001b[39m\"\u001b[39m: force_download,\n\u001b[0;32m   (...)\u001b[0m\n\u001b[1;32m   3548\u001b[0m         \u001b[39m\"\u001b[39m\u001b[39m_commit_hash\u001b[39m\u001b[39m\"\u001b[39m: commit_hash,\n\u001b[1;32m   3549\u001b[0m     }\n\u001b[0;32m-> 3550\u001b[0m     resolved_archive_file \u001b[39m=\u001b[39m cached_file(pretrained_model_name_or_path, filename, \u001b[39m*\u001b[39;49m\u001b[39m*\u001b[39;49mcached_file_kwargs)\n\u001b[1;32m   3552\u001b[0m     \u001b[39m# Since we set _raise_exceptions_for_missing_entries=False, we don't get an exception but a None\u001b[39;00m\n\u001b[1;32m   3553\u001b[0m     \u001b[39m# result when internet is up, the repo and revision exist, but the file does not.\u001b[39;00m\n\u001b[1;32m   3554\u001b[0m     \u001b[39mif\u001b[39;00m resolved_archive_file \u001b[39mis\u001b[39;00m \u001b[39mNone\u001b[39;00m \u001b[39mand\u001b[39;00m filename \u001b[39m==\u001b[39m _add_variant(SAFE_WEIGHTS_NAME, variant):\n\u001b[1;32m   3555\u001b[0m         \u001b[39m# Maybe the checkpoint is sharded, we try to grab the index name in this case.\u001b[39;00m\n",
      "File \u001b[0;32m/opt/homebrew/anaconda3/envs/pdf_qa/lib/python3.10/site-packages/transformers/utils/hub.py:402\u001b[0m, in \u001b[0;36mcached_file\u001b[0;34m(path_or_repo_id, filename, cache_dir, force_download, resume_download, proxies, token, revision, local_files_only, subfolder, repo_type, user_agent, _raise_exceptions_for_gated_repo, _raise_exceptions_for_missing_entries, _raise_exceptions_for_connection_errors, _commit_hash, **deprecated_kwargs)\u001b[0m\n\u001b[1;32m    399\u001b[0m user_agent \u001b[39m=\u001b[39m http_user_agent(user_agent)\n\u001b[1;32m    400\u001b[0m \u001b[39mtry\u001b[39;00m:\n\u001b[1;32m    401\u001b[0m     \u001b[39m# Load from URL or cache if already cached\u001b[39;00m\n\u001b[0;32m--> 402\u001b[0m     resolved_file \u001b[39m=\u001b[39m hf_hub_download(\n\u001b[1;32m    403\u001b[0m         path_or_repo_id,\n\u001b[1;32m    404\u001b[0m         filename,\n\u001b[1;32m    405\u001b[0m         subfolder\u001b[39m=\u001b[39;49m\u001b[39mNone\u001b[39;49;00m \u001b[39mif\u001b[39;49;00m \u001b[39mlen\u001b[39;49m(subfolder) \u001b[39m==\u001b[39;49m \u001b[39m0\u001b[39;49m \u001b[39melse\u001b[39;49;00m subfolder,\n\u001b[1;32m    406\u001b[0m         repo_type\u001b[39m=\u001b[39;49mrepo_type,\n\u001b[1;32m    407\u001b[0m         revision\u001b[39m=\u001b[39;49mrevision,\n\u001b[1;32m    408\u001b[0m         cache_dir\u001b[39m=\u001b[39;49mcache_dir,\n\u001b[1;32m    409\u001b[0m         user_agent\u001b[39m=\u001b[39;49muser_agent,\n\u001b[1;32m    410\u001b[0m         force_download\u001b[39m=\u001b[39;49mforce_download,\n\u001b[1;32m    411\u001b[0m         proxies\u001b[39m=\u001b[39;49mproxies,\n\u001b[1;32m    412\u001b[0m         resume_download\u001b[39m=\u001b[39;49mresume_download,\n\u001b[1;32m    413\u001b[0m         token\u001b[39m=\u001b[39;49mtoken,\n\u001b[1;32m    414\u001b[0m         local_files_only\u001b[39m=\u001b[39;49mlocal_files_only,\n\u001b[1;32m    415\u001b[0m     )\n\u001b[1;32m    416\u001b[0m \u001b[39mexcept\u001b[39;00m GatedRepoError \u001b[39mas\u001b[39;00m e:\n\u001b[1;32m    417\u001b[0m     resolved_file \u001b[39m=\u001b[39m _get_cache_file_to_return(path_or_repo_id, full_filename, cache_dir, revision)\n",
      "File \u001b[0;32m/opt/homebrew/anaconda3/envs/pdf_qa/lib/python3.10/site-packages/huggingface_hub/utils/_deprecation.py:101\u001b[0m, in \u001b[0;36m_deprecate_arguments.<locals>._inner_deprecate_positional_args.<locals>.inner_f\u001b[0;34m(*args, **kwargs)\u001b[0m\n\u001b[1;32m     99\u001b[0m         message \u001b[39m+\u001b[39m\u001b[39m=\u001b[39m \u001b[39m\"\u001b[39m\u001b[39m\\n\u001b[39;00m\u001b[39m\\n\u001b[39;00m\u001b[39m\"\u001b[39m \u001b[39m+\u001b[39m custom_message\n\u001b[1;32m    100\u001b[0m     warnings\u001b[39m.\u001b[39mwarn(message, \u001b[39mFutureWarning\u001b[39;00m)\n\u001b[0;32m--> 101\u001b[0m \u001b[39mreturn\u001b[39;00m f(\u001b[39m*\u001b[39;49margs, \u001b[39m*\u001b[39;49m\u001b[39m*\u001b[39;49mkwargs)\n",
      "File \u001b[0;32m/opt/homebrew/anaconda3/envs/pdf_qa/lib/python3.10/site-packages/huggingface_hub/utils/_validators.py:114\u001b[0m, in \u001b[0;36mvalidate_hf_hub_args.<locals>._inner_fn\u001b[0;34m(*args, **kwargs)\u001b[0m\n\u001b[1;32m    111\u001b[0m \u001b[39mif\u001b[39;00m check_use_auth_token:\n\u001b[1;32m    112\u001b[0m     kwargs \u001b[39m=\u001b[39m smoothly_deprecate_use_auth_token(fn_name\u001b[39m=\u001b[39mfn\u001b[39m.\u001b[39m\u001b[39m__name__\u001b[39m, has_token\u001b[39m=\u001b[39mhas_token, kwargs\u001b[39m=\u001b[39mkwargs)\n\u001b[0;32m--> 114\u001b[0m \u001b[39mreturn\u001b[39;00m fn(\u001b[39m*\u001b[39;49margs, \u001b[39m*\u001b[39;49m\u001b[39m*\u001b[39;49mkwargs)\n",
      "File \u001b[0;32m/opt/homebrew/anaconda3/envs/pdf_qa/lib/python3.10/site-packages/huggingface_hub/file_download.py:1240\u001b[0m, in \u001b[0;36mhf_hub_download\u001b[0;34m(repo_id, filename, subfolder, repo_type, revision, library_name, library_version, cache_dir, local_dir, user_agent, force_download, proxies, etag_timeout, token, local_files_only, headers, endpoint, legacy_cache_layout, resume_download, force_filename, local_dir_use_symlinks)\u001b[0m\n\u001b[1;32m   1220\u001b[0m     \u001b[39mreturn\u001b[39;00m _hf_hub_download_to_local_dir(\n\u001b[1;32m   1221\u001b[0m         \u001b[39m# Destination\u001b[39;00m\n\u001b[1;32m   1222\u001b[0m         local_dir\u001b[39m=\u001b[39mlocal_dir,\n\u001b[0;32m   (...)\u001b[0m\n\u001b[1;32m   1237\u001b[0m         local_files_only\u001b[39m=\u001b[39mlocal_files_only,\n\u001b[1;32m   1238\u001b[0m     )\n\u001b[1;32m   1239\u001b[0m \u001b[39melse\u001b[39;00m:\n\u001b[0;32m-> 1240\u001b[0m     \u001b[39mreturn\u001b[39;00m _hf_hub_download_to_cache_dir(\n\u001b[1;32m   1241\u001b[0m         \u001b[39m# Destination\u001b[39;49;00m\n\u001b[1;32m   1242\u001b[0m         cache_dir\u001b[39m=\u001b[39;49mcache_dir,\n\u001b[1;32m   1243\u001b[0m         \u001b[39m# File info\u001b[39;49;00m\n\u001b[1;32m   1244\u001b[0m         repo_id\u001b[39m=\u001b[39;49mrepo_id,\n\u001b[1;32m   1245\u001b[0m         filename\u001b[39m=\u001b[39;49mfilename,\n\u001b[1;32m   1246\u001b[0m         repo_type\u001b[39m=\u001b[39;49mrepo_type,\n\u001b[1;32m   1247\u001b[0m         revision\u001b[39m=\u001b[39;49mrevision,\n\u001b[1;32m   1248\u001b[0m         \u001b[39m# HTTP info\u001b[39;49;00m\n\u001b[1;32m   1249\u001b[0m         endpoint\u001b[39m=\u001b[39;49mendpoint,\n\u001b[1;32m   1250\u001b[0m         etag_timeout\u001b[39m=\u001b[39;49metag_timeout,\n\u001b[1;32m   1251\u001b[0m         headers\u001b[39m=\u001b[39;49mheaders,\n\u001b[1;32m   1252\u001b[0m         proxies\u001b[39m=\u001b[39;49mproxies,\n\u001b[1;32m   1253\u001b[0m         token\u001b[39m=\u001b[39;49mtoken,\n\u001b[1;32m   1254\u001b[0m         \u001b[39m# Additional options\u001b[39;49;00m\n\u001b[1;32m   1255\u001b[0m         local_files_only\u001b[39m=\u001b[39;49mlocal_files_only,\n\u001b[1;32m   1256\u001b[0m         force_download\u001b[39m=\u001b[39;49mforce_download,\n\u001b[1;32m   1257\u001b[0m     )\n",
      "File \u001b[0;32m/opt/homebrew/anaconda3/envs/pdf_qa/lib/python3.10/site-packages/huggingface_hub/file_download.py:1389\u001b[0m, in \u001b[0;36m_hf_hub_download_to_cache_dir\u001b[0;34m(cache_dir, repo_id, filename, repo_type, revision, endpoint, etag_timeout, headers, proxies, token, local_files_only, force_download)\u001b[0m\n\u001b[1;32m   1387\u001b[0m Path(lock_path)\u001b[39m.\u001b[39mparent\u001b[39m.\u001b[39mmkdir(parents\u001b[39m=\u001b[39m\u001b[39mTrue\u001b[39;00m, exist_ok\u001b[39m=\u001b[39m\u001b[39mTrue\u001b[39;00m)\n\u001b[1;32m   1388\u001b[0m \u001b[39mwith\u001b[39;00m WeakFileLock(lock_path):\n\u001b[0;32m-> 1389\u001b[0m     _download_to_tmp_and_move(\n\u001b[1;32m   1390\u001b[0m         incomplete_path\u001b[39m=\u001b[39;49mPath(blob_path \u001b[39m+\u001b[39;49m \u001b[39m\"\u001b[39;49m\u001b[39m.incomplete\u001b[39;49m\u001b[39m\"\u001b[39;49m),\n\u001b[1;32m   1391\u001b[0m         destination_path\u001b[39m=\u001b[39;49mPath(blob_path),\n\u001b[1;32m   1392\u001b[0m         url_to_download\u001b[39m=\u001b[39;49murl_to_download,\n\u001b[1;32m   1393\u001b[0m         proxies\u001b[39m=\u001b[39;49mproxies,\n\u001b[1;32m   1394\u001b[0m         headers\u001b[39m=\u001b[39;49mheaders,\n\u001b[1;32m   1395\u001b[0m         expected_size\u001b[39m=\u001b[39;49mexpected_size,\n\u001b[1;32m   1396\u001b[0m         filename\u001b[39m=\u001b[39;49mfilename,\n\u001b[1;32m   1397\u001b[0m         force_download\u001b[39m=\u001b[39;49mforce_download,\n\u001b[1;32m   1398\u001b[0m     )\n\u001b[1;32m   1399\u001b[0m     \u001b[39mif\u001b[39;00m \u001b[39mnot\u001b[39;00m os\u001b[39m.\u001b[39mpath\u001b[39m.\u001b[39mexists(pointer_path):\n\u001b[1;32m   1400\u001b[0m         _create_symlink(blob_path, pointer_path, new_blob\u001b[39m=\u001b[39m\u001b[39mTrue\u001b[39;00m)\n",
      "File \u001b[0;32m/opt/homebrew/anaconda3/envs/pdf_qa/lib/python3.10/site-packages/huggingface_hub/file_download.py:1916\u001b[0m, in \u001b[0;36m_download_to_tmp_and_move\u001b[0;34m(incomplete_path, destination_path, url_to_download, proxies, headers, expected_size, filename, force_download)\u001b[0m\n\u001b[1;32m   1913\u001b[0m         _check_disk_space(expected_size, incomplete_path\u001b[39m.\u001b[39mparent)\n\u001b[1;32m   1914\u001b[0m         _check_disk_space(expected_size, destination_path\u001b[39m.\u001b[39mparent)\n\u001b[0;32m-> 1916\u001b[0m     http_get(\n\u001b[1;32m   1917\u001b[0m         url_to_download,\n\u001b[1;32m   1918\u001b[0m         f,\n\u001b[1;32m   1919\u001b[0m         proxies\u001b[39m=\u001b[39;49mproxies,\n\u001b[1;32m   1920\u001b[0m         resume_size\u001b[39m=\u001b[39;49mresume_size,\n\u001b[1;32m   1921\u001b[0m         headers\u001b[39m=\u001b[39;49mheaders,\n\u001b[1;32m   1922\u001b[0m         expected_size\u001b[39m=\u001b[39;49mexpected_size,\n\u001b[1;32m   1923\u001b[0m     )\n\u001b[1;32m   1925\u001b[0m logger\u001b[39m.\u001b[39minfo(\u001b[39mf\u001b[39m\u001b[39m\"\u001b[39m\u001b[39mDownload complete. Moving file to \u001b[39m\u001b[39m{\u001b[39;00mdestination_path\u001b[39m}\u001b[39;00m\u001b[39m\"\u001b[39m)\n\u001b[1;32m   1926\u001b[0m _chmod_and_move(incomplete_path, destination_path)\n",
      "File \u001b[0;32m/opt/homebrew/anaconda3/envs/pdf_qa/lib/python3.10/site-packages/huggingface_hub/file_download.py:549\u001b[0m, in \u001b[0;36mhttp_get\u001b[0;34m(url, temp_file, proxies, resume_size, headers, expected_size, displayed_filename, _nb_retries, _tqdm_bar)\u001b[0m\n\u001b[1;32m    547\u001b[0m new_resume_size \u001b[39m=\u001b[39m resume_size\n\u001b[1;32m    548\u001b[0m \u001b[39mtry\u001b[39;00m:\n\u001b[0;32m--> 549\u001b[0m     \u001b[39mfor\u001b[39;00m chunk \u001b[39min\u001b[39;00m r\u001b[39m.\u001b[39miter_content(chunk_size\u001b[39m=\u001b[39mDOWNLOAD_CHUNK_SIZE):\n\u001b[1;32m    550\u001b[0m         \u001b[39mif\u001b[39;00m chunk:  \u001b[39m# filter out keep-alive new chunks\u001b[39;00m\n\u001b[1;32m    551\u001b[0m             progress\u001b[39m.\u001b[39mupdate(\u001b[39mlen\u001b[39m(chunk))\n",
      "File \u001b[0;32m/opt/homebrew/anaconda3/envs/pdf_qa/lib/python3.10/site-packages/requests/models.py:820\u001b[0m, in \u001b[0;36mResponse.iter_content.<locals>.generate\u001b[0;34m()\u001b[0m\n\u001b[1;32m    818\u001b[0m \u001b[39mif\u001b[39;00m \u001b[39mhasattr\u001b[39m(\u001b[39mself\u001b[39m\u001b[39m.\u001b[39mraw, \u001b[39m\"\u001b[39m\u001b[39mstream\u001b[39m\u001b[39m\"\u001b[39m):\n\u001b[1;32m    819\u001b[0m     \u001b[39mtry\u001b[39;00m:\n\u001b[0;32m--> 820\u001b[0m         \u001b[39myield from\u001b[39;00m \u001b[39mself\u001b[39m\u001b[39m.\u001b[39mraw\u001b[39m.\u001b[39mstream(chunk_size, decode_content\u001b[39m=\u001b[39m\u001b[39mTrue\u001b[39;00m)\n\u001b[1;32m    821\u001b[0m     \u001b[39mexcept\u001b[39;00m ProtocolError \u001b[39mas\u001b[39;00m e:\n\u001b[1;32m    822\u001b[0m         \u001b[39mraise\u001b[39;00m ChunkedEncodingError(e)\n",
      "File \u001b[0;32m/opt/homebrew/anaconda3/envs/pdf_qa/lib/python3.10/site-packages/urllib3/response.py:1060\u001b[0m, in \u001b[0;36mHTTPResponse.stream\u001b[0;34m(self, amt, decode_content)\u001b[0m\n\u001b[1;32m   1058\u001b[0m \u001b[39melse\u001b[39;00m:\n\u001b[1;32m   1059\u001b[0m     \u001b[39mwhile\u001b[39;00m \u001b[39mnot\u001b[39;00m is_fp_closed(\u001b[39mself\u001b[39m\u001b[39m.\u001b[39m_fp) \u001b[39mor\u001b[39;00m \u001b[39mlen\u001b[39m(\u001b[39mself\u001b[39m\u001b[39m.\u001b[39m_decoded_buffer) \u001b[39m>\u001b[39m \u001b[39m0\u001b[39m:\n\u001b[0;32m-> 1060\u001b[0m         data \u001b[39m=\u001b[39m \u001b[39mself\u001b[39;49m\u001b[39m.\u001b[39;49mread(amt\u001b[39m=\u001b[39;49mamt, decode_content\u001b[39m=\u001b[39;49mdecode_content)\n\u001b[1;32m   1062\u001b[0m         \u001b[39mif\u001b[39;00m data:\n\u001b[1;32m   1063\u001b[0m             \u001b[39myield\u001b[39;00m data\n",
      "File \u001b[0;32m/opt/homebrew/anaconda3/envs/pdf_qa/lib/python3.10/site-packages/urllib3/response.py:949\u001b[0m, in \u001b[0;36mHTTPResponse.read\u001b[0;34m(self, amt, decode_content, cache_content)\u001b[0m\n\u001b[1;32m    946\u001b[0m     \u001b[39mif\u001b[39;00m \u001b[39mlen\u001b[39m(\u001b[39mself\u001b[39m\u001b[39m.\u001b[39m_decoded_buffer) \u001b[39m>\u001b[39m\u001b[39m=\u001b[39m amt:\n\u001b[1;32m    947\u001b[0m         \u001b[39mreturn\u001b[39;00m \u001b[39mself\u001b[39m\u001b[39m.\u001b[39m_decoded_buffer\u001b[39m.\u001b[39mget(amt)\n\u001b[0;32m--> 949\u001b[0m data \u001b[39m=\u001b[39m \u001b[39mself\u001b[39;49m\u001b[39m.\u001b[39;49m_raw_read(amt)\n\u001b[1;32m    951\u001b[0m flush_decoder \u001b[39m=\u001b[39m amt \u001b[39mis\u001b[39;00m \u001b[39mNone\u001b[39;00m \u001b[39mor\u001b[39;00m (amt \u001b[39m!=\u001b[39m \u001b[39m0\u001b[39m \u001b[39mand\u001b[39;00m \u001b[39mnot\u001b[39;00m data)\n\u001b[1;32m    953\u001b[0m \u001b[39mif\u001b[39;00m \u001b[39mnot\u001b[39;00m data \u001b[39mand\u001b[39;00m \u001b[39mlen\u001b[39m(\u001b[39mself\u001b[39m\u001b[39m.\u001b[39m_decoded_buffer) \u001b[39m==\u001b[39m \u001b[39m0\u001b[39m:\n",
      "File \u001b[0;32m/opt/homebrew/anaconda3/envs/pdf_qa/lib/python3.10/site-packages/urllib3/response.py:873\u001b[0m, in \u001b[0;36mHTTPResponse._raw_read\u001b[0;34m(self, amt, read1)\u001b[0m\n\u001b[1;32m    870\u001b[0m fp_closed \u001b[39m=\u001b[39m \u001b[39mgetattr\u001b[39m(\u001b[39mself\u001b[39m\u001b[39m.\u001b[39m_fp, \u001b[39m\"\u001b[39m\u001b[39mclosed\u001b[39m\u001b[39m\"\u001b[39m, \u001b[39mFalse\u001b[39;00m)\n\u001b[1;32m    872\u001b[0m \u001b[39mwith\u001b[39;00m \u001b[39mself\u001b[39m\u001b[39m.\u001b[39m_error_catcher():\n\u001b[0;32m--> 873\u001b[0m     data \u001b[39m=\u001b[39m \u001b[39mself\u001b[39;49m\u001b[39m.\u001b[39;49m_fp_read(amt, read1\u001b[39m=\u001b[39;49mread1) \u001b[39mif\u001b[39;00m \u001b[39mnot\u001b[39;00m fp_closed \u001b[39melse\u001b[39;00m \u001b[39mb\u001b[39m\u001b[39m\"\u001b[39m\u001b[39m\"\u001b[39m\n\u001b[1;32m    874\u001b[0m     \u001b[39mif\u001b[39;00m amt \u001b[39mis\u001b[39;00m \u001b[39mnot\u001b[39;00m \u001b[39mNone\u001b[39;00m \u001b[39mand\u001b[39;00m amt \u001b[39m!=\u001b[39m \u001b[39m0\u001b[39m \u001b[39mand\u001b[39;00m \u001b[39mnot\u001b[39;00m data:\n\u001b[1;32m    875\u001b[0m         \u001b[39m# Platform-specific: Buggy versions of Python.\u001b[39;00m\n\u001b[1;32m    876\u001b[0m         \u001b[39m# Close the connection when no data is returned\u001b[39;00m\n\u001b[0;32m   (...)\u001b[0m\n\u001b[1;32m    881\u001b[0m         \u001b[39m# not properly close the connection in all cases. There is\u001b[39;00m\n\u001b[1;32m    882\u001b[0m         \u001b[39m# no harm in redundantly calling close.\u001b[39;00m\n\u001b[1;32m    883\u001b[0m         \u001b[39mself\u001b[39m\u001b[39m.\u001b[39m_fp\u001b[39m.\u001b[39mclose()\n",
      "File \u001b[0;32m/opt/homebrew/anaconda3/envs/pdf_qa/lib/python3.10/site-packages/urllib3/response.py:856\u001b[0m, in \u001b[0;36mHTTPResponse._fp_read\u001b[0;34m(self, amt, read1)\u001b[0m\n\u001b[1;32m    853\u001b[0m     \u001b[39mreturn\u001b[39;00m \u001b[39mself\u001b[39m\u001b[39m.\u001b[39m_fp\u001b[39m.\u001b[39mread1(amt) \u001b[39mif\u001b[39;00m amt \u001b[39mis\u001b[39;00m \u001b[39mnot\u001b[39;00m \u001b[39mNone\u001b[39;00m \u001b[39melse\u001b[39;00m \u001b[39mself\u001b[39m\u001b[39m.\u001b[39m_fp\u001b[39m.\u001b[39mread1()\n\u001b[1;32m    854\u001b[0m \u001b[39melse\u001b[39;00m:\n\u001b[1;32m    855\u001b[0m     \u001b[39m# StringIO doesn't like amt=None\u001b[39;00m\n\u001b[0;32m--> 856\u001b[0m     \u001b[39mreturn\u001b[39;00m \u001b[39mself\u001b[39;49m\u001b[39m.\u001b[39;49m_fp\u001b[39m.\u001b[39;49mread(amt) \u001b[39mif\u001b[39;00m amt \u001b[39mis\u001b[39;00m \u001b[39mnot\u001b[39;00m \u001b[39mNone\u001b[39;00m \u001b[39melse\u001b[39;00m \u001b[39mself\u001b[39m\u001b[39m.\u001b[39m_fp\u001b[39m.\u001b[39mread()\n",
      "File \u001b[0;32m/opt/homebrew/anaconda3/envs/pdf_qa/lib/python3.10/http/client.py:466\u001b[0m, in \u001b[0;36mHTTPResponse.read\u001b[0;34m(self, amt)\u001b[0m\n\u001b[1;32m    463\u001b[0m \u001b[39mif\u001b[39;00m \u001b[39mself\u001b[39m\u001b[39m.\u001b[39mlength \u001b[39mis\u001b[39;00m \u001b[39mnot\u001b[39;00m \u001b[39mNone\u001b[39;00m \u001b[39mand\u001b[39;00m amt \u001b[39m>\u001b[39m \u001b[39mself\u001b[39m\u001b[39m.\u001b[39mlength:\n\u001b[1;32m    464\u001b[0m     \u001b[39m# clip the read to the \"end of response\"\u001b[39;00m\n\u001b[1;32m    465\u001b[0m     amt \u001b[39m=\u001b[39m \u001b[39mself\u001b[39m\u001b[39m.\u001b[39mlength\n\u001b[0;32m--> 466\u001b[0m s \u001b[39m=\u001b[39m \u001b[39mself\u001b[39;49m\u001b[39m.\u001b[39;49mfp\u001b[39m.\u001b[39;49mread(amt)\n\u001b[1;32m    467\u001b[0m \u001b[39mif\u001b[39;00m \u001b[39mnot\u001b[39;00m s \u001b[39mand\u001b[39;00m amt:\n\u001b[1;32m    468\u001b[0m     \u001b[39m# Ideally, we would raise IncompleteRead if the content-length\u001b[39;00m\n\u001b[1;32m    469\u001b[0m     \u001b[39m# wasn't satisfied, but it might break compatibility.\u001b[39;00m\n\u001b[1;32m    470\u001b[0m     \u001b[39mself\u001b[39m\u001b[39m.\u001b[39m_close_conn()\n",
      "File \u001b[0;32m/opt/homebrew/anaconda3/envs/pdf_qa/lib/python3.10/socket.py:705\u001b[0m, in \u001b[0;36mSocketIO.readinto\u001b[0;34m(self, b)\u001b[0m\n\u001b[1;32m    703\u001b[0m \u001b[39mwhile\u001b[39;00m \u001b[39mTrue\u001b[39;00m:\n\u001b[1;32m    704\u001b[0m     \u001b[39mtry\u001b[39;00m:\n\u001b[0;32m--> 705\u001b[0m         \u001b[39mreturn\u001b[39;00m \u001b[39mself\u001b[39;49m\u001b[39m.\u001b[39;49m_sock\u001b[39m.\u001b[39;49mrecv_into(b)\n\u001b[1;32m    706\u001b[0m     \u001b[39mexcept\u001b[39;00m timeout:\n\u001b[1;32m    707\u001b[0m         \u001b[39mself\u001b[39m\u001b[39m.\u001b[39m_timeout_occurred \u001b[39m=\u001b[39m \u001b[39mTrue\u001b[39;00m\n",
      "File \u001b[0;32m/opt/homebrew/anaconda3/envs/pdf_qa/lib/python3.10/ssl.py:1307\u001b[0m, in \u001b[0;36mSSLSocket.recv_into\u001b[0;34m(self, buffer, nbytes, flags)\u001b[0m\n\u001b[1;32m   1303\u001b[0m     \u001b[39mif\u001b[39;00m flags \u001b[39m!=\u001b[39m \u001b[39m0\u001b[39m:\n\u001b[1;32m   1304\u001b[0m         \u001b[39mraise\u001b[39;00m \u001b[39mValueError\u001b[39;00m(\n\u001b[1;32m   1305\u001b[0m           \u001b[39m\"\u001b[39m\u001b[39mnon-zero flags not allowed in calls to recv_into() on \u001b[39m\u001b[39m%s\u001b[39;00m\u001b[39m\"\u001b[39m \u001b[39m%\u001b[39m\n\u001b[1;32m   1306\u001b[0m           \u001b[39mself\u001b[39m\u001b[39m.\u001b[39m\u001b[39m__class__\u001b[39m)\n\u001b[0;32m-> 1307\u001b[0m     \u001b[39mreturn\u001b[39;00m \u001b[39mself\u001b[39;49m\u001b[39m.\u001b[39;49mread(nbytes, buffer)\n\u001b[1;32m   1308\u001b[0m \u001b[39melse\u001b[39;00m:\n\u001b[1;32m   1309\u001b[0m     \u001b[39mreturn\u001b[39;00m \u001b[39msuper\u001b[39m()\u001b[39m.\u001b[39mrecv_into(buffer, nbytes, flags)\n",
      "File \u001b[0;32m/opt/homebrew/anaconda3/envs/pdf_qa/lib/python3.10/ssl.py:1163\u001b[0m, in \u001b[0;36mSSLSocket.read\u001b[0;34m(self, len, buffer)\u001b[0m\n\u001b[1;32m   1161\u001b[0m \u001b[39mtry\u001b[39;00m:\n\u001b[1;32m   1162\u001b[0m     \u001b[39mif\u001b[39;00m buffer \u001b[39mis\u001b[39;00m \u001b[39mnot\u001b[39;00m \u001b[39mNone\u001b[39;00m:\n\u001b[0;32m-> 1163\u001b[0m         \u001b[39mreturn\u001b[39;00m \u001b[39mself\u001b[39;49m\u001b[39m.\u001b[39;49m_sslobj\u001b[39m.\u001b[39;49mread(\u001b[39mlen\u001b[39;49m, buffer)\n\u001b[1;32m   1164\u001b[0m     \u001b[39melse\u001b[39;00m:\n\u001b[1;32m   1165\u001b[0m         \u001b[39mreturn\u001b[39;00m \u001b[39mself\u001b[39m\u001b[39m.\u001b[39m_sslobj\u001b[39m.\u001b[39mread(\u001b[39mlen\u001b[39m)\n",
      "\u001b[0;31mKeyboardInterrupt\u001b[0m: "
     ]
    }
   ],
   "source": [
    "from FlagEmbedding import FlagReranker\n",
    "reranker = FlagReranker('BAAI/bge-reranker-large', use_fp16=True)\n",
    "score = reranker.compute_score(['query', 'passage'])\n",
    "print(score)\n",
    "\n",
    "scores = reranker.compute_score([['what is panda?', 'hi'], ['what is panda?', 'The giant panda (Ailuropoda melanoleuca), sometimes called a panda bear or simply panda, is a bear species endemic to China.']])\n",
    "print(scores)"
   ]
  },
  {
   "cell_type": "code",
   "execution_count": null,
   "metadata": {},
   "outputs": [],
   "source": [
    "\"\"\"\n",
    "RAGAS to evaluate the rag and its different metric, precision, latency for search and generation.\n",
    "\"\"\"\n",
    "\n",
    "### method 1-> \n",
    "import os\n",
    "from dotenv import load_dotenv\n",
    "load_dotenv(\"keys.env\")\n",
    "from llama_index.core import SimpleDirectoryReader\n",
    "from llama_index.core.schema import TextNode\n",
    "from ragas.testset.generator import TestsetGenerator\n",
    "from ragas.testset.evolutions import simple, reasoning, multi_context\n",
    "from llama_index.llms.openai import OpenAI\n",
    "from llama_index.embeddings.openai import OpenAIEmbedding\n",
    "import glob\n",
    "import json\n",
    "os.environ[\"OPENAI_API_KEY\"]  = os.getenv('OPENAI_API_KEY')\n",
    "def load_json(file_path):\n",
    "    with open(file_path, 'r') as file:\n",
    "        data = json.load(file)\n",
    "    return data \n",
    "\n",
    "def create_textNodeList():\n",
    "    all_files = glob.glob(\"summary_json/*.json\")\n",
    "    json_list =[]\n",
    "    for f in all_files:\n",
    "        json_list.append(load_json(f))\n",
    "    text_nodelist = []\n",
    "    for j in json_list:\n",
    "        doc_name = j['doc_name']\n",
    "        text =str(j['doc_text'])\n",
    "        node = TextNode(text=text,metadata={\"document_name\":doc_name})\n",
    "        text_nodelist.append(node)\n",
    "    return text_nodelist\n",
    "\n",
    "documents = create_textNodeList()\n",
    "\n",
    "\n",
    "# generator with openai models\n",
    "generator_llm = OpenAI(model=\"gpt-4o-mini\")\n",
    "critic_llm = OpenAI(model=\"gpt-4o\")\n",
    "embeddings = OpenAIEmbedding()\n",
    "generator = TestsetGenerator.from_llama_index(\n",
    "    generator_llm=generator_llm,\n",
    "    critic_llm=critic_llm,\n",
    "    embeddings=embeddings,\n",
    ")\n",
    "\n",
    "testset = generator.generate_with_llamaindex_docs(\n",
    "    documents,\n",
    "    test_size=10,\n",
    "    distributions={simple: 0.5, reasoning: 0.25, multi_context: 0.25},raise_exceptions=False\n",
    ")\n"
   ]
  },
  {
   "cell_type": "code",
   "execution_count": 1,
   "metadata": {},
   "outputs": [
    {
     "data": {
      "text/html": [
       "<pre style=\"white-space:pre;overflow-x:auto;line-height:normal;font-family:Menlo,'DejaVu Sans Mono',consolas,'Courier New',monospace\">/opt/homebrew/anaconda3/envs/pdf_qa/lib/python3.10/site-packages/rich/live.py:231: UserWarning: install \n",
       "\"ipywidgets\" for Jupyter support\n",
       "  warnings.warn('install \"ipywidgets\" for Jupyter support')\n",
       "</pre>\n"
      ],
      "text/plain": [
       "/opt/homebrew/anaconda3/envs/pdf_qa/lib/python3.10/site-packages/rich/live.py:231: UserWarning: install \n",
       "\"ipywidgets\" for Jupyter support\n",
       "  warnings.warn('install \"ipywidgets\" for Jupyter support')\n"
      ]
     },
     "metadata": {},
     "output_type": "display_data"
    },
    {
     "data": {
      "text/html": [
       "<pre style=\"white-space:pre;overflow-x:auto;line-height:normal;font-family:Menlo,'DejaVu Sans Mono',consolas,'Courier New',monospace\">Event loop is already running. Applying nest_asyncio patch to allow async execution...\n",
       "</pre>\n"
      ],
      "text/plain": [
       "Event loop is already running. Applying nest_asyncio patch to allow async execution...\n"
      ]
     },
     "metadata": {},
     "output_type": "display_data"
    },
    {
     "data": {
      "text/html": [
       "<pre style=\"white-space:pre;overflow-x:auto;line-height:normal;font-family:Menlo,'DejaVu Sans Mono',consolas,'Courier New',monospace\"></pre>\n"
      ],
      "text/plain": []
     },
     "metadata": {},
     "output_type": "display_data"
    },
    {
     "ename": "KeyboardInterrupt",
     "evalue": "",
     "output_type": "error",
     "traceback": [
      "\u001b[0;31m---------------------------------------------------------------------------\u001b[0m",
      "\u001b[0;31mKeyboardInterrupt\u001b[0m                         Traceback (most recent call last)",
      "Cell \u001b[0;32mIn[1], line 12\u001b[0m\n\u001b[1;32m     10\u001b[0m synthesizer \u001b[39m=\u001b[39m Synthesizer(model\u001b[39m=\u001b[39m\u001b[39m\"\u001b[39m\u001b[39mgpt-4o\u001b[39m\u001b[39m\"\u001b[39m)\n\u001b[1;32m     11\u001b[0m dataset \u001b[39m=\u001b[39m EvaluationDataset()\n\u001b[0;32m---> 12\u001b[0m dataset\u001b[39m.\u001b[39;49mgenerate_goldens_from_docs(\n\u001b[1;32m     13\u001b[0m     document_paths\u001b[39m=\u001b[39;49mpdf_files,\n\u001b[1;32m     14\u001b[0m     max_goldens_per_document\u001b[39m=\u001b[39;49m\u001b[39m4\u001b[39;49m\n\u001b[1;32m     15\u001b[0m )\n\u001b[1;32m     16\u001b[0m saved_path \u001b[39m=\u001b[39m dataset\u001b[39m.\u001b[39msave_as(\n\u001b[1;32m     17\u001b[0m     file_type\u001b[39m=\u001b[39m\u001b[39m'\u001b[39m\u001b[39mjson\u001b[39m\u001b[39m'\u001b[39m,  \u001b[39m# or 'csv'\u001b[39;00m\n\u001b[1;32m     18\u001b[0m     directory\u001b[39m=\u001b[39m\u001b[39m\"\u001b[39m\u001b[39m./eval_data\u001b[39m\u001b[39m\"\u001b[39m\n\u001b[1;32m     19\u001b[0m )\n",
      "File \u001b[0;32m/opt/homebrew/anaconda3/envs/pdf_qa/lib/python3.10/site-packages/deepeval/dataset/dataset.py:538\u001b[0m, in \u001b[0;36mEvaluationDataset.generate_goldens_from_docs\u001b[0;34m(self, document_paths, include_expected_output, max_goldens_per_document, chunk_size, chunk_overlap, num_evolutions, evolutions, synthesizer)\u001b[0m\n\u001b[1;32m    534\u001b[0m \u001b[39melse\u001b[39;00m:\n\u001b[1;32m    535\u001b[0m     \u001b[39massert\u001b[39;00m \u001b[39misinstance\u001b[39m(synthesizer, Synthesizer)\n\u001b[1;32m    537\u001b[0m \u001b[39mself\u001b[39m\u001b[39m.\u001b[39mgoldens\u001b[39m.\u001b[39mextend(\n\u001b[0;32m--> 538\u001b[0m     synthesizer\u001b[39m.\u001b[39;49mgenerate_goldens_from_docs(\n\u001b[1;32m    539\u001b[0m         document_paths\u001b[39m=\u001b[39;49mdocument_paths,\n\u001b[1;32m    540\u001b[0m         include_expected_output\u001b[39m=\u001b[39;49minclude_expected_output,\n\u001b[1;32m    541\u001b[0m         max_goldens_per_document\u001b[39m=\u001b[39;49mmax_goldens_per_document,\n\u001b[1;32m    542\u001b[0m         chunk_size\u001b[39m=\u001b[39;49mchunk_size,\n\u001b[1;32m    543\u001b[0m         chunk_overlap\u001b[39m=\u001b[39;49mchunk_overlap,\n\u001b[1;32m    544\u001b[0m         num_evolutions\u001b[39m=\u001b[39;49mnum_evolutions,\n\u001b[1;32m    545\u001b[0m         evolutions\u001b[39m=\u001b[39;49mevolutions,\n\u001b[1;32m    546\u001b[0m     )\n\u001b[1;32m    547\u001b[0m )\n",
      "File \u001b[0;32m/opt/homebrew/anaconda3/envs/pdf_qa/lib/python3.10/site-packages/deepeval/synthesizer/synthesizer.py:993\u001b[0m, in \u001b[0;36mSynthesizer.generate_goldens_from_docs\u001b[0;34m(self, document_paths, include_expected_output, max_goldens_per_document, chunk_size, chunk_overlap, num_evolutions, evolutions, use_case)\u001b[0m\n\u001b[1;32m    991\u001b[0m \u001b[39mif\u001b[39;00m \u001b[39mself\u001b[39m\u001b[39m.\u001b[39masync_mode:\n\u001b[1;32m    992\u001b[0m     loop \u001b[39m=\u001b[39m get_or_create_event_loop()\n\u001b[0;32m--> 993\u001b[0m     \u001b[39mreturn\u001b[39;00m loop\u001b[39m.\u001b[39;49mrun_until_complete(\n\u001b[1;32m    994\u001b[0m         \u001b[39mself\u001b[39;49m\u001b[39m.\u001b[39;49ma_generate_goldens_from_docs(\n\u001b[1;32m    995\u001b[0m             document_paths,\n\u001b[1;32m    996\u001b[0m             include_expected_output,\n\u001b[1;32m    997\u001b[0m             max_goldens_per_document,\n\u001b[1;32m    998\u001b[0m             chunk_size,\n\u001b[1;32m    999\u001b[0m             chunk_overlap,\n\u001b[1;32m   1000\u001b[0m             num_evolutions,\n\u001b[1;32m   1001\u001b[0m             evolutions,\n\u001b[1;32m   1002\u001b[0m             use_case,\n\u001b[1;32m   1003\u001b[0m             _show_indicator\u001b[39m=\u001b[39;49m\u001b[39mFalse\u001b[39;49;00m,\n\u001b[1;32m   1004\u001b[0m         )\n\u001b[1;32m   1005\u001b[0m     )\n\u001b[1;32m   1006\u001b[0m \u001b[39melse\u001b[39;00m:\n\u001b[1;32m   1007\u001b[0m     \u001b[39mif\u001b[39;00m \u001b[39mself\u001b[39m\u001b[39m.\u001b[39mcontext_generator \u001b[39mis\u001b[39;00m \u001b[39mNone\u001b[39;00m:\n",
      "File \u001b[0;32m/opt/homebrew/anaconda3/envs/pdf_qa/lib/python3.10/site-packages/nest_asyncio.py:92\u001b[0m, in \u001b[0;36m_patch_loop.<locals>.run_until_complete\u001b[0;34m(self, future)\u001b[0m\n\u001b[1;32m     90\u001b[0m     f\u001b[39m.\u001b[39m_log_destroy_pending \u001b[39m=\u001b[39m \u001b[39mFalse\u001b[39;00m\n\u001b[1;32m     91\u001b[0m \u001b[39mwhile\u001b[39;00m \u001b[39mnot\u001b[39;00m f\u001b[39m.\u001b[39mdone():\n\u001b[0;32m---> 92\u001b[0m     \u001b[39mself\u001b[39;49m\u001b[39m.\u001b[39;49m_run_once()\n\u001b[1;32m     93\u001b[0m     \u001b[39mif\u001b[39;00m \u001b[39mself\u001b[39m\u001b[39m.\u001b[39m_stopping:\n\u001b[1;32m     94\u001b[0m         \u001b[39mbreak\u001b[39;00m\n",
      "File \u001b[0;32m/opt/homebrew/anaconda3/envs/pdf_qa/lib/python3.10/site-packages/nest_asyncio.py:133\u001b[0m, in \u001b[0;36m_patch_loop.<locals>._run_once\u001b[0;34m(self)\u001b[0m\n\u001b[1;32m    130\u001b[0m curr_task \u001b[39m=\u001b[39m curr_tasks\u001b[39m.\u001b[39mpop(\u001b[39mself\u001b[39m, \u001b[39mNone\u001b[39;00m)\n\u001b[1;32m    132\u001b[0m \u001b[39mtry\u001b[39;00m:\n\u001b[0;32m--> 133\u001b[0m     handle\u001b[39m.\u001b[39;49m_run()\n\u001b[1;32m    134\u001b[0m \u001b[39mfinally\u001b[39;00m:\n\u001b[1;32m    135\u001b[0m     \u001b[39m# restore the current task\u001b[39;00m\n\u001b[1;32m    136\u001b[0m     \u001b[39mif\u001b[39;00m curr_task \u001b[39mis\u001b[39;00m \u001b[39mnot\u001b[39;00m \u001b[39mNone\u001b[39;00m:\n",
      "File \u001b[0;32m/opt/homebrew/anaconda3/envs/pdf_qa/lib/python3.10/asyncio/events.py:80\u001b[0m, in \u001b[0;36mHandle._run\u001b[0;34m(self)\u001b[0m\n\u001b[1;32m     78\u001b[0m \u001b[39mdef\u001b[39;00m \u001b[39m_run\u001b[39m(\u001b[39mself\u001b[39m):\n\u001b[1;32m     79\u001b[0m     \u001b[39mtry\u001b[39;00m:\n\u001b[0;32m---> 80\u001b[0m         \u001b[39mself\u001b[39;49m\u001b[39m.\u001b[39;49m_context\u001b[39m.\u001b[39;49mrun(\u001b[39mself\u001b[39;49m\u001b[39m.\u001b[39;49m_callback, \u001b[39m*\u001b[39;49m\u001b[39mself\u001b[39;49m\u001b[39m.\u001b[39;49m_args)\n\u001b[1;32m     81\u001b[0m     \u001b[39mexcept\u001b[39;00m (\u001b[39mSystemExit\u001b[39;00m, \u001b[39mKeyboardInterrupt\u001b[39;00m):\n\u001b[1;32m     82\u001b[0m         \u001b[39mraise\u001b[39;00m\n",
      "File \u001b[0;32m/opt/homebrew/anaconda3/envs/pdf_qa/lib/python3.10/asyncio/tasks.py:315\u001b[0m, in \u001b[0;36mTask.__wakeup\u001b[0;34m(self, future)\u001b[0m\n\u001b[1;32m    307\u001b[0m     \u001b[39mself\u001b[39m\u001b[39m.\u001b[39m__step(exc)\n\u001b[1;32m    308\u001b[0m \u001b[39melse\u001b[39;00m:\n\u001b[1;32m    309\u001b[0m     \u001b[39m# Don't pass the value of `future.result()` explicitly,\u001b[39;00m\n\u001b[1;32m    310\u001b[0m     \u001b[39m# as `Future.__iter__` and `Future.__await__` don't need it.\u001b[39;00m\n\u001b[0;32m   (...)\u001b[0m\n\u001b[1;32m    313\u001b[0m     \u001b[39m# instead of `__next__()`, which is slower for futures\u001b[39;00m\n\u001b[1;32m    314\u001b[0m     \u001b[39m# that return non-generator iterators from their `__iter__`.\u001b[39;00m\n\u001b[0;32m--> 315\u001b[0m     \u001b[39mself\u001b[39;49m\u001b[39m.\u001b[39;49m__step()\n\u001b[1;32m    316\u001b[0m \u001b[39mself\u001b[39m \u001b[39m=\u001b[39m \u001b[39mNone\u001b[39;00m\n",
      "File \u001b[0;32m/opt/homebrew/anaconda3/envs/pdf_qa/lib/python3.10/asyncio/tasks.py:232\u001b[0m, in \u001b[0;36mTask.__step\u001b[0;34m(***failed resolving arguments***)\u001b[0m\n\u001b[1;32m    228\u001b[0m \u001b[39mtry\u001b[39;00m:\n\u001b[1;32m    229\u001b[0m     \u001b[39mif\u001b[39;00m exc \u001b[39mis\u001b[39;00m \u001b[39mNone\u001b[39;00m:\n\u001b[1;32m    230\u001b[0m         \u001b[39m# We use the `send` method directly, because coroutines\u001b[39;00m\n\u001b[1;32m    231\u001b[0m         \u001b[39m# don't have `__iter__` and `__next__` methods.\u001b[39;00m\n\u001b[0;32m--> 232\u001b[0m         result \u001b[39m=\u001b[39m coro\u001b[39m.\u001b[39;49msend(\u001b[39mNone\u001b[39;49;00m)\n\u001b[1;32m    233\u001b[0m     \u001b[39melse\u001b[39;00m:\n\u001b[1;32m    234\u001b[0m         result \u001b[39m=\u001b[39m coro\u001b[39m.\u001b[39mthrow(exc)\n",
      "File \u001b[0;32m/opt/homebrew/anaconda3/envs/pdf_qa/lib/python3.10/site-packages/deepeval/synthesizer/synthesizer.py:949\u001b[0m, in \u001b[0;36mSynthesizer.a_generate_goldens_from_docs\u001b[0;34m(self, document_paths, include_expected_output, max_goldens_per_document, chunk_size, chunk_overlap, num_evolutions, evolutions, use_case, _show_indicator)\u001b[0m\n\u001b[1;32m    945\u001b[0m     max_goldens_per_context \u001b[39m=\u001b[39m \u001b[39m1\u001b[39m\n\u001b[1;32m    946\u001b[0m num_context \u001b[39m=\u001b[39m math\u001b[39m.\u001b[39mfloor(\n\u001b[1;32m    947\u001b[0m     max_goldens_per_document \u001b[39m/\u001b[39m max_goldens_per_context\n\u001b[1;32m    948\u001b[0m )\n\u001b[0;32m--> 949\u001b[0m contexts, source_files \u001b[39m=\u001b[39m \u001b[39mself\u001b[39;49m\u001b[39m.\u001b[39;49mcontext_generator\u001b[39m.\u001b[39;49mgenerate_contexts(\n\u001b[1;32m    950\u001b[0m     num_context\u001b[39m=\u001b[39;49mnum_context\n\u001b[1;32m    951\u001b[0m )\n\u001b[1;32m    953\u001b[0m \u001b[39mreturn\u001b[39;00m \u001b[39mawait\u001b[39;00m \u001b[39mself\u001b[39m\u001b[39m.\u001b[39ma_generate_goldens(\n\u001b[1;32m    954\u001b[0m     contexts,\n\u001b[1;32m    955\u001b[0m     include_expected_output,\n\u001b[0;32m   (...)\u001b[0m\n\u001b[1;32m    961\u001b[0m     _show_indicator\u001b[39m=\u001b[39m\u001b[39mFalse\u001b[39;00m,\n\u001b[1;32m    962\u001b[0m )\n",
      "File \u001b[0;32m/opt/homebrew/anaconda3/envs/pdf_qa/lib/python3.10/site-packages/deepeval/synthesizer/chunking/context_generator.py:42\u001b[0m, in \u001b[0;36mContextGenerator.generate_contexts\u001b[0;34m(self, num_context, max_context_size)\u001b[0m\n\u001b[1;32m     40\u001b[0m num_chunks \u001b[39m=\u001b[39m \u001b[39mlen\u001b[39m(document_chunks)\n\u001b[1;32m     41\u001b[0m min_num_context \u001b[39m=\u001b[39m \u001b[39mmin\u001b[39m(num_context, num_chunks)\n\u001b[0;32m---> 42\u001b[0m clusters \u001b[39m=\u001b[39m \u001b[39mself\u001b[39;49m\u001b[39m.\u001b[39;49m_get_n_random_clusters(\n\u001b[1;32m     43\u001b[0m     path\u001b[39m=\u001b[39;49mpath, n\u001b[39m=\u001b[39;49mmin_num_context, cluster_size\u001b[39m=\u001b[39;49mmax_context_size\n\u001b[1;32m     44\u001b[0m )\n\u001b[1;32m     45\u001b[0m \u001b[39mfor\u001b[39;00m cluster \u001b[39min\u001b[39;00m clusters:\n\u001b[1;32m     46\u001b[0m     context \u001b[39m=\u001b[39m [chunk\u001b[39m.\u001b[39mcontent \u001b[39mfor\u001b[39;00m chunk \u001b[39min\u001b[39;00m cluster]\n",
      "File \u001b[0;32m/opt/homebrew/anaconda3/envs/pdf_qa/lib/python3.10/site-packages/deepeval/synthesizer/chunking/context_generator.py:91\u001b[0m, in \u001b[0;36mContextGenerator._get_n_random_clusters\u001b[0;34m(self, path, n, cluster_size)\u001b[0m\n\u001b[1;32m     88\u001b[0m \u001b[39mfor\u001b[39;00m chunk \u001b[39min\u001b[39;00m random_chunks:\n\u001b[1;32m     89\u001b[0m     cluster \u001b[39m=\u001b[39m [chunk]\n\u001b[1;32m     90\u001b[0m     cluster\u001b[39m.\u001b[39mextend(\n\u001b[0;32m---> 91\u001b[0m         \u001b[39mself\u001b[39;49m\u001b[39m.\u001b[39;49m_get_n_other_similar_chunks(\n\u001b[1;32m     92\u001b[0m             path\u001b[39m=\u001b[39;49mpath, query_chunk\u001b[39m=\u001b[39;49mchunk, n\u001b[39m=\u001b[39;49mcluster_size \u001b[39m-\u001b[39;49m \u001b[39m1\u001b[39;49m\n\u001b[1;32m     93\u001b[0m         )\n\u001b[1;32m     94\u001b[0m     )\n\u001b[1;32m     95\u001b[0m     chunk_cluster\u001b[39m.\u001b[39mappend(cluster)\n\u001b[1;32m     96\u001b[0m \u001b[39mreturn\u001b[39;00m chunk_cluster\n",
      "File \u001b[0;32m/opt/homebrew/anaconda3/envs/pdf_qa/lib/python3.10/site-packages/deepeval/synthesizer/chunking/context_generator.py:121\u001b[0m, in \u001b[0;36mContextGenerator._get_n_other_similar_chunks\u001b[0;34m(self, path, query_chunk, n, threshold)\u001b[0m\n\u001b[1;32m    119\u001b[0m \u001b[39m# Confine n random chunks in case not enough chunks\u001b[39;00m\n\u001b[1;32m    120\u001b[0m n \u001b[39m=\u001b[39m \u001b[39mmin\u001b[39m(n, \u001b[39mlen\u001b[39m(document_chunks))\n\u001b[0;32m--> 121\u001b[0m query_embedding \u001b[39m=\u001b[39m \u001b[39mself\u001b[39;49m\u001b[39m.\u001b[39;49membedder\u001b[39m.\u001b[39;49membed_text(query_chunk\u001b[39m.\u001b[39;49mcontent)\n\u001b[1;32m    122\u001b[0m similar_chunks \u001b[39m=\u001b[39m \u001b[39mNone\u001b[39;00m\n\u001b[1;32m    124\u001b[0m similarities \u001b[39m=\u001b[39m []\n",
      "File \u001b[0;32m/opt/homebrew/anaconda3/envs/pdf_qa/lib/python3.10/site-packages/deepeval/models/openai_embedding_model.py:80\u001b[0m, in \u001b[0;36mOpenAIEmbeddingModel.embed_text\u001b[0;34m(self, text)\u001b[0m\n\u001b[1;32m     78\u001b[0m \u001b[39mdef\u001b[39;00m \u001b[39membed_text\u001b[39m(\u001b[39mself\u001b[39m, text: \u001b[39mstr\u001b[39m) \u001b[39m-\u001b[39m\u001b[39m>\u001b[39m List[\u001b[39mfloat\u001b[39m]:\n\u001b[1;32m     79\u001b[0m     embedding_model \u001b[39m=\u001b[39m \u001b[39mself\u001b[39m\u001b[39m.\u001b[39mload_model()\n\u001b[0;32m---> 80\u001b[0m     \u001b[39mreturn\u001b[39;00m embedding_model\u001b[39m.\u001b[39;49membed_query(text)\n",
      "File \u001b[0;32m/opt/homebrew/anaconda3/envs/pdf_qa/lib/python3.10/site-packages/langchain_openai/embeddings/base.py:625\u001b[0m, in \u001b[0;36mOpenAIEmbeddings.embed_query\u001b[0;34m(self, text)\u001b[0m\n\u001b[1;32m    616\u001b[0m \u001b[39mdef\u001b[39;00m \u001b[39membed_query\u001b[39m(\u001b[39mself\u001b[39m, text: \u001b[39mstr\u001b[39m) \u001b[39m-\u001b[39m\u001b[39m>\u001b[39m List[\u001b[39mfloat\u001b[39m]:\n\u001b[1;32m    617\u001b[0m \u001b[39m    \u001b[39m\u001b[39m\"\"\"Call out to OpenAI's embedding endpoint for embedding query text.\u001b[39;00m\n\u001b[1;32m    618\u001b[0m \n\u001b[1;32m    619\u001b[0m \u001b[39m    Args:\u001b[39;00m\n\u001b[0;32m   (...)\u001b[0m\n\u001b[1;32m    623\u001b[0m \u001b[39m        Embedding for the text.\u001b[39;00m\n\u001b[1;32m    624\u001b[0m \u001b[39m    \"\"\"\u001b[39;00m\n\u001b[0;32m--> 625\u001b[0m     \u001b[39mreturn\u001b[39;00m \u001b[39mself\u001b[39;49m\u001b[39m.\u001b[39;49membed_documents([text])[\u001b[39m0\u001b[39m]\n",
      "File \u001b[0;32m/opt/homebrew/anaconda3/envs/pdf_qa/lib/python3.10/site-packages/langchain_openai/embeddings/base.py:585\u001b[0m, in \u001b[0;36mOpenAIEmbeddings.embed_documents\u001b[0;34m(self, texts, chunk_size)\u001b[0m\n\u001b[1;32m    582\u001b[0m \u001b[39m# NOTE: to keep things simple, we assume the list may contain texts longer\u001b[39;00m\n\u001b[1;32m    583\u001b[0m \u001b[39m#       than the maximum context and use length-safe embedding function.\u001b[39;00m\n\u001b[1;32m    584\u001b[0m engine \u001b[39m=\u001b[39m cast(\u001b[39mstr\u001b[39m, \u001b[39mself\u001b[39m\u001b[39m.\u001b[39mdeployment)\n\u001b[0;32m--> 585\u001b[0m \u001b[39mreturn\u001b[39;00m \u001b[39mself\u001b[39;49m\u001b[39m.\u001b[39;49m_get_len_safe_embeddings(texts, engine\u001b[39m=\u001b[39;49mengine)\n",
      "File \u001b[0;32m/opt/homebrew/anaconda3/envs/pdf_qa/lib/python3.10/site-packages/langchain_openai/embeddings/base.py:483\u001b[0m, in \u001b[0;36mOpenAIEmbeddings._get_len_safe_embeddings\u001b[0;34m(self, texts, engine, chunk_size)\u001b[0m\n\u001b[1;32m    481\u001b[0m batched_embeddings: List[List[\u001b[39mfloat\u001b[39m]] \u001b[39m=\u001b[39m []\n\u001b[1;32m    482\u001b[0m \u001b[39mfor\u001b[39;00m i \u001b[39min\u001b[39;00m _iter:\n\u001b[0;32m--> 483\u001b[0m     response \u001b[39m=\u001b[39m \u001b[39mself\u001b[39;49m\u001b[39m.\u001b[39;49mclient\u001b[39m.\u001b[39;49mcreate(\n\u001b[1;32m    484\u001b[0m         \u001b[39minput\u001b[39;49m\u001b[39m=\u001b[39;49mtokens[i : i \u001b[39m+\u001b[39;49m _chunk_size], \u001b[39m*\u001b[39;49m\u001b[39m*\u001b[39;49m\u001b[39mself\u001b[39;49m\u001b[39m.\u001b[39;49m_invocation_params\n\u001b[1;32m    485\u001b[0m     )\n\u001b[1;32m    486\u001b[0m     \u001b[39mif\u001b[39;00m \u001b[39mnot\u001b[39;00m \u001b[39misinstance\u001b[39m(response, \u001b[39mdict\u001b[39m):\n\u001b[1;32m    487\u001b[0m         response \u001b[39m=\u001b[39m response\u001b[39m.\u001b[39mmodel_dump()\n",
      "File \u001b[0;32m/opt/homebrew/anaconda3/envs/pdf_qa/lib/python3.10/site-packages/openai/resources/embeddings.py:125\u001b[0m, in \u001b[0;36mEmbeddings.create\u001b[0;34m(self, input, model, dimensions, encoding_format, user, extra_headers, extra_query, extra_body, timeout)\u001b[0m\n\u001b[1;32m    119\u001b[0m         embedding\u001b[39m.\u001b[39membedding \u001b[39m=\u001b[39m np\u001b[39m.\u001b[39mfrombuffer(  \u001b[39m# type: ignore[no-untyped-call]\u001b[39;00m\n\u001b[1;32m    120\u001b[0m             base64\u001b[39m.\u001b[39mb64decode(data), dtype\u001b[39m=\u001b[39m\u001b[39m\"\u001b[39m\u001b[39mfloat32\u001b[39m\u001b[39m\"\u001b[39m\n\u001b[1;32m    121\u001b[0m         )\u001b[39m.\u001b[39mtolist()\n\u001b[1;32m    123\u001b[0m     \u001b[39mreturn\u001b[39;00m obj\n\u001b[0;32m--> 125\u001b[0m \u001b[39mreturn\u001b[39;00m \u001b[39mself\u001b[39;49m\u001b[39m.\u001b[39;49m_post(\n\u001b[1;32m    126\u001b[0m     \u001b[39m\"\u001b[39;49m\u001b[39m/embeddings\u001b[39;49m\u001b[39m\"\u001b[39;49m,\n\u001b[1;32m    127\u001b[0m     body\u001b[39m=\u001b[39;49mmaybe_transform(params, embedding_create_params\u001b[39m.\u001b[39;49mEmbeddingCreateParams),\n\u001b[1;32m    128\u001b[0m     options\u001b[39m=\u001b[39;49mmake_request_options(\n\u001b[1;32m    129\u001b[0m         extra_headers\u001b[39m=\u001b[39;49mextra_headers,\n\u001b[1;32m    130\u001b[0m         extra_query\u001b[39m=\u001b[39;49mextra_query,\n\u001b[1;32m    131\u001b[0m         extra_body\u001b[39m=\u001b[39;49mextra_body,\n\u001b[1;32m    132\u001b[0m         timeout\u001b[39m=\u001b[39;49mtimeout,\n\u001b[1;32m    133\u001b[0m         post_parser\u001b[39m=\u001b[39;49mparser,\n\u001b[1;32m    134\u001b[0m     ),\n\u001b[1;32m    135\u001b[0m     cast_to\u001b[39m=\u001b[39;49mCreateEmbeddingResponse,\n\u001b[1;32m    136\u001b[0m )\n",
      "File \u001b[0;32m/opt/homebrew/anaconda3/envs/pdf_qa/lib/python3.10/site-packages/openai/_base_client.py:1260\u001b[0m, in \u001b[0;36mSyncAPIClient.post\u001b[0;34m(self, path, cast_to, body, options, files, stream, stream_cls)\u001b[0m\n\u001b[1;32m   1246\u001b[0m \u001b[39mdef\u001b[39;00m \u001b[39mpost\u001b[39m(\n\u001b[1;32m   1247\u001b[0m     \u001b[39mself\u001b[39m,\n\u001b[1;32m   1248\u001b[0m     path: \u001b[39mstr\u001b[39m,\n\u001b[0;32m   (...)\u001b[0m\n\u001b[1;32m   1255\u001b[0m     stream_cls: \u001b[39mtype\u001b[39m[_StreamT] \u001b[39m|\u001b[39m \u001b[39mNone\u001b[39;00m \u001b[39m=\u001b[39m \u001b[39mNone\u001b[39;00m,\n\u001b[1;32m   1256\u001b[0m ) \u001b[39m-\u001b[39m\u001b[39m>\u001b[39m ResponseT \u001b[39m|\u001b[39m _StreamT:\n\u001b[1;32m   1257\u001b[0m     opts \u001b[39m=\u001b[39m FinalRequestOptions\u001b[39m.\u001b[39mconstruct(\n\u001b[1;32m   1258\u001b[0m         method\u001b[39m=\u001b[39m\u001b[39m\"\u001b[39m\u001b[39mpost\u001b[39m\u001b[39m\"\u001b[39m, url\u001b[39m=\u001b[39mpath, json_data\u001b[39m=\u001b[39mbody, files\u001b[39m=\u001b[39mto_httpx_files(files), \u001b[39m*\u001b[39m\u001b[39m*\u001b[39moptions\n\u001b[1;32m   1259\u001b[0m     )\n\u001b[0;32m-> 1260\u001b[0m     \u001b[39mreturn\u001b[39;00m cast(ResponseT, \u001b[39mself\u001b[39;49m\u001b[39m.\u001b[39;49mrequest(cast_to, opts, stream\u001b[39m=\u001b[39;49mstream, stream_cls\u001b[39m=\u001b[39;49mstream_cls))\n",
      "File \u001b[0;32m/opt/homebrew/anaconda3/envs/pdf_qa/lib/python3.10/site-packages/openai/_base_client.py:937\u001b[0m, in \u001b[0;36mSyncAPIClient.request\u001b[0;34m(self, cast_to, options, remaining_retries, stream, stream_cls)\u001b[0m\n\u001b[1;32m    928\u001b[0m \u001b[39mdef\u001b[39;00m \u001b[39mrequest\u001b[39m(\n\u001b[1;32m    929\u001b[0m     \u001b[39mself\u001b[39m,\n\u001b[1;32m    930\u001b[0m     cast_to: Type[ResponseT],\n\u001b[0;32m   (...)\u001b[0m\n\u001b[1;32m    935\u001b[0m     stream_cls: \u001b[39mtype\u001b[39m[_StreamT] \u001b[39m|\u001b[39m \u001b[39mNone\u001b[39;00m \u001b[39m=\u001b[39m \u001b[39mNone\u001b[39;00m,\n\u001b[1;32m    936\u001b[0m ) \u001b[39m-\u001b[39m\u001b[39m>\u001b[39m ResponseT \u001b[39m|\u001b[39m _StreamT:\n\u001b[0;32m--> 937\u001b[0m     \u001b[39mreturn\u001b[39;00m \u001b[39mself\u001b[39;49m\u001b[39m.\u001b[39;49m_request(\n\u001b[1;32m    938\u001b[0m         cast_to\u001b[39m=\u001b[39;49mcast_to,\n\u001b[1;32m    939\u001b[0m         options\u001b[39m=\u001b[39;49moptions,\n\u001b[1;32m    940\u001b[0m         stream\u001b[39m=\u001b[39;49mstream,\n\u001b[1;32m    941\u001b[0m         stream_cls\u001b[39m=\u001b[39;49mstream_cls,\n\u001b[1;32m    942\u001b[0m         remaining_retries\u001b[39m=\u001b[39;49mremaining_retries,\n\u001b[1;32m    943\u001b[0m     )\n",
      "File \u001b[0;32m/opt/homebrew/anaconda3/envs/pdf_qa/lib/python3.10/site-packages/openai/_base_client.py:973\u001b[0m, in \u001b[0;36mSyncAPIClient._request\u001b[0;34m(self, cast_to, options, remaining_retries, stream, stream_cls)\u001b[0m\n\u001b[1;32m    970\u001b[0m log\u001b[39m.\u001b[39mdebug(\u001b[39m\"\u001b[39m\u001b[39mSending HTTP Request: \u001b[39m\u001b[39m%s\u001b[39;00m\u001b[39m \u001b[39m\u001b[39m%s\u001b[39;00m\u001b[39m\"\u001b[39m, request\u001b[39m.\u001b[39mmethod, request\u001b[39m.\u001b[39murl)\n\u001b[1;32m    972\u001b[0m \u001b[39mtry\u001b[39;00m:\n\u001b[0;32m--> 973\u001b[0m     response \u001b[39m=\u001b[39m \u001b[39mself\u001b[39;49m\u001b[39m.\u001b[39;49m_client\u001b[39m.\u001b[39;49msend(\n\u001b[1;32m    974\u001b[0m         request,\n\u001b[1;32m    975\u001b[0m         stream\u001b[39m=\u001b[39;49mstream \u001b[39mor\u001b[39;49;00m \u001b[39mself\u001b[39;49m\u001b[39m.\u001b[39;49m_should_stream_response_body(request\u001b[39m=\u001b[39;49mrequest),\n\u001b[1;32m    976\u001b[0m         \u001b[39m*\u001b[39;49m\u001b[39m*\u001b[39;49mkwargs,\n\u001b[1;32m    977\u001b[0m     )\n\u001b[1;32m    978\u001b[0m \u001b[39mexcept\u001b[39;00m httpx\u001b[39m.\u001b[39mTimeoutException \u001b[39mas\u001b[39;00m err:\n\u001b[1;32m    979\u001b[0m     log\u001b[39m.\u001b[39mdebug(\u001b[39m\"\u001b[39m\u001b[39mEncountered httpx.TimeoutException\u001b[39m\u001b[39m\"\u001b[39m, exc_info\u001b[39m=\u001b[39m\u001b[39mTrue\u001b[39;00m)\n",
      "File \u001b[0;32m/opt/homebrew/anaconda3/envs/pdf_qa/lib/python3.10/site-packages/httpx/_client.py:926\u001b[0m, in \u001b[0;36mClient.send\u001b[0;34m(self, request, stream, auth, follow_redirects)\u001b[0m\n\u001b[1;32m    922\u001b[0m \u001b[39mself\u001b[39m\u001b[39m.\u001b[39m_set_timeout(request)\n\u001b[1;32m    924\u001b[0m auth \u001b[39m=\u001b[39m \u001b[39mself\u001b[39m\u001b[39m.\u001b[39m_build_request_auth(request, auth)\n\u001b[0;32m--> 926\u001b[0m response \u001b[39m=\u001b[39m \u001b[39mself\u001b[39;49m\u001b[39m.\u001b[39;49m_send_handling_auth(\n\u001b[1;32m    927\u001b[0m     request,\n\u001b[1;32m    928\u001b[0m     auth\u001b[39m=\u001b[39;49mauth,\n\u001b[1;32m    929\u001b[0m     follow_redirects\u001b[39m=\u001b[39;49mfollow_redirects,\n\u001b[1;32m    930\u001b[0m     history\u001b[39m=\u001b[39;49m[],\n\u001b[1;32m    931\u001b[0m )\n\u001b[1;32m    932\u001b[0m \u001b[39mtry\u001b[39;00m:\n\u001b[1;32m    933\u001b[0m     \u001b[39mif\u001b[39;00m \u001b[39mnot\u001b[39;00m stream:\n",
      "File \u001b[0;32m/opt/homebrew/anaconda3/envs/pdf_qa/lib/python3.10/site-packages/httpx/_client.py:954\u001b[0m, in \u001b[0;36mClient._send_handling_auth\u001b[0;34m(self, request, auth, follow_redirects, history)\u001b[0m\n\u001b[1;32m    951\u001b[0m request \u001b[39m=\u001b[39m \u001b[39mnext\u001b[39m(auth_flow)\n\u001b[1;32m    953\u001b[0m \u001b[39mwhile\u001b[39;00m \u001b[39mTrue\u001b[39;00m:\n\u001b[0;32m--> 954\u001b[0m     response \u001b[39m=\u001b[39m \u001b[39mself\u001b[39;49m\u001b[39m.\u001b[39;49m_send_handling_redirects(\n\u001b[1;32m    955\u001b[0m         request,\n\u001b[1;32m    956\u001b[0m         follow_redirects\u001b[39m=\u001b[39;49mfollow_redirects,\n\u001b[1;32m    957\u001b[0m         history\u001b[39m=\u001b[39;49mhistory,\n\u001b[1;32m    958\u001b[0m     )\n\u001b[1;32m    959\u001b[0m     \u001b[39mtry\u001b[39;00m:\n\u001b[1;32m    960\u001b[0m         \u001b[39mtry\u001b[39;00m:\n",
      "File \u001b[0;32m/opt/homebrew/anaconda3/envs/pdf_qa/lib/python3.10/site-packages/httpx/_client.py:991\u001b[0m, in \u001b[0;36mClient._send_handling_redirects\u001b[0;34m(self, request, follow_redirects, history)\u001b[0m\n\u001b[1;32m    988\u001b[0m \u001b[39mfor\u001b[39;00m hook \u001b[39min\u001b[39;00m \u001b[39mself\u001b[39m\u001b[39m.\u001b[39m_event_hooks[\u001b[39m\"\u001b[39m\u001b[39mrequest\u001b[39m\u001b[39m\"\u001b[39m]:\n\u001b[1;32m    989\u001b[0m     hook(request)\n\u001b[0;32m--> 991\u001b[0m response \u001b[39m=\u001b[39m \u001b[39mself\u001b[39;49m\u001b[39m.\u001b[39;49m_send_single_request(request)\n\u001b[1;32m    992\u001b[0m \u001b[39mtry\u001b[39;00m:\n\u001b[1;32m    993\u001b[0m     \u001b[39mfor\u001b[39;00m hook \u001b[39min\u001b[39;00m \u001b[39mself\u001b[39m\u001b[39m.\u001b[39m_event_hooks[\u001b[39m\"\u001b[39m\u001b[39mresponse\u001b[39m\u001b[39m\"\u001b[39m]:\n",
      "File \u001b[0;32m/opt/homebrew/anaconda3/envs/pdf_qa/lib/python3.10/site-packages/httpx/_client.py:1027\u001b[0m, in \u001b[0;36mClient._send_single_request\u001b[0;34m(self, request)\u001b[0m\n\u001b[1;32m   1022\u001b[0m     \u001b[39mraise\u001b[39;00m \u001b[39mRuntimeError\u001b[39;00m(\n\u001b[1;32m   1023\u001b[0m         \u001b[39m\"\u001b[39m\u001b[39mAttempted to send an async request with a sync Client instance.\u001b[39m\u001b[39m\"\u001b[39m\n\u001b[1;32m   1024\u001b[0m     )\n\u001b[1;32m   1026\u001b[0m \u001b[39mwith\u001b[39;00m request_context(request\u001b[39m=\u001b[39mrequest):\n\u001b[0;32m-> 1027\u001b[0m     response \u001b[39m=\u001b[39m transport\u001b[39m.\u001b[39;49mhandle_request(request)\n\u001b[1;32m   1029\u001b[0m \u001b[39massert\u001b[39;00m \u001b[39misinstance\u001b[39m(response\u001b[39m.\u001b[39mstream, SyncByteStream)\n\u001b[1;32m   1031\u001b[0m response\u001b[39m.\u001b[39mrequest \u001b[39m=\u001b[39m request\n",
      "File \u001b[0;32m/opt/homebrew/anaconda3/envs/pdf_qa/lib/python3.10/site-packages/httpx/_transports/default.py:236\u001b[0m, in \u001b[0;36mHTTPTransport.handle_request\u001b[0;34m(self, request)\u001b[0m\n\u001b[1;32m    223\u001b[0m req \u001b[39m=\u001b[39m httpcore\u001b[39m.\u001b[39mRequest(\n\u001b[1;32m    224\u001b[0m     method\u001b[39m=\u001b[39mrequest\u001b[39m.\u001b[39mmethod,\n\u001b[1;32m    225\u001b[0m     url\u001b[39m=\u001b[39mhttpcore\u001b[39m.\u001b[39mURL(\n\u001b[0;32m   (...)\u001b[0m\n\u001b[1;32m    233\u001b[0m     extensions\u001b[39m=\u001b[39mrequest\u001b[39m.\u001b[39mextensions,\n\u001b[1;32m    234\u001b[0m )\n\u001b[1;32m    235\u001b[0m \u001b[39mwith\u001b[39;00m map_httpcore_exceptions():\n\u001b[0;32m--> 236\u001b[0m     resp \u001b[39m=\u001b[39m \u001b[39mself\u001b[39;49m\u001b[39m.\u001b[39;49m_pool\u001b[39m.\u001b[39;49mhandle_request(req)\n\u001b[1;32m    238\u001b[0m \u001b[39massert\u001b[39;00m \u001b[39misinstance\u001b[39m(resp\u001b[39m.\u001b[39mstream, typing\u001b[39m.\u001b[39mIterable)\n\u001b[1;32m    240\u001b[0m \u001b[39mreturn\u001b[39;00m Response(\n\u001b[1;32m    241\u001b[0m     status_code\u001b[39m=\u001b[39mresp\u001b[39m.\u001b[39mstatus,\n\u001b[1;32m    242\u001b[0m     headers\u001b[39m=\u001b[39mresp\u001b[39m.\u001b[39mheaders,\n\u001b[1;32m    243\u001b[0m     stream\u001b[39m=\u001b[39mResponseStream(resp\u001b[39m.\u001b[39mstream),\n\u001b[1;32m    244\u001b[0m     extensions\u001b[39m=\u001b[39mresp\u001b[39m.\u001b[39mextensions,\n\u001b[1;32m    245\u001b[0m )\n",
      "File \u001b[0;32m/opt/homebrew/anaconda3/envs/pdf_qa/lib/python3.10/site-packages/httpcore/_sync/connection_pool.py:216\u001b[0m, in \u001b[0;36mConnectionPool.handle_request\u001b[0;34m(self, request)\u001b[0m\n\u001b[1;32m    213\u001b[0m         closing \u001b[39m=\u001b[39m \u001b[39mself\u001b[39m\u001b[39m.\u001b[39m_assign_requests_to_connections()\n\u001b[1;32m    215\u001b[0m     \u001b[39mself\u001b[39m\u001b[39m.\u001b[39m_close_connections(closing)\n\u001b[0;32m--> 216\u001b[0m     \u001b[39mraise\u001b[39;00m exc \u001b[39mfrom\u001b[39;00m \u001b[39mNone\u001b[39;00m\n\u001b[1;32m    218\u001b[0m \u001b[39m# Return the response. Note that in this case we still have to manage\u001b[39;00m\n\u001b[1;32m    219\u001b[0m \u001b[39m# the point at which the response is closed.\u001b[39;00m\n\u001b[1;32m    220\u001b[0m \u001b[39massert\u001b[39;00m \u001b[39misinstance\u001b[39m(response\u001b[39m.\u001b[39mstream, Iterable)\n",
      "File \u001b[0;32m/opt/homebrew/anaconda3/envs/pdf_qa/lib/python3.10/site-packages/httpcore/_sync/connection_pool.py:196\u001b[0m, in \u001b[0;36mConnectionPool.handle_request\u001b[0;34m(self, request)\u001b[0m\n\u001b[1;32m    192\u001b[0m connection \u001b[39m=\u001b[39m pool_request\u001b[39m.\u001b[39mwait_for_connection(timeout\u001b[39m=\u001b[39mtimeout)\n\u001b[1;32m    194\u001b[0m \u001b[39mtry\u001b[39;00m:\n\u001b[1;32m    195\u001b[0m     \u001b[39m# Send the request on the assigned connection.\u001b[39;00m\n\u001b[0;32m--> 196\u001b[0m     response \u001b[39m=\u001b[39m connection\u001b[39m.\u001b[39;49mhandle_request(\n\u001b[1;32m    197\u001b[0m         pool_request\u001b[39m.\u001b[39;49mrequest\n\u001b[1;32m    198\u001b[0m     )\n\u001b[1;32m    199\u001b[0m \u001b[39mexcept\u001b[39;00m ConnectionNotAvailable:\n\u001b[1;32m    200\u001b[0m     \u001b[39m# In some cases a connection may initially be available to\u001b[39;00m\n\u001b[1;32m    201\u001b[0m     \u001b[39m# handle a request, but then become unavailable.\u001b[39;00m\n\u001b[1;32m    202\u001b[0m     \u001b[39m#\u001b[39;00m\n\u001b[1;32m    203\u001b[0m     \u001b[39m# In this case we clear the connection and try again.\u001b[39;00m\n\u001b[1;32m    204\u001b[0m     pool_request\u001b[39m.\u001b[39mclear_connection()\n",
      "File \u001b[0;32m/opt/homebrew/anaconda3/envs/pdf_qa/lib/python3.10/site-packages/httpcore/_sync/connection.py:101\u001b[0m, in \u001b[0;36mHTTPConnection.handle_request\u001b[0;34m(self, request)\u001b[0m\n\u001b[1;32m     98\u001b[0m     \u001b[39mself\u001b[39m\u001b[39m.\u001b[39m_connect_failed \u001b[39m=\u001b[39m \u001b[39mTrue\u001b[39;00m\n\u001b[1;32m     99\u001b[0m     \u001b[39mraise\u001b[39;00m exc\n\u001b[0;32m--> 101\u001b[0m \u001b[39mreturn\u001b[39;00m \u001b[39mself\u001b[39;49m\u001b[39m.\u001b[39;49m_connection\u001b[39m.\u001b[39;49mhandle_request(request)\n",
      "File \u001b[0;32m/opt/homebrew/anaconda3/envs/pdf_qa/lib/python3.10/site-packages/httpcore/_sync/http11.py:143\u001b[0m, in \u001b[0;36mHTTP11Connection.handle_request\u001b[0;34m(self, request)\u001b[0m\n\u001b[1;32m    141\u001b[0m     \u001b[39mwith\u001b[39;00m Trace(\u001b[39m\"\u001b[39m\u001b[39mresponse_closed\u001b[39m\u001b[39m\"\u001b[39m, logger, request) \u001b[39mas\u001b[39;00m trace:\n\u001b[1;32m    142\u001b[0m         \u001b[39mself\u001b[39m\u001b[39m.\u001b[39m_response_closed()\n\u001b[0;32m--> 143\u001b[0m \u001b[39mraise\u001b[39;00m exc\n",
      "File \u001b[0;32m/opt/homebrew/anaconda3/envs/pdf_qa/lib/python3.10/site-packages/httpcore/_sync/http11.py:113\u001b[0m, in \u001b[0;36mHTTP11Connection.handle_request\u001b[0;34m(self, request)\u001b[0m\n\u001b[1;32m    102\u001b[0m     \u001b[39mpass\u001b[39;00m\n\u001b[1;32m    104\u001b[0m \u001b[39mwith\u001b[39;00m Trace(\n\u001b[1;32m    105\u001b[0m     \u001b[39m\"\u001b[39m\u001b[39mreceive_response_headers\u001b[39m\u001b[39m\"\u001b[39m, logger, request, kwargs\n\u001b[1;32m    106\u001b[0m ) \u001b[39mas\u001b[39;00m trace:\n\u001b[1;32m    107\u001b[0m     (\n\u001b[1;32m    108\u001b[0m         http_version,\n\u001b[1;32m    109\u001b[0m         status,\n\u001b[1;32m    110\u001b[0m         reason_phrase,\n\u001b[1;32m    111\u001b[0m         headers,\n\u001b[1;32m    112\u001b[0m         trailing_data,\n\u001b[0;32m--> 113\u001b[0m     ) \u001b[39m=\u001b[39m \u001b[39mself\u001b[39;49m\u001b[39m.\u001b[39;49m_receive_response_headers(\u001b[39m*\u001b[39;49m\u001b[39m*\u001b[39;49mkwargs)\n\u001b[1;32m    114\u001b[0m     trace\u001b[39m.\u001b[39mreturn_value \u001b[39m=\u001b[39m (\n\u001b[1;32m    115\u001b[0m         http_version,\n\u001b[1;32m    116\u001b[0m         status,\n\u001b[1;32m    117\u001b[0m         reason_phrase,\n\u001b[1;32m    118\u001b[0m         headers,\n\u001b[1;32m    119\u001b[0m     )\n\u001b[1;32m    121\u001b[0m network_stream \u001b[39m=\u001b[39m \u001b[39mself\u001b[39m\u001b[39m.\u001b[39m_network_stream\n",
      "File \u001b[0;32m/opt/homebrew/anaconda3/envs/pdf_qa/lib/python3.10/site-packages/httpcore/_sync/http11.py:186\u001b[0m, in \u001b[0;36mHTTP11Connection._receive_response_headers\u001b[0;34m(self, request)\u001b[0m\n\u001b[1;32m    183\u001b[0m timeout \u001b[39m=\u001b[39m timeouts\u001b[39m.\u001b[39mget(\u001b[39m\"\u001b[39m\u001b[39mread\u001b[39m\u001b[39m\"\u001b[39m, \u001b[39mNone\u001b[39;00m)\n\u001b[1;32m    185\u001b[0m \u001b[39mwhile\u001b[39;00m \u001b[39mTrue\u001b[39;00m:\n\u001b[0;32m--> 186\u001b[0m     event \u001b[39m=\u001b[39m \u001b[39mself\u001b[39;49m\u001b[39m.\u001b[39;49m_receive_event(timeout\u001b[39m=\u001b[39;49mtimeout)\n\u001b[1;32m    187\u001b[0m     \u001b[39mif\u001b[39;00m \u001b[39misinstance\u001b[39m(event, h11\u001b[39m.\u001b[39mResponse):\n\u001b[1;32m    188\u001b[0m         \u001b[39mbreak\u001b[39;00m\n",
      "File \u001b[0;32m/opt/homebrew/anaconda3/envs/pdf_qa/lib/python3.10/site-packages/httpcore/_sync/http11.py:224\u001b[0m, in \u001b[0;36mHTTP11Connection._receive_event\u001b[0;34m(self, timeout)\u001b[0m\n\u001b[1;32m    221\u001b[0m     event \u001b[39m=\u001b[39m \u001b[39mself\u001b[39m\u001b[39m.\u001b[39m_h11_state\u001b[39m.\u001b[39mnext_event()\n\u001b[1;32m    223\u001b[0m \u001b[39mif\u001b[39;00m event \u001b[39mis\u001b[39;00m h11\u001b[39m.\u001b[39mNEED_DATA:\n\u001b[0;32m--> 224\u001b[0m     data \u001b[39m=\u001b[39m \u001b[39mself\u001b[39;49m\u001b[39m.\u001b[39;49m_network_stream\u001b[39m.\u001b[39;49mread(\n\u001b[1;32m    225\u001b[0m         \u001b[39mself\u001b[39;49m\u001b[39m.\u001b[39;49mREAD_NUM_BYTES, timeout\u001b[39m=\u001b[39;49mtimeout\n\u001b[1;32m    226\u001b[0m     )\n\u001b[1;32m    228\u001b[0m     \u001b[39m# If we feed this case through h11 we'll raise an exception like:\u001b[39;00m\n\u001b[1;32m    229\u001b[0m     \u001b[39m#\u001b[39;00m\n\u001b[1;32m    230\u001b[0m     \u001b[39m#     httpcore.RemoteProtocolError: can't handle event type\u001b[39;00m\n\u001b[0;32m   (...)\u001b[0m\n\u001b[1;32m    234\u001b[0m     \u001b[39m# perspective. Instead we handle this case distinctly and treat\u001b[39;00m\n\u001b[1;32m    235\u001b[0m     \u001b[39m# it as a ConnectError.\u001b[39;00m\n\u001b[1;32m    236\u001b[0m     \u001b[39mif\u001b[39;00m data \u001b[39m==\u001b[39m \u001b[39mb\u001b[39m\u001b[39m\"\u001b[39m\u001b[39m\"\u001b[39m \u001b[39mand\u001b[39;00m \u001b[39mself\u001b[39m\u001b[39m.\u001b[39m_h11_state\u001b[39m.\u001b[39mtheir_state \u001b[39m==\u001b[39m h11\u001b[39m.\u001b[39mSEND_RESPONSE:\n",
      "File \u001b[0;32m/opt/homebrew/anaconda3/envs/pdf_qa/lib/python3.10/site-packages/httpcore/_backends/sync.py:126\u001b[0m, in \u001b[0;36mSyncStream.read\u001b[0;34m(self, max_bytes, timeout)\u001b[0m\n\u001b[1;32m    124\u001b[0m \u001b[39mwith\u001b[39;00m map_exceptions(exc_map):\n\u001b[1;32m    125\u001b[0m     \u001b[39mself\u001b[39m\u001b[39m.\u001b[39m_sock\u001b[39m.\u001b[39msettimeout(timeout)\n\u001b[0;32m--> 126\u001b[0m     \u001b[39mreturn\u001b[39;00m \u001b[39mself\u001b[39;49m\u001b[39m.\u001b[39;49m_sock\u001b[39m.\u001b[39;49mrecv(max_bytes)\n",
      "File \u001b[0;32m/opt/homebrew/anaconda3/envs/pdf_qa/lib/python3.10/ssl.py:1292\u001b[0m, in \u001b[0;36mSSLSocket.recv\u001b[0;34m(self, buflen, flags)\u001b[0m\n\u001b[1;32m   1288\u001b[0m     \u001b[39mif\u001b[39;00m flags \u001b[39m!=\u001b[39m \u001b[39m0\u001b[39m:\n\u001b[1;32m   1289\u001b[0m         \u001b[39mraise\u001b[39;00m \u001b[39mValueError\u001b[39;00m(\n\u001b[1;32m   1290\u001b[0m             \u001b[39m\"\u001b[39m\u001b[39mnon-zero flags not allowed in calls to recv() on \u001b[39m\u001b[39m%s\u001b[39;00m\u001b[39m\"\u001b[39m \u001b[39m%\u001b[39m\n\u001b[1;32m   1291\u001b[0m             \u001b[39mself\u001b[39m\u001b[39m.\u001b[39m\u001b[39m__class__\u001b[39m)\n\u001b[0;32m-> 1292\u001b[0m     \u001b[39mreturn\u001b[39;00m \u001b[39mself\u001b[39;49m\u001b[39m.\u001b[39;49mread(buflen)\n\u001b[1;32m   1293\u001b[0m \u001b[39melse\u001b[39;00m:\n\u001b[1;32m   1294\u001b[0m     \u001b[39mreturn\u001b[39;00m \u001b[39msuper\u001b[39m()\u001b[39m.\u001b[39mrecv(buflen, flags)\n",
      "File \u001b[0;32m/opt/homebrew/anaconda3/envs/pdf_qa/lib/python3.10/ssl.py:1165\u001b[0m, in \u001b[0;36mSSLSocket.read\u001b[0;34m(self, len, buffer)\u001b[0m\n\u001b[1;32m   1163\u001b[0m         \u001b[39mreturn\u001b[39;00m \u001b[39mself\u001b[39m\u001b[39m.\u001b[39m_sslobj\u001b[39m.\u001b[39mread(\u001b[39mlen\u001b[39m, buffer)\n\u001b[1;32m   1164\u001b[0m     \u001b[39melse\u001b[39;00m:\n\u001b[0;32m-> 1165\u001b[0m         \u001b[39mreturn\u001b[39;00m \u001b[39mself\u001b[39;49m\u001b[39m.\u001b[39;49m_sslobj\u001b[39m.\u001b[39;49mread(\u001b[39mlen\u001b[39;49m)\n\u001b[1;32m   1166\u001b[0m \u001b[39mexcept\u001b[39;00m SSLError \u001b[39mas\u001b[39;00m x:\n\u001b[1;32m   1167\u001b[0m     \u001b[39mif\u001b[39;00m x\u001b[39m.\u001b[39margs[\u001b[39m0\u001b[39m] \u001b[39m==\u001b[39m SSL_ERROR_EOF \u001b[39mand\u001b[39;00m \u001b[39mself\u001b[39m\u001b[39m.\u001b[39msuppress_ragged_eofs:\n",
      "\u001b[0;31mKeyboardInterrupt\u001b[0m: "
     ]
    }
   ],
   "source": [
    "from deepeval.dataset import EvaluationDataset\n",
    "from deepeval.synthesizer import Synthesizer\n",
    "import glob\n",
    "import os\n",
    "import json\n",
    "from dotenv import load_dotenv\n",
    "load_dotenv(\"keys.env\")\n",
    "os.environ[\"OPENAI_API_KEY\"]  = os.getenv('OPENAI_API_KEY')\n",
    "pdf_files = glob.glob(\"./pdfs/*.pdf\")\n",
    "dataset = EvaluationDataset()\n",
    "dataset.generate_goldens_from_docs(\n",
    "    document_paths=pdf_files,\n",
    "    max_goldens_per_document=4,\n",
    "    synthesizer = Synthesizer(model=\"gpt-4o\"),\n",
    "    include_expected_output = True\n",
    ")\n",
    "saved_path = dataset.save_as(\n",
    "    file_type='json',  # or 'csv'\n",
    "    directory=\"./eval_data\", \n",
    ")"
   ]
  },
  {
   "cell_type": "code",
   "execution_count": 2,
   "metadata": {},
   "outputs": [],
   "source": [
    "import pandas as pd\n",
    "\n",
    "# Define the class with a custom __str__ method\n",
    "class ExampleClass:\n",
    "    def __init__(self, name, age):\n",
    "        self.name = name\n",
    "        self.age = age\n",
    "        \n",
    "    def __str__(self):\n",
    "        # Only return the attributes as a string, without class name\n",
    "        return f'{self.name}, {self.age}'\n",
    "\n",
    "# Sample data containing class instances\n",
    "data = [\n",
    "    {'name': ExampleClass('Alice', 30), 'job': 'Engineer'},\n",
    "    {'name': ExampleClass('Bob', 25), 'job': 'Designer'}\n",
    "]\n",
    "\n",
    "# Convert the class objects to strings\n",
    "for row in data:\n",
    "    row['name'] = str(row['name'])  # Convert class instance to a clean string\n",
    "\n",
    "# # Create DataFrame\n",
    "# df = pd.DataFrame(data)\n",
    "\n",
    "# # Save to CSV\n",
    "# df.to_csv('output.csv', index=False)\n",
    "\n",
    "# print(\"Data saved to CSV.\")\n"
   ]
  },
  {
   "cell_type": "code",
   "execution_count": 4,
   "metadata": {},
   "outputs": [
    {
     "data": {
      "text/plain": [
       "<__main__.ExampleClass at 0x7fbed812a080>"
      ]
     },
     "execution_count": 4,
     "metadata": {},
     "output_type": "execute_result"
    }
   ],
   "source": [
    "temp = ExampleClass('Alice', 30)\n",
    "temp"
   ]
  },
  {
   "cell_type": "code",
   "execution_count": 1,
   "metadata": {},
   "outputs": [],
   "source": [
    "import pandas as pd\n",
    "df = pd.read_csv(\"/home/nayanc/Desktop/pdf_qa/temp.csv\")"
   ]
  },
  {
   "cell_type": "code",
   "execution_count": 2,
   "metadata": {},
   "outputs": [
    {
     "data": {
      "text/plain": [
       "Index(['Test Success', 'Test Input', 'Test Actual Output',\n",
       "       'Test Expected Output', 'Test Context', 'Test Retrieval Context',\n",
       "       'Contextual Precision Threshold', 'Contextual Precision Success',\n",
       "       'Contextual Precision Score', 'Contextual Precision Reason',\n",
       "       'Contextual Recall Threshold', 'Contextual Recall Success',\n",
       "       'Contextual Recall Score', 'Contextual Recall Reason',\n",
       "       'Contextual Relevancy Threshold', 'Contextual Relevancy Success',\n",
       "       'Contextual Relevancy Score', 'Contextual Relevancy Reason',\n",
       "       'Answer Relevancy Threshold', 'Answer Relevancy Success',\n",
       "       'Answer Relevancy Score', 'Answer Relevancy Reason',\n",
       "       'Faithfulness Threshold', 'Faithfulness Success', 'Faithfulness Score',\n",
       "       'Faithfulness Reason'],\n",
       "      dtype='object')"
      ]
     },
     "execution_count": 2,
     "metadata": {},
     "output_type": "execute_result"
    }
   ],
   "source": [
    "df.columns"
   ]
  },
  {
   "cell_type": "code",
   "execution_count": null,
   "metadata": {},
   "outputs": [],
   "source": []
  }
 ],
 "metadata": {
  "kernelspec": {
   "display_name": "airdot",
   "language": "python",
   "name": "python3"
  },
  "language_info": {
   "codemirror_mode": {
    "name": "ipython",
    "version": 3
   },
   "file_extension": ".py",
   "mimetype": "text/x-python",
   "name": "python",
   "nbconvert_exporter": "python",
   "pygments_lexer": "ipython3",
   "version": "3.10.14"
  }
 },
 "nbformat": 4,
 "nbformat_minor": 2
}
